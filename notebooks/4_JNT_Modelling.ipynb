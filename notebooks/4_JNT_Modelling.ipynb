{
 "cells": [
  {
   "cell_type": "markdown",
   "metadata": {},
   "source": [
    "# 4. Modelling"
   ]
  },
  {
   "cell_type": "markdown",
   "metadata": {},
   "source": [
    "1. Importing packages and dataset\n",
    "2. Pre-assesment of multiple regression models\n",
    "3. Feature selection\n",
    "4. Hyperparameter tuning for selected models\n",
    "5. Final model selection and results"
   ]
  },
  {
   "cell_type": "markdown",
   "metadata": {},
   "source": [
    "## 4.1. Importing packages and dataset"
   ]
  },
  {
   "cell_type": "code",
   "execution_count": 1,
   "metadata": {},
   "outputs": [],
   "source": [
    "# Import the required packages\n",
    "\n",
    "import re\n",
    "import pandas as pd\n",
    "import numpy as np\n",
    "import matplotlib.pyplot as plt\n",
    "import seaborn as sns\n",
    "sns.set()\n",
    "\n",
    "import warnings\n",
    "warnings.filterwarnings(\"ignore\")\n",
    "\n",
    "from sklearn.linear_model import LinearRegression, Ridge, Lasso, ElasticNet\n",
    "from sklearn.ensemble import RandomForestRegressor, GradientBoostingRegressor\n",
    "from sklearn.metrics import mean_absolute_error, explained_variance_score\n",
    "\n",
    "pd.set_option('display.max_colwidth', -1)\n",
    "%matplotlib inline"
   ]
  },
  {
   "cell_type": "code",
   "execution_count": 2,
   "metadata": {},
   "outputs": [],
   "source": [
    "# Import processed train and test sets and load them in dataframes\n",
    "\n",
    "# Assign paths variable\n",
    "X_train_path = 'C:/Users/javie/OneDrive/Documents/springboard_projects/Capstone-2/data/processed/X_train.csv'\n",
    "X_test_path = 'C:/Users/javie/OneDrive/Documents/springboard_projects/Capstone-2/data/processed/X_test.csv'\n",
    "y_train_path = 'C:/Users/javie/OneDrive/Documents/springboard_projects/Capstone-2/data/processed/y_train.csv'\n",
    "y_test_path = 'C:/Users/javie/OneDrive/Documents/springboard_projects/Capstone-2/data/processed/y_test.csv'\n",
    "\n",
    "# Load csv in dataframe\n",
    "X_train = pd.read_csv(X_train_path, index_col=0)\n",
    "X_test = pd.read_csv(X_test_path, index_col=0)\n",
    "y_train = pd.read_csv(y_train_path, index_col=0)\n",
    "y_test = pd.read_csv(y_test_path, index_col=0)"
   ]
  },
  {
   "cell_type": "code",
   "execution_count": 3,
   "metadata": {},
   "outputs": [],
   "source": [
    "# Import original un-processed dataset for further unscaling and interpretation of data\n",
    "\n",
    "file = 'C:/Users/javie/OneDrive/Documents/springboard_projects/Capstone-2/data/interim/clean.csv'\n",
    "orig_df = pd.read_csv(file, index_col=0)"
   ]
  },
  {
   "cell_type": "code",
   "execution_count": 4,
   "metadata": {
    "scrolled": true
   },
   "outputs": [
    {
     "data": {
      "text/plain": [
       "(3980, 48)"
      ]
     },
     "execution_count": 4,
     "metadata": {},
     "output_type": "execute_result"
    }
   ],
   "source": [
    "# Check # of columns and rows imported\n",
    "X_train.shape"
   ]
  },
  {
   "cell_type": "code",
   "execution_count": 5,
   "metadata": {},
   "outputs": [
    {
     "data": {
      "text/plain": [
       "(1706, 48)"
      ]
     },
     "execution_count": 5,
     "metadata": {},
     "output_type": "execute_result"
    }
   ],
   "source": [
    "X_test.shape"
   ]
  },
  {
   "cell_type": "code",
   "execution_count": 6,
   "metadata": {
    "scrolled": false
   },
   "outputs": [
    {
     "data": {
      "text/html": [
       "<div>\n",
       "<style scoped>\n",
       "    .dataframe tbody tr th:only-of-type {\n",
       "        vertical-align: middle;\n",
       "    }\n",
       "\n",
       "    .dataframe tbody tr th {\n",
       "        vertical-align: top;\n",
       "    }\n",
       "\n",
       "    .dataframe thead th {\n",
       "        text-align: right;\n",
       "    }\n",
       "</style>\n",
       "<table border=\"1\" class=\"dataframe\">\n",
       "  <thead>\n",
       "    <tr style=\"text-align: right;\">\n",
       "      <th></th>\n",
       "      <th>COOL_COST_log</th>\n",
       "      <th>HEAT_COST_log</th>\n",
       "      <th>WATERHEAT_COST_log</th>\n",
       "      <th>ELECT_COST_log</th>\n",
       "      <th>TOT_COST_log</th>\n",
       "    </tr>\n",
       "  </thead>\n",
       "  <tbody>\n",
       "    <tr>\n",
       "      <th>4209</th>\n",
       "      <td>5.749074</td>\n",
       "      <td>6.993841</td>\n",
       "      <td>5.958037</td>\n",
       "      <td>6.699931</td>\n",
       "      <td>7.863267</td>\n",
       "    </tr>\n",
       "    <tr>\n",
       "      <th>2209</th>\n",
       "      <td>5.959509</td>\n",
       "      <td>6.527636</td>\n",
       "      <td>5.677678</td>\n",
       "      <td>7.274084</td>\n",
       "      <td>7.938410</td>\n",
       "    </tr>\n",
       "    <tr>\n",
       "      <th>773</th>\n",
       "      <td>6.564293</td>\n",
       "      <td>5.576441</td>\n",
       "      <td>4.140114</td>\n",
       "      <td>7.045027</td>\n",
       "      <td>7.687259</td>\n",
       "    </tr>\n",
       "    <tr>\n",
       "      <th>978</th>\n",
       "      <td>0.000000</td>\n",
       "      <td>7.134126</td>\n",
       "      <td>5.958528</td>\n",
       "      <td>7.180458</td>\n",
       "      <td>7.990438</td>\n",
       "    </tr>\n",
       "    <tr>\n",
       "      <th>2010</th>\n",
       "      <td>3.736955</td>\n",
       "      <td>4.361951</td>\n",
       "      <td>5.203072</td>\n",
       "      <td>6.987878</td>\n",
       "      <td>7.231743</td>\n",
       "    </tr>\n",
       "  </tbody>\n",
       "</table>\n",
       "</div>"
      ],
      "text/plain": [
       "      COOL_COST_log  HEAT_COST_log  WATERHEAT_COST_log  ELECT_COST_log  \\\n",
       "4209  5.749074       6.993841       5.958037            6.699931         \n",
       "2209  5.959509       6.527636       5.677678            7.274084         \n",
       "773   6.564293       5.576441       4.140114            7.045027         \n",
       "978   0.000000       7.134126       5.958528            7.180458         \n",
       "2010  3.736955       4.361951       5.203072            6.987878         \n",
       "\n",
       "      TOT_COST_log  \n",
       "4209  7.863267      \n",
       "2209  7.938410      \n",
       "773   7.687259      \n",
       "978   7.990438      \n",
       "2010  7.231743      "
      ]
     },
     "execution_count": 6,
     "metadata": {},
     "output_type": "execute_result"
    }
   ],
   "source": [
    "y_train.head()"
   ]
  },
  {
   "cell_type": "markdown",
   "metadata": {},
   "source": [
    "## 4.2. Pre-assesment of multiple regression models"
   ]
  },
  {
   "cell_type": "markdown",
   "metadata": {},
   "source": [
    "In this section multiple regression algorithms will be tested with default configuration to obtain a general idea of their performance with our dataset. For this exercise we are not using cross-validation or adjusting any hyperparameter since the objective is simply to understand which algorithm would be the most adequate for predicting our target variables.\n",
    "\n",
    "The algorithms to be tested are the following:\n",
    "- Linear Regression (OLS)\n",
    "- Linear Regression with L2 regularization - Ridge\n",
    "- Linear Regression with L1 regularization - Lasso\n",
    "- Bagging ensemble method - Random Forest Regressor\n",
    "- Boosting ensemble method - Gradient Boosting Regressor"
   ]
  },
  {
   "cell_type": "markdown",
   "metadata": {},
   "source": [
    "The target variables are numerical and continuous, and because their original distribution had a long right tail a logarhitmic transformation was applied to recenter the distribution. Therefore, the out-of-box functions to calculate different performance metrics cannot be applied, namely the mean absolute error score.\n",
    "\n",
    "We will have to create our own custom function to calculate this metric."
   ]
  },
  {
   "cell_type": "code",
   "execution_count": 7,
   "metadata": {},
   "outputs": [],
   "source": [
    "# Create function to compute mean absolute error\n",
    "\n",
    "def MAE(y_true, y_pred):\n",
    "    '''Computes mean absolute error in real value from a log transformed variable'''\n",
    "    diff = 0\n",
    "    for i in range(len(y_true)):\n",
    "        diff += abs(np.exp(y_pred[i]) - np.exp(y_true.iloc[i,0]))\n",
    "    \n",
    "    mae = round(float(diff/len(y_true)), 2)\n",
    "    return mae"
   ]
  },
  {
   "cell_type": "code",
   "execution_count": 8,
   "metadata": {
    "scrolled": false
   },
   "outputs": [],
   "source": [
    "# Create fuction to assess performance of different models with our data\n",
    "\n",
    "def model_performance(reg_models, X_train, X_test, y_train, y_test):\n",
    "    '''Evaluate regression models performance with default hyperparameters on a dataset'''\n",
    "    exp_var = []\n",
    "    mae = []\n",
    "    \n",
    "    for model in reg_models:\n",
    "        m = model()\n",
    "        m_fit = m.fit(X_train, y_train)\n",
    "        y_pred = m_fit.predict(X_test)\n",
    "        \n",
    "        # Compute explained variance score and mean absolute error\n",
    "        exp_var.append(round(explained_variance_score(y_test, y_pred),3))\n",
    "        m = MAE(y_test, y_pred)\n",
    "        \n",
    "        # Undo log transformation to get meaningful mean errors\n",
    "        mae.append(m)\n",
    "\n",
    "    # Get name of the models\n",
    "    models = [re.findall(r'\\w+', str(i))[-1] for i in reg_models] \n",
    "    \n",
    "    # Create df with results\n",
    "    df = pd.DataFrame({'model':models, 'exp_var':exp_var, 'mean_abs_error':mae})\n",
    "    \n",
    "    return df"
   ]
  },
  {
   "cell_type": "code",
   "execution_count": 9,
   "metadata": {
    "scrolled": true
   },
   "outputs": [],
   "source": [
    "# Select the models to test\n",
    "models = [LinearRegression, Ridge, Lasso, RandomForestRegressor, GradientBoostingRegressor]\n",
    "\n",
    "# Define target variables, one for each type of energy use type plus the combined total\n",
    "y_train_COOL = y_train[['COOL_COST_log']]\n",
    "y_train_HEAT = y_train[['HEAT_COST_log']]\n",
    "y_train_WATER = y_train[['WATERHEAT_COST_log']]\n",
    "y_train_ELEC = y_train[['ELECT_COST_log']]\n",
    "y_train_TOT = y_train[['TOT_COST_log']]\n",
    "\n",
    "y_test_COOL = y_test[['COOL_COST_log']]\n",
    "y_test_HEAT = y_test[['HEAT_COST_log']]\n",
    "y_test_WATER = y_test[['WATERHEAT_COST_log']]\n",
    "y_test_ELEC = y_test[['ELECT_COST_log']]\n",
    "y_test_TOT = y_test[['TOT_COST_log']]\n",
    "\n",
    "# Run the tests and store the dfs with the results\n",
    "r1 = model_performance(models, X_train, X_test, y_train_COOL, y_test_COOL)\n",
    "r2 = model_performance(models, X_train, X_test, y_train_HEAT, y_test_HEAT)\n",
    "r3 = model_performance(models, X_train, X_test, y_train_WATER, y_test_WATER)\n",
    "r4 = model_performance(models, X_train, X_test, y_train_ELEC, y_test_ELEC)\n",
    "r5 = model_performance(models, X_train, X_test, y_train_TOT, y_test_TOT)"
   ]
  },
  {
   "cell_type": "code",
   "execution_count": 10,
   "metadata": {
    "scrolled": true
   },
   "outputs": [
    {
     "data": {
      "text/html": [
       "<div>\n",
       "<style scoped>\n",
       "    .dataframe tbody tr th:only-of-type {\n",
       "        vertical-align: middle;\n",
       "    }\n",
       "\n",
       "    .dataframe tbody tr th {\n",
       "        vertical-align: top;\n",
       "    }\n",
       "\n",
       "    .dataframe thead th {\n",
       "        text-align: right;\n",
       "    }\n",
       "</style>\n",
       "<table border=\"1\" class=\"dataframe\">\n",
       "  <thead>\n",
       "    <tr style=\"text-align: right;\">\n",
       "      <th></th>\n",
       "      <th>model</th>\n",
       "      <th>cool_cost_exp_var</th>\n",
       "      <th>cool_cost_mae</th>\n",
       "      <th>heat_cost_exp_var</th>\n",
       "      <th>heat_cost_mae</th>\n",
       "      <th>water_heating_exp_var</th>\n",
       "      <th>water_heating_mae</th>\n",
       "      <th>elect_cost_exp_var</th>\n",
       "      <th>elect_cost_mae</th>\n",
       "      <th>total_cost_exp_var</th>\n",
       "      <th>total_cost_mae</th>\n",
       "    </tr>\n",
       "  </thead>\n",
       "  <tbody>\n",
       "    <tr>\n",
       "      <th>0</th>\n",
       "      <td>LinearRegression</td>\n",
       "      <td>0.897</td>\n",
       "      <td>100.09</td>\n",
       "      <td>0.698</td>\n",
       "      <td>249.22</td>\n",
       "      <td>0.113</td>\n",
       "      <td>132.43</td>\n",
       "      <td>0.257</td>\n",
       "      <td>437.00</td>\n",
       "      <td>0.390</td>\n",
       "      <td>725.71</td>\n",
       "    </tr>\n",
       "    <tr>\n",
       "      <th>1</th>\n",
       "      <td>Ridge</td>\n",
       "      <td>0.897</td>\n",
       "      <td>100.15</td>\n",
       "      <td>0.698</td>\n",
       "      <td>248.80</td>\n",
       "      <td>0.114</td>\n",
       "      <td>132.38</td>\n",
       "      <td>0.258</td>\n",
       "      <td>436.70</td>\n",
       "      <td>0.390</td>\n",
       "      <td>725.31</td>\n",
       "    </tr>\n",
       "    <tr>\n",
       "      <th>2</th>\n",
       "      <td>Lasso</td>\n",
       "      <td>0.000</td>\n",
       "      <td>190.81</td>\n",
       "      <td>0.000</td>\n",
       "      <td>358.35</td>\n",
       "      <td>0.000</td>\n",
       "      <td>142.45</td>\n",
       "      <td>0.000</td>\n",
       "      <td>509.57</td>\n",
       "      <td>0.000</td>\n",
       "      <td>909.53</td>\n",
       "    </tr>\n",
       "    <tr>\n",
       "      <th>3</th>\n",
       "      <td>RandomForestRegressor</td>\n",
       "      <td>0.909</td>\n",
       "      <td>102.08</td>\n",
       "      <td>0.687</td>\n",
       "      <td>249.75</td>\n",
       "      <td>0.067</td>\n",
       "      <td>135.61</td>\n",
       "      <td>0.226</td>\n",
       "      <td>439.15</td>\n",
       "      <td>0.368</td>\n",
       "      <td>737.58</td>\n",
       "    </tr>\n",
       "    <tr>\n",
       "      <th>4</th>\n",
       "      <td>GradientBoostingRegressor</td>\n",
       "      <td>0.914</td>\n",
       "      <td>100.07</td>\n",
       "      <td>0.712</td>\n",
       "      <td>247.14</td>\n",
       "      <td>0.129</td>\n",
       "      <td>131.84</td>\n",
       "      <td>0.255</td>\n",
       "      <td>434.51</td>\n",
       "      <td>0.398</td>\n",
       "      <td>719.39</td>\n",
       "    </tr>\n",
       "  </tbody>\n",
       "</table>\n",
       "</div>"
      ],
      "text/plain": [
       "                       model  cool_cost_exp_var  cool_cost_mae  \\\n",
       "0  LinearRegression           0.897              100.09          \n",
       "1  Ridge                      0.897              100.15          \n",
       "2  Lasso                      0.000              190.81          \n",
       "3  RandomForestRegressor      0.909              102.08          \n",
       "4  GradientBoostingRegressor  0.914              100.07          \n",
       "\n",
       "   heat_cost_exp_var  heat_cost_mae  water_heating_exp_var  water_heating_mae  \\\n",
       "0  0.698              249.22         0.113                  132.43              \n",
       "1  0.698              248.80         0.114                  132.38              \n",
       "2  0.000              358.35         0.000                  142.45              \n",
       "3  0.687              249.75         0.067                  135.61              \n",
       "4  0.712              247.14         0.129                  131.84              \n",
       "\n",
       "   elect_cost_exp_var  elect_cost_mae  total_cost_exp_var  total_cost_mae  \n",
       "0  0.257               437.00          0.390               725.71          \n",
       "1  0.258               436.70          0.390               725.31          \n",
       "2  0.000               509.57          0.000               909.53          \n",
       "3  0.226               439.15          0.368               737.58          \n",
       "4  0.255               434.51          0.398               719.39          "
      ]
     },
     "execution_count": 10,
     "metadata": {},
     "output_type": "execute_result"
    }
   ],
   "source": [
    "# Merge results and print them\n",
    "\n",
    "results = r1.merge(r2, on='model').merge(r3, on='model').merge(r4, on='model').merge(r5, on='model')\n",
    "results.columns = ['model', \n",
    "                   'cool_cost_exp_var', 'cool_cost_mae',\n",
    "                   'heat_cost_exp_var', 'heat_cost_mae',\n",
    "                   'water_heating_exp_var', 'water_heating_mae',\n",
    "                   'elect_cost_exp_var', 'elect_cost_mae',\n",
    "                   'total_cost_exp_var', 'total_cost_mae'\n",
    "                  ]\n",
    "\n",
    "results"
   ]
  },
  {
   "cell_type": "code",
   "execution_count": 11,
   "metadata": {},
   "outputs": [
    {
     "data": {
      "text/html": [
       "<div>\n",
       "<style scoped>\n",
       "    .dataframe tbody tr th:only-of-type {\n",
       "        vertical-align: middle;\n",
       "    }\n",
       "\n",
       "    .dataframe tbody tr th {\n",
       "        vertical-align: top;\n",
       "    }\n",
       "\n",
       "    .dataframe thead th {\n",
       "        text-align: right;\n",
       "    }\n",
       "</style>\n",
       "<table border=\"1\" class=\"dataframe\">\n",
       "  <thead>\n",
       "    <tr style=\"text-align: right;\">\n",
       "      <th></th>\n",
       "      <th>Target variable</th>\n",
       "      <th>Min</th>\n",
       "      <th>Median</th>\n",
       "      <th>Max</th>\n",
       "    </tr>\n",
       "  </thead>\n",
       "  <tbody>\n",
       "    <tr>\n",
       "      <th>0</th>\n",
       "      <td>COOL_COST_log</td>\n",
       "      <td>0.00</td>\n",
       "      <td>146.60</td>\n",
       "      <td>2860.01</td>\n",
       "    </tr>\n",
       "    <tr>\n",
       "      <th>1</th>\n",
       "      <td>HEAT_COST_log</td>\n",
       "      <td>0.00</td>\n",
       "      <td>400.84</td>\n",
       "      <td>4766.66</td>\n",
       "    </tr>\n",
       "    <tr>\n",
       "      <th>2</th>\n",
       "      <td>WATERHEAT_COST_log</td>\n",
       "      <td>0.00</td>\n",
       "      <td>236.44</td>\n",
       "      <td>2566.61</td>\n",
       "    </tr>\n",
       "    <tr>\n",
       "      <th>3</th>\n",
       "      <td>ELECT_COST_log</td>\n",
       "      <td>15.43</td>\n",
       "      <td>1021.74</td>\n",
       "      <td>7310.58</td>\n",
       "    </tr>\n",
       "    <tr>\n",
       "      <th>4</th>\n",
       "      <td>TOT_COST_log</td>\n",
       "      <td>76.40</td>\n",
       "      <td>1997.59</td>\n",
       "      <td>11078.48</td>\n",
       "    </tr>\n",
       "  </tbody>\n",
       "</table>\n",
       "</div>"
      ],
      "text/plain": [
       "      Target variable    Min   Median       Max\n",
       "0  COOL_COST_log       0.00   146.60   2860.01 \n",
       "1  HEAT_COST_log       0.00   400.84   4766.66 \n",
       "2  WATERHEAT_COST_log  0.00   236.44   2566.61 \n",
       "3  ELECT_COST_log      15.43  1021.74  7310.58 \n",
       "4  TOT_COST_log        76.40  1997.59  11078.48"
      ]
     },
     "execution_count": 11,
     "metadata": {},
     "output_type": "execute_result"
    }
   ],
   "source": [
    "# Print median values for each of the target variables for comparison with mean absolute error\n",
    "\n",
    "k = orig_df[['COOL_COST_log', 'HEAT_COST_log', 'WATERHEAT_COST_log', 'ELECT_COST_log', 'TOT_COST_log']]\n",
    "\n",
    "median_val = pd.DataFrame(round(np.exp(k.describe().iloc[[3,5,7], :])-1, 2)).T.reset_index().rename(columns={'index':'Target variable', 'min':'Min', '50%':'Median', 'max':'Max'})\n",
    "\n",
    "median_val"
   ]
  },
  {
   "cell_type": "code",
   "execution_count": 12,
   "metadata": {
    "scrolled": false
   },
   "outputs": [
    {
     "data": {
      "image/png": "[encoded data removed]",
      "text/plain": [
       "<Figure size 720x504 with 1 Axes>"
      ]
     },
     "metadata": {
      "needs_background": "light"
     },
     "output_type": "display_data"
    }
   ],
   "source": [
    "# Plot explained variance results\n",
    "\n",
    "expl_var_results = results[['model', 'cool_cost_exp_var', 'heat_cost_exp_var', \n",
    "                            'water_heating_exp_var', 'elect_cost_exp_var', 'total_cost_exp_var']]\n",
    "                           \n",
    "expl_var_results.plot.bar(x='model', cmap='Set3', figsize=(10,7))\n",
    "plt.title('Performance selected regression models', fontsize=12)\n",
    "plt.ylim([0,1])\n",
    "plt.xlabel('')\n",
    "plt.xticks(rotation=45)\n",
    "plt.legend(loc='upper center')\n",
    "plt.tight_layout\n",
    "plt.show()"
   ]
  },
  {
   "cell_type": "markdown",
   "metadata": {},
   "source": [
    "__Conclusions of this section:__\n",
    "\n",
    "Initial results show that the Gradient Boosting ensemble algorithm yields the best explained variance score in Cooling, Heating, Water Heating and Total cost target variables, whereas Ridge Regression algorithm score slighly better for Other Electricity. However, in general all algorithms tested scored rather low for Water-Heating-Costs and Other-Electrical-Costs, which means that those response variables are hardly explained by any algorithm. Besides, the best model explains ~40% of the target variable variance which is roughly an average of the other four compounding response variables. \n",
    "\n",
    "The most significant outcome of this assessment is that the mean error is so high compared to the median value that limits the utility of this prediction tool for a potential user. \n",
    "\n",
    "Regardless of this circumstances, in next sections we will select the most relevant features and adjust the model's  hyperparameters to try to improve predictive power.\n",
    "\n",
    "We will choose Gradient Boosting algorithm to predict all target variables for the sake of convenience."
   ]
  },
  {
   "cell_type": "markdown",
   "metadata": {},
   "source": [
    "## 4.3. Feature selection"
   ]
  },
  {
   "cell_type": "markdown",
   "metadata": {},
   "source": [
    "Once we know which model will use to predict each response variable, we will optimize the feature space by removing higly correlated columns and features which are irrelevant for the regression model. \n",
    "\n",
    "Firstly, we will check and remove any highly correlated features to reduce dimensionality: "
   ]
  },
  {
   "cell_type": "code",
   "execution_count": 13,
   "metadata": {},
   "outputs": [],
   "source": [
    "# Create function to select and remove highly correlated features\n",
    "\n",
    "def remove_corr_feat(df):\n",
    "    '''Selects and remove highly correlated features'''\n",
    "    corr_matrix = df.corr().abs()\n",
    "    \n",
    "    # Select upper triangle of the matrix, since it is symmetric\n",
    "    upper_tri = corr_matrix.where(np.triu(np.ones(corr_matrix.shape),k=1).astype(np.bool))\n",
    "    \n",
    "    # Select columns with correlation coefficient higher than 0.95\n",
    "    to_drop = [column for column in upper_tri.columns if any(upper_tri[column] > 0.95)]\n",
    "    \n",
    "    # Drop correlated features\n",
    "    dfo = df.drop(to_drop, axis=1)\n",
    "    \n",
    "    return dfo   "
   ]
  },
  {
   "cell_type": "code",
   "execution_count": 14,
   "metadata": {},
   "outputs": [
    {
     "data": {
      "text/plain": [
       "(3980, 46)"
      ]
     },
     "execution_count": 14,
     "metadata": {},
     "output_type": "execute_result"
    }
   ],
   "source": [
    "# Remove highly correlated features from train set\n",
    "\n",
    "X_train = remove_corr_feat(X_train)\n",
    "X_train.shape"
   ]
  },
  {
   "cell_type": "code",
   "execution_count": 15,
   "metadata": {},
   "outputs": [
    {
     "data": {
      "text/plain": [
       "(1706, 46)"
      ]
     },
     "execution_count": 15,
     "metadata": {},
     "output_type": "execute_result"
    }
   ],
   "source": [
    "# Remove highly correlated features from test set\n",
    "\n",
    "X_test = remove_corr_feat(X_test)\n",
    "X_test.shape"
   ]
  },
  {
   "cell_type": "markdown",
   "metadata": {},
   "source": [
    "It can be seen that 2 highly colinear features have been removed with this operation. \n",
    "\n",
    "Further, we will optimize the number of features based on its explained variance. A Recursive Feature Elimination algorithm will automatically tune of the number of features selected with cross-validation for each target variable:"
   ]
  },
  {
   "cell_type": "code",
   "execution_count": 16,
   "metadata": {
    "scrolled": true
   },
   "outputs": [],
   "source": [
    "# Import package \n",
    "from sklearn.feature_selection import RFECV\n",
    "\n",
    "# Define fucntion for feature selection\n",
    "def cv_feature_selection(estimator, X, y):\n",
    "    '''Selectcs optimal features based on mean absolute error'''\n",
    "    rfecv = RFECV(estimator=estimator, step=1, cv=5, scoring='explained_variance', n_jobs=-1)\n",
    "    rfecv.fit(X, y)\n",
    "\n",
    "    rfecv_mask = rfecv.get_support()\n",
    "    \n",
    "    rfecv_features = [] \n",
    "    for bool, feature in zip(rfecv_mask, X_train.columns):\n",
    "        if bool:\n",
    "            rfecv_features.append(feature)\n",
    "\n",
    "    return rfecv_features"
   ]
  },
  {
   "cell_type": "code",
   "execution_count": 17,
   "metadata": {},
   "outputs": [],
   "source": [
    "# Create function to check features removed\n",
    "\n",
    "def Diff(li1, li2):\n",
    "    '''Computes differences between two lists'''\n",
    "    return (list(list(set(li1)-set(li2)) + list(set(li2)-set(li1))))"
   ]
  },
  {
   "cell_type": "code",
   "execution_count": 18,
   "metadata": {},
   "outputs": [],
   "source": [
    "# Instantiate regressor for feature selection\n",
    "reg = GradientBoostingRegressor()"
   ]
  },
  {
   "cell_type": "markdown",
   "metadata": {},
   "source": [
    "#### Feature selection for *Cooling Costs*:"
   ]
  },
  {
   "cell_type": "code",
   "execution_count": null,
   "metadata": {},
   "outputs": [],
   "source": [
    "# Select features for cooling costs target variable\n",
    "sel_features = cv_feature_selection(reg, X_train, y_train_COOL)\n",
    "\n",
    "print('Optimal number of features :', len(sel_features))\n",
    "\n",
    "X_train_COOL = X_train[sel_features]\n",
    "X_test_COOL = X_test[sel_features]"
   ]
  },
  {
   "cell_type": "code",
   "execution_count": null,
   "metadata": {},
   "outputs": [],
   "source": [
    "# Check features removed\n",
    "Diff(sel_features, list(X_train.columns))"
   ]
  },
  {
   "cell_type": "markdown",
   "metadata": {},
   "source": [
    "#### Feature selection for *Heating Costs*:"
   ]
  },
  {
   "cell_type": "code",
   "execution_count": null,
   "metadata": {},
   "outputs": [],
   "source": [
    "# Select features for cooling costs target variable\n",
    "sel_features = cv_feature_selection(reg, X_train, y_train_HEAT)\n",
    "\n",
    "print('Optimal number of features :', len(sel_features))\n",
    "\n",
    "X_train_HEAT = X_train[sel_features]\n",
    "X_test_HEAT = X_test[sel_features]"
   ]
  },
  {
   "cell_type": "code",
   "execution_count": null,
   "metadata": {},
   "outputs": [],
   "source": [
    "# Check features removed\n",
    "Diff(sel_features, list(X_train.columns))"
   ]
  },
  {
   "cell_type": "markdown",
   "metadata": {},
   "source": [
    "#### Feature selection for *Water Heating Costs*:"
   ]
  },
  {
   "cell_type": "code",
   "execution_count": null,
   "metadata": {},
   "outputs": [],
   "source": [
    "# Select features for cooling costs target variable\n",
    "sel_features = cv_feature_selection(reg, X_train, y_train_WATER)\n",
    "\n",
    "print('Optimal number of features :', len(sel_features))\n",
    "\n",
    "X_train_WATER = X_train[sel_features]\n",
    "X_test_WATER = X_test[sel_features]"
   ]
  },
  {
   "cell_type": "code",
   "execution_count": null,
   "metadata": {},
   "outputs": [],
   "source": [
    "# Check features removed\n",
    "Diff(sel_features, list(X_train.columns))"
   ]
  },
  {
   "cell_type": "markdown",
   "metadata": {},
   "source": [
    "#### Feature selection for *Other Electricity Costs*:"
   ]
  },
  {
   "cell_type": "code",
   "execution_count": null,
   "metadata": {},
   "outputs": [],
   "source": [
    "# Select features for cooling costs target variable\n",
    "sel_features = cv_feature_selection(reg, X_train, y_train_ELEC)\n",
    "\n",
    "print('Optimal number of features :', len(sel_features))\n",
    "\n",
    "X_train_ELEC = X_train[sel_features]\n",
    "X_test_ELEC = X_test[sel_features]"
   ]
  },
  {
   "cell_type": "code",
   "execution_count": null,
   "metadata": {},
   "outputs": [],
   "source": [
    "# Check features removed\n",
    "Diff(sel_features, list(X_train.columns))"
   ]
  },
  {
   "cell_type": "markdown",
   "metadata": {},
   "source": [
    "#### Feature selection for *Total Utility Costs*:"
   ]
  },
  {
   "cell_type": "code",
   "execution_count": null,
   "metadata": {},
   "outputs": [],
   "source": [
    "# Select features for cooling costs target variable\n",
    "sel_features = cv_feature_selection(reg, X_train, y_train_TOT)\n",
    "\n",
    "print('Optimal number of features :', len(sel_features))\n",
    "\n",
    "X_train_TOT = X_train[sel_features]\n",
    "X_test_TOT = X_test[sel_features]"
   ]
  },
  {
   "cell_type": "code",
   "execution_count": null,
   "metadata": {},
   "outputs": [],
   "source": [
    "# Check features removed\n",
    "Diff(sel_features, list(X_train.columns))"
   ]
  },
  {
   "cell_type": "markdown",
   "metadata": {},
   "source": [
    "## 4.4. Hyperparameter tuning for selected models\n",
    "\n",
    "In this section, we will tune the hyperparameters of the Gradient Boosting and Ridge algorithms to find the best model for each of the variables. To do this we will use a grid search algorithm with cross-validation."
   ]
  },
  {
   "cell_type": "markdown",
   "metadata": {},
   "source": [
    "__Gradient Boosting Regressor__\n",
    "\n",
    "The following parameters will be tested and adjusted:\n",
    "- *Max Depth*: maximum number of levels the trees can grow\n",
    "- *Number of Estimators*: number of boosting stages\n",
    "- *Learning Rate*: the level of the contribution of each tree to the final model"
   ]
  },
  {
   "cell_type": "code",
   "execution_count": 19,
   "metadata": {},
   "outputs": [],
   "source": [
    "# Import GridSearch\n",
    "from sklearn.model_selection import GridSearchCV"
   ]
  },
  {
   "cell_type": "code",
   "execution_count": 20,
   "metadata": {},
   "outputs": [],
   "source": [
    "# Create function for grid search and cross-validation\n",
    "\n",
    "def best_config(model, param_grid, X_train, y_train):\n",
    "    '''Runs a grid search with cross-validation for selected model and datasets'''\n",
    "    estimator = GridSearchCV(model, param_grid, cv=5, n_jobs=-1)\n",
    "    estimator_fit = estimator.fit(X_train, y_train)\n",
    "    \n",
    "    # Get 5 best models and their scores\n",
    "    r = pd.DataFrame({'Best params':estimator_fit.cv_results_['params'][estimator_fit.best_index_], \n",
    "                      'Best score':estimator_fit.best_score_})\n",
    "    \n",
    "    return r"
   ]
  },
  {
   "cell_type": "code",
   "execution_count": 21,
   "metadata": {},
   "outputs": [],
   "source": [
    "# Instantiate the regressor for hyperparameter tuning\n",
    "\n",
    "gbr = GradientBoostingRegressor()"
   ]
  },
  {
   "cell_type": "code",
   "execution_count": 22,
   "metadata": {},
   "outputs": [],
   "source": [
    "# Select hyperparameters to tune \n",
    "\n",
    "param_grid = {'learning_rate': [0.05, 0.1, 0.15, 0.2],\n",
    "              'max_depth': [2, 3, 4], \n",
    "              'n_estimators': [150, 200, 250]\n",
    "             }"
   ]
  },
  {
   "cell_type": "markdown",
   "metadata": {},
   "source": [
    "#### Hyperparameter tune for *Cooling Costs*:"
   ]
  },
  {
   "cell_type": "code",
   "execution_count": 23,
   "metadata": {},
   "outputs": [
    {
     "data": {
      "text/html": [
       "<div>\n",
       "<style scoped>\n",
       "    .dataframe tbody tr th:only-of-type {\n",
       "        vertical-align: middle;\n",
       "    }\n",
       "\n",
       "    .dataframe tbody tr th {\n",
       "        vertical-align: top;\n",
       "    }\n",
       "\n",
       "    .dataframe thead th {\n",
       "        text-align: right;\n",
       "    }\n",
       "</style>\n",
       "<table border=\"1\" class=\"dataframe\">\n",
       "  <thead>\n",
       "    <tr style=\"text-align: right;\">\n",
       "      <th></th>\n",
       "      <th>Best params</th>\n",
       "      <th>Best score</th>\n",
       "    </tr>\n",
       "  </thead>\n",
       "  <tbody>\n",
       "    <tr>\n",
       "      <th>learning_rate</th>\n",
       "      <td>0.05</td>\n",
       "      <td>0.905716</td>\n",
       "    </tr>\n",
       "    <tr>\n",
       "      <th>max_depth</th>\n",
       "      <td>4.00</td>\n",
       "      <td>0.905716</td>\n",
       "    </tr>\n",
       "    <tr>\n",
       "      <th>n_estimators</th>\n",
       "      <td>200.00</td>\n",
       "      <td>0.905716</td>\n",
       "    </tr>\n",
       "  </tbody>\n",
       "</table>\n",
       "</div>"
      ],
      "text/plain": [
       "               Best params  Best score\n",
       "learning_rate  0.05         0.905716  \n",
       "max_depth      4.00         0.905716  \n",
       "n_estimators   200.00       0.905716  "
      ]
     },
     "execution_count": 23,
     "metadata": {},
     "output_type": "execute_result"
    }
   ],
   "source": [
    "# Get best hyperparams and score\n",
    "\n",
    "best_config(gbr, param_grid, X_train, y_train_COOL)"
   ]
  },
  {
   "cell_type": "markdown",
   "metadata": {},
   "source": [
    "#### Hyperparameter tune for *Heating Costs*:"
   ]
  },
  {
   "cell_type": "code",
   "execution_count": 24,
   "metadata": {
    "scrolled": false
   },
   "outputs": [
    {
     "data": {
      "text/html": [
       "<div>\n",
       "<style scoped>\n",
       "    .dataframe tbody tr th:only-of-type {\n",
       "        vertical-align: middle;\n",
       "    }\n",
       "\n",
       "    .dataframe tbody tr th {\n",
       "        vertical-align: top;\n",
       "    }\n",
       "\n",
       "    .dataframe thead th {\n",
       "        text-align: right;\n",
       "    }\n",
       "</style>\n",
       "<table border=\"1\" class=\"dataframe\">\n",
       "  <thead>\n",
       "    <tr style=\"text-align: right;\">\n",
       "      <th></th>\n",
       "      <th>Best params</th>\n",
       "      <th>Best score</th>\n",
       "    </tr>\n",
       "  </thead>\n",
       "  <tbody>\n",
       "    <tr>\n",
       "      <th>learning_rate</th>\n",
       "      <td>0.1</td>\n",
       "      <td>0.673897</td>\n",
       "    </tr>\n",
       "    <tr>\n",
       "      <th>max_depth</th>\n",
       "      <td>2.0</td>\n",
       "      <td>0.673897</td>\n",
       "    </tr>\n",
       "    <tr>\n",
       "      <th>n_estimators</th>\n",
       "      <td>200.0</td>\n",
       "      <td>0.673897</td>\n",
       "    </tr>\n",
       "  </tbody>\n",
       "</table>\n",
       "</div>"
      ],
      "text/plain": [
       "               Best params  Best score\n",
       "learning_rate  0.1          0.673897  \n",
       "max_depth      2.0          0.673897  \n",
       "n_estimators   200.0        0.673897  "
      ]
     },
     "execution_count": 24,
     "metadata": {},
     "output_type": "execute_result"
    }
   ],
   "source": [
    "# Get best hyperparams and score\n",
    "\n",
    "best_config(gbr, param_grid, X_train, y_train_HEAT)"
   ]
  },
  {
   "cell_type": "markdown",
   "metadata": {},
   "source": [
    "#### Hyperparameter tune for *Water Heating Costs*:"
   ]
  },
  {
   "cell_type": "code",
   "execution_count": 25,
   "metadata": {},
   "outputs": [
    {
     "data": {
      "text/html": [
       "<div>\n",
       "<style scoped>\n",
       "    .dataframe tbody tr th:only-of-type {\n",
       "        vertical-align: middle;\n",
       "    }\n",
       "\n",
       "    .dataframe tbody tr th {\n",
       "        vertical-align: top;\n",
       "    }\n",
       "\n",
       "    .dataframe thead th {\n",
       "        text-align: right;\n",
       "    }\n",
       "</style>\n",
       "<table border=\"1\" class=\"dataframe\">\n",
       "  <thead>\n",
       "    <tr style=\"text-align: right;\">\n",
       "      <th></th>\n",
       "      <th>Best params</th>\n",
       "      <th>Best score</th>\n",
       "    </tr>\n",
       "  </thead>\n",
       "  <tbody>\n",
       "    <tr>\n",
       "      <th>learning_rate</th>\n",
       "      <td>0.15</td>\n",
       "      <td>0.127294</td>\n",
       "    </tr>\n",
       "    <tr>\n",
       "      <th>max_depth</th>\n",
       "      <td>2.00</td>\n",
       "      <td>0.127294</td>\n",
       "    </tr>\n",
       "    <tr>\n",
       "      <th>n_estimators</th>\n",
       "      <td>150.00</td>\n",
       "      <td>0.127294</td>\n",
       "    </tr>\n",
       "  </tbody>\n",
       "</table>\n",
       "</div>"
      ],
      "text/plain": [
       "               Best params  Best score\n",
       "learning_rate  0.15         0.127294  \n",
       "max_depth      2.00         0.127294  \n",
       "n_estimators   150.00       0.127294  "
      ]
     },
     "execution_count": 25,
     "metadata": {},
     "output_type": "execute_result"
    }
   ],
   "source": [
    "# Get best hyperparams and score\n",
    "\n",
    "best_config(gbr, param_grid, X_train, y_train_WATER)"
   ]
  },
  {
   "cell_type": "markdown",
   "metadata": {},
   "source": [
    "#### Hyperparameter tune for *Other Electricity Costs*:"
   ]
  },
  {
   "cell_type": "code",
   "execution_count": 26,
   "metadata": {},
   "outputs": [
    {
     "data": {
      "text/html": [
       "<div>\n",
       "<style scoped>\n",
       "    .dataframe tbody tr th:only-of-type {\n",
       "        vertical-align: middle;\n",
       "    }\n",
       "\n",
       "    .dataframe tbody tr th {\n",
       "        vertical-align: top;\n",
       "    }\n",
       "\n",
       "    .dataframe thead th {\n",
       "        text-align: right;\n",
       "    }\n",
       "</style>\n",
       "<table border=\"1\" class=\"dataframe\">\n",
       "  <thead>\n",
       "    <tr style=\"text-align: right;\">\n",
       "      <th></th>\n",
       "      <th>Best params</th>\n",
       "      <th>Best score</th>\n",
       "    </tr>\n",
       "  </thead>\n",
       "  <tbody>\n",
       "    <tr>\n",
       "      <th>learning_rate</th>\n",
       "      <td>0.05</td>\n",
       "      <td>0.275731</td>\n",
       "    </tr>\n",
       "    <tr>\n",
       "      <th>max_depth</th>\n",
       "      <td>3.00</td>\n",
       "      <td>0.275731</td>\n",
       "    </tr>\n",
       "    <tr>\n",
       "      <th>n_estimators</th>\n",
       "      <td>250.00</td>\n",
       "      <td>0.275731</td>\n",
       "    </tr>\n",
       "  </tbody>\n",
       "</table>\n",
       "</div>"
      ],
      "text/plain": [
       "               Best params  Best score\n",
       "learning_rate  0.05         0.275731  \n",
       "max_depth      3.00         0.275731  \n",
       "n_estimators   250.00       0.275731  "
      ]
     },
     "execution_count": 26,
     "metadata": {},
     "output_type": "execute_result"
    }
   ],
   "source": [
    "# Get best hyperparams and score\n",
    "\n",
    "best_config(gbr, param_grid, X_train, y_train_ELEC)"
   ]
  },
  {
   "cell_type": "markdown",
   "metadata": {},
   "source": [
    "#### Hyperparameter tune for *Total Utility Costs*:"
   ]
  },
  {
   "cell_type": "code",
   "execution_count": 27,
   "metadata": {
    "scrolled": false
   },
   "outputs": [
    {
     "data": {
      "text/html": [
       "<div>\n",
       "<style scoped>\n",
       "    .dataframe tbody tr th:only-of-type {\n",
       "        vertical-align: middle;\n",
       "    }\n",
       "\n",
       "    .dataframe tbody tr th {\n",
       "        vertical-align: top;\n",
       "    }\n",
       "\n",
       "    .dataframe thead th {\n",
       "        text-align: right;\n",
       "    }\n",
       "</style>\n",
       "<table border=\"1\" class=\"dataframe\">\n",
       "  <thead>\n",
       "    <tr style=\"text-align: right;\">\n",
       "      <th></th>\n",
       "      <th>Best params</th>\n",
       "      <th>Best score</th>\n",
       "    </tr>\n",
       "  </thead>\n",
       "  <tbody>\n",
       "    <tr>\n",
       "      <th>learning_rate</th>\n",
       "      <td>0.15</td>\n",
       "      <td>0.406615</td>\n",
       "    </tr>\n",
       "    <tr>\n",
       "      <th>max_depth</th>\n",
       "      <td>2.00</td>\n",
       "      <td>0.406615</td>\n",
       "    </tr>\n",
       "    <tr>\n",
       "      <th>n_estimators</th>\n",
       "      <td>150.00</td>\n",
       "      <td>0.406615</td>\n",
       "    </tr>\n",
       "  </tbody>\n",
       "</table>\n",
       "</div>"
      ],
      "text/plain": [
       "               Best params  Best score\n",
       "learning_rate  0.15         0.406615  \n",
       "max_depth      2.00         0.406615  \n",
       "n_estimators   150.00       0.406615  "
      ]
     },
     "execution_count": 27,
     "metadata": {},
     "output_type": "execute_result"
    }
   ],
   "source": [
    "# Get best hyperparams and score\n",
    "\n",
    "best_config(gbr, param_grid, X_train, y_train_TOT)"
   ]
  },
  {
   "cell_type": "markdown",
   "metadata": {},
   "source": [
    "## 4.5. Final model selection and results"
   ]
  },
  {
   "cell_type": "markdown",
   "metadata": {},
   "source": [
    "Once we have compute performance for different hyperparameter configurations, we can run the final model selection for each of the target variables and review the explained variance and mean absolute error score results. \n",
    "\n",
    "As we saw in the previous section, the most optimal configurations are:\n",
    "\n",
    "| Target variable | Learning rate | Max depth | Number of estimators (trees) |\n",
    "| -------- | --------- | --------- | --------- |\n",
    "| Cooling costs | 0.05 | 4 | 200 |\n",
    "| Heating costs | 0.1 | 2 | 200 |\n",
    "| Waterheating costs | 0.15 | 2 | 150 |\n",
    "| Other electricity costs | 0.05 | 3 | 250 |\n",
    "| Total costs | 0.15 | 2 | 150 |\n",
    "\n",
    "Also, we will calculate the upper limit prediction interval and provide the maximum utility expenses probability for a given house/unit. This is useful for potential user since it limits the uncertainty of the model by giving a likely maximum expense. \n",
    "\n",
    "The upper prediction interval certanty is been set to 0.80, meaning that 80% of the real values are expected to lay below the given prediction."
   ]
  },
  {
   "cell_type": "code",
   "execution_count": 28,
   "metadata": {
    "scrolled": false
   },
   "outputs": [],
   "source": [
    "# Create fuction to get explained variand and mean absolute error\n",
    "\n",
    "def model_scoring(y_test, y_pred):\n",
    "    '''Get explained variance and mean absolute error with real unscaled values'''\n",
    "        \n",
    "    # Compute explained variance score and mean absolute error\n",
    "    exp_var = round(explained_variance_score(y_test, y_pred),3)\n",
    "    mae = MAE(y_test, y_pred)\n",
    "\n",
    "    return exp_var, mae"
   ]
  },
  {
   "cell_type": "code",
   "execution_count": 29,
   "metadata": {},
   "outputs": [],
   "source": [
    "# Create empty lists to store results\n",
    "\n",
    "exp_var = []\n",
    "mae = []\n",
    "feat = ['cooling cost', 'heating cost', 'water heating cost', 'other electricity cost', 'total utility cost']"
   ]
  },
  {
   "cell_type": "code",
   "execution_count": 30,
   "metadata": {},
   "outputs": [],
   "source": [
    "# Set upper confidence interval\n",
    "\n",
    "upper_alpha=0.80"
   ]
  },
  {
   "cell_type": "markdown",
   "metadata": {},
   "source": [
    "#### Final model for *Cooling Cost* prediction:"
   ]
  },
  {
   "cell_type": "code",
   "execution_count": 31,
   "metadata": {},
   "outputs": [],
   "source": [
    "# Instantiate predictor\n",
    "gbr_cool = GradientBoostingRegressor(learning_rate=0.05, max_depth=4, n_estimators=200)\n",
    "\n",
    "# Fit and predict\n",
    "gbr_cool_fit = gbr_cool.fit(X_train, y_train_COOL)\n",
    "y_pred = gbr_cool_fit.predict(X_test)"
   ]
  },
  {
   "cell_type": "code",
   "execution_count": 32,
   "metadata": {},
   "outputs": [],
   "source": [
    "# Get explained variance and mean absolute error\n",
    "ev, m = model_scoring(y_test_COOL, y_pred)\n",
    "\n",
    "# Store results in lists\n",
    "exp_var.append(ev)\n",
    "mae.append(m)"
   ]
  },
  {
   "cell_type": "code",
   "execution_count": 33,
   "metadata": {},
   "outputs": [],
   "source": [
    "# Get upper prediction interval\n",
    "\n",
    "# Instantiate predictor\n",
    "gbr_int_cool = GradientBoostingRegressor(loss=\"quantile\", alpha=upper_alpha, learning_rate=0.05, max_depth=4, n_estimators=200)\n",
    "\n",
    "# Fit and predict\n",
    "gbr_int_cool_fit = gbr_int_cool.fit(X_train, y_train_COOL)"
   ]
  },
  {
   "cell_type": "markdown",
   "metadata": {},
   "source": [
    "__Final model for *Heating Cost* prediction:__"
   ]
  },
  {
   "cell_type": "code",
   "execution_count": 34,
   "metadata": {},
   "outputs": [],
   "source": [
    "# Instantiate predictor\n",
    "gbr_heat = GradientBoostingRegressor(learning_rate=0.1, max_depth=2, n_estimators=200)\n",
    "\n",
    "# Fit and predict\n",
    "gbr_heat_fit = gbr_heat.fit(X_train, y_train_HEAT)\n",
    "y_pred = gbr_heat_fit.predict(X_test)"
   ]
  },
  {
   "cell_type": "code",
   "execution_count": 35,
   "metadata": {},
   "outputs": [],
   "source": [
    "# Get explained variance and mean absolute error\n",
    "ev, m = model_scoring(y_test_HEAT, y_pred)\n",
    "\n",
    "# Store results in lists\n",
    "exp_var.append(ev)\n",
    "mae.append(m)"
   ]
  },
  {
   "cell_type": "code",
   "execution_count": 36,
   "metadata": {},
   "outputs": [],
   "source": [
    "# Get upper prediction interval\n",
    "\n",
    "# Instantiate predictor\n",
    "gbr_int_heat = GradientBoostingRegressor(loss=\"quantile\", alpha=upper_alpha, learning_rate=0.1, max_depth=2, n_estimators=200)\n",
    "\n",
    "# Fit and predict\n",
    "gbr_int_heat_fit = gbr_int_heat.fit(X_train, y_train_HEAT)"
   ]
  },
  {
   "cell_type": "markdown",
   "metadata": {},
   "source": [
    "__Final model for *Water Heating Cost* prediction:__"
   ]
  },
  {
   "cell_type": "code",
   "execution_count": 37,
   "metadata": {},
   "outputs": [],
   "source": [
    "# Instantiate predictor\n",
    "gbr_wat = GradientBoostingRegressor(learning_rate=0.15, max_depth=2, n_estimators=150)\n",
    "\n",
    "# Fit and predict\n",
    "gbr_wat_fit = gbr_wat.fit(X_train, y_train_WATER)\n",
    "y_pred = gbr_wat_fit.predict(X_test)"
   ]
  },
  {
   "cell_type": "code",
   "execution_count": 38,
   "metadata": {},
   "outputs": [],
   "source": [
    "# Get explained variance and mean absolute error\n",
    "ev, m = model_scoring(y_test_WATER, y_pred)\n",
    "\n",
    "# Store results in lists\n",
    "exp_var.append(ev)\n",
    "mae.append(m)"
   ]
  },
  {
   "cell_type": "code",
   "execution_count": 39,
   "metadata": {},
   "outputs": [],
   "source": [
    "# Get upper prediction interval\n",
    "\n",
    "# Instantiate predictor\n",
    "gbr_int_wat = GradientBoostingRegressor(loss=\"quantile\", alpha=upper_alpha, learning_rate=0.15, max_depth=2, n_estimators=150)\n",
    "\n",
    "# Fit and predict\n",
    "gbr_int_wat_fit = gbr_int_wat.fit(X_train, y_train_WATER)"
   ]
  },
  {
   "cell_type": "markdown",
   "metadata": {},
   "source": [
    "__Final model for *Other Electricity Cost* prediction:__"
   ]
  },
  {
   "cell_type": "code",
   "execution_count": 40,
   "metadata": {},
   "outputs": [],
   "source": [
    "# Instantiate predictor\n",
    "gbr_elec = GradientBoostingRegressor(learning_rate=0.05, max_depth=3, n_estimators=250)\n",
    "\n",
    "# Fit and predict\n",
    "gbr_elec_fit = gbr_elec.fit(X_train, y_train_ELEC)\n",
    "y_pred = gbr_elec_fit.predict(X_test)"
   ]
  },
  {
   "cell_type": "code",
   "execution_count": 41,
   "metadata": {},
   "outputs": [],
   "source": [
    "# Get explained variance and mean absolute error\n",
    "ev, m = model_scoring(y_test_ELEC, y_pred)\n",
    "\n",
    "# Store results in lists\n",
    "exp_var.append(ev)\n",
    "mae.append(m)"
   ]
  },
  {
   "cell_type": "code",
   "execution_count": 42,
   "metadata": {},
   "outputs": [],
   "source": [
    "# Get upper prediction interval\n",
    "\n",
    "# Instantiate predictor\n",
    "gbr_int_elec = GradientBoostingRegressor(loss=\"quantile\", alpha=upper_alpha, learning_rate=0.05, max_depth=3, n_estimators=250)\n",
    "\n",
    "# Fit and predict\n",
    "gbr_int_elec_fit = gbr_int_elec.fit(X_train, y_train_ELEC)"
   ]
  },
  {
   "cell_type": "markdown",
   "metadata": {},
   "source": [
    "__Final model for *Total Cost* prediction:__"
   ]
  },
  {
   "cell_type": "code",
   "execution_count": 43,
   "metadata": {},
   "outputs": [],
   "source": [
    "# Instantiate predictor\n",
    "gbr_tot = GradientBoostingRegressor(learning_rate=0.15, max_depth=2, n_estimators=150)\n",
    "\n",
    "# Fit and predict\n",
    "gbr_tot_fit = gbr_tot.fit(X_train, y_train_TOT)\n",
    "y_pred = gbr_tot_fit.predict(X_test)"
   ]
  },
  {
   "cell_type": "code",
   "execution_count": 44,
   "metadata": {},
   "outputs": [],
   "source": [
    "# Get explained variance and mean absolute error\n",
    "ev, m = model_scoring(y_test_TOT, y_pred)\n",
    "\n",
    "# Store results in lists\n",
    "exp_var.append(ev)\n",
    "mae.append(m)"
   ]
  },
  {
   "cell_type": "code",
   "execution_count": 45,
   "metadata": {},
   "outputs": [],
   "source": [
    "# Get upper prediction interval\n",
    "\n",
    "# Instantiate predictor\n",
    "gbr_int_tot = GradientBoostingRegressor(loss=\"quantile\", alpha=upper_alpha, learning_rate=0.15, max_depth=2, n_estimators=150)\n",
    "\n",
    "# Fit and predict\n",
    "gbr_int_tot_fit = gbr_int_tot.fit(X_train, y_train_TOT)"
   ]
  },
  {
   "cell_type": "markdown",
   "metadata": {},
   "source": [
    "Finally, the performance scores of final models are shown in the table below:"
   ]
  },
  {
   "cell_type": "code",
   "execution_count": 46,
   "metadata": {
    "scrolled": true
   },
   "outputs": [
    {
     "data": {
      "text/html": [
       "<div>\n",
       "<style scoped>\n",
       "    .dataframe tbody tr th:only-of-type {\n",
       "        vertical-align: middle;\n",
       "    }\n",
       "\n",
       "    .dataframe tbody tr th {\n",
       "        vertical-align: top;\n",
       "    }\n",
       "\n",
       "    .dataframe thead th {\n",
       "        text-align: right;\n",
       "    }\n",
       "</style>\n",
       "<table border=\"1\" class=\"dataframe\">\n",
       "  <thead>\n",
       "    <tr style=\"text-align: right;\">\n",
       "      <th></th>\n",
       "      <th>features</th>\n",
       "      <th>explained variance</th>\n",
       "      <th>MAE</th>\n",
       "      <th>Min</th>\n",
       "      <th>Median</th>\n",
       "      <th>Max</th>\n",
       "    </tr>\n",
       "  </thead>\n",
       "  <tbody>\n",
       "    <tr>\n",
       "      <th>0</th>\n",
       "      <td>cooling cost</td>\n",
       "      <td>0.915</td>\n",
       "      <td>99.22</td>\n",
       "      <td>0.00</td>\n",
       "      <td>146.60</td>\n",
       "      <td>2860.01</td>\n",
       "    </tr>\n",
       "    <tr>\n",
       "      <th>1</th>\n",
       "      <td>heating cost</td>\n",
       "      <td>0.708</td>\n",
       "      <td>247.07</td>\n",
       "      <td>0.00</td>\n",
       "      <td>400.84</td>\n",
       "      <td>4766.66</td>\n",
       "    </tr>\n",
       "    <tr>\n",
       "      <th>2</th>\n",
       "      <td>water heating cost</td>\n",
       "      <td>0.137</td>\n",
       "      <td>131.69</td>\n",
       "      <td>0.00</td>\n",
       "      <td>236.44</td>\n",
       "      <td>2566.61</td>\n",
       "    </tr>\n",
       "    <tr>\n",
       "      <th>3</th>\n",
       "      <td>other electricity cost</td>\n",
       "      <td>0.252</td>\n",
       "      <td>435.54</td>\n",
       "      <td>15.43</td>\n",
       "      <td>1021.74</td>\n",
       "      <td>7310.58</td>\n",
       "    </tr>\n",
       "    <tr>\n",
       "      <th>4</th>\n",
       "      <td>total utility cost</td>\n",
       "      <td>0.397</td>\n",
       "      <td>719.76</td>\n",
       "      <td>76.40</td>\n",
       "      <td>1997.59</td>\n",
       "      <td>11078.48</td>\n",
       "    </tr>\n",
       "  </tbody>\n",
       "</table>\n",
       "</div>"
      ],
      "text/plain": [
       "                 features  explained variance     MAE    Min   Median  \\\n",
       "0  cooling cost            0.915               99.22   0.00   146.60    \n",
       "1  heating cost            0.708               247.07  0.00   400.84    \n",
       "2  water heating cost      0.137               131.69  0.00   236.44    \n",
       "3  other electricity cost  0.252               435.54  15.43  1021.74   \n",
       "4  total utility cost      0.397               719.76  76.40  1997.59   \n",
       "\n",
       "        Max  \n",
       "0  2860.01   \n",
       "1  4766.66   \n",
       "2  2566.61   \n",
       "3  7310.58   \n",
       "4  11078.48  "
      ]
     },
     "execution_count": 46,
     "metadata": {},
     "output_type": "execute_result"
    }
   ],
   "source": [
    "# Create dataframe with all results\n",
    "\n",
    "final_results = pd.DataFrame({'features':feat, 'explained variance':exp_var, 'MAE':mae}).join(median_val[['Min', 'Median', 'Max']], how='left')\n",
    "final_results"
   ]
  },
  {
   "cell_type": "markdown",
   "metadata": {},
   "source": [
    "__Explained variance:__\n",
    "\n",
    "It can be seen a large difference in model performance between target variables prediction. Although they are all related to energy consumption, there are significant differences in how the source of energy is used. \n",
    "\n",
    "Space heating and cooling in residential units is achieved by a energy flow balance between external climate conditions (temperature, humidity, etc.) and internal confort conditions. Broadly speaking, in cold climates there is an energy inlet from a building system and a energy outlet through the building envelope (facade, windows, etc.), and the opposite for hot climates. Therefore, Heating and Cooling consumption costs are largely driven by climate region, and construction and building system features, which is the bulk of our dataset.\n",
    "\n",
    "Some features have particularly high weight on cooling and heating value prediction:\n",
    "- Climate zone\n",
    "- Unit type\n",
    "- Building age (which is a proxy for insulation level)\n",
    "- Square footage\n",
    "\n",
    "In regard to water heating cost, its consumption is more driven by number of household members and their behaviour rather than any other feature. Since social and behavioural information is not available in our dataset, little target variance can be explained with our data and model. Nevertheless, number of bedrooms and bathrooms do provide some information about the variance of water heating cost, they might be representing a proxy for hosehold. \n",
    "Please note that this response variable accounts for the energy spent on water heating and not the water consumption itself. \n",
    "\n",
    "When it comes to other electicity costs, this target variable is hardly explained by any building intrinsic features, instead it is more likely driven by the energy intensity of the unit, which means the number of electric appliances and ligting and their usage pattern. However, just like happens with water heating cost, number of bedrooms, bathrooms, and square footage add some value to the prediction, which makes sense since the larger the unit's area the more appliances and lighting it contains.\n",
    "\n",
    "Total energy cost variable is a simple addition of all other energy consumption types. Predicting this feature is also interesting since the errors from individual prediction could be offset among them.\n",
    "\n",
    "__Error:__\n",
    "\n",
    "Prediction error measured by mean-absolute-error score is significantly high in comparison with median values in the test set even in Cooling Cost variable. This might be explained by the spread of the distribution of the target variables, the long right tail values could be outweighing in the mean error.\n",
    "\n",
    "Besides, some other error in the target variable is also due to different energy costs nationwide. All the selected features in our dataset are intended to provide insights on the level of energy consumption, but our final target variables which are useful for the final user are final dolar cost. "
   ]
  },
  {
   "cell_type": "markdown",
   "metadata": {},
   "source": [
    "## Save models for deployment"
   ]
  },
  {
   "cell_type": "markdown",
   "metadata": {},
   "source": [
    "The models will be saved for further deployment in the production application"
   ]
  },
  {
   "cell_type": "code",
   "execution_count": 47,
   "metadata": {},
   "outputs": [
    {
     "data": {
      "text/plain": [
       "['C:/Users/javie/OneDrive/Documents/springboard_projects/Capstone-2/models/model_totalcosts_upperinter.joblib']"
      ]
     },
     "execution_count": 47,
     "metadata": {},
     "output_type": "execute_result"
    }
   ],
   "source": [
    "#import pickle\n",
    "#s = pickle.dumps(model1)\n",
    "\n",
    "from joblib import dump, load\n",
    "\n",
    "dump(gbr_cool_fit, 'C:/Users/javie/OneDrive/Documents/springboard_projects/Capstone-2/models/model_coolingcosts.joblib') \n",
    "dump(gbr_int_cool_fit, 'C:/Users/javie/OneDrive/Documents/springboard_projects/Capstone-2/models/model_coolingcosts_upperinter.joblib')\n",
    "\n",
    "dump(gbr_heat_fit, 'C:/Users/javie/OneDrive/Documents/springboard_projects/Capstone-2/models/model_heatingcosts.joblib') \n",
    "dump(gbr_int_heat_fit, 'C:/Users/javie/OneDrive/Documents/springboard_projects/Capstone-2/models/model_heatingcosts_upperinter.joblib')\n",
    "\n",
    "dump(gbr_wat_fit, 'C:/Users/javie/OneDrive/Documents/springboard_projects/Capstone-2/models/model_waterheatingcosts.joblib') \n",
    "dump(gbr_int_wat_fit, 'C:/Users/javie/OneDrive/Documents/springboard_projects/Capstone-2/models/model_waterheatingcosts_upperinter.joblib')\n",
    "\n",
    "dump(gbr_elec_fit, 'C:/Users/javie/OneDrive/Documents/springboard_projects/Capstone-2/models/model_electricitycosts.joblib') \n",
    "dump(gbr_int_elec_fit, 'C:/Users/javie/OneDrive/Documents/springboard_projects/Capstone-2/models/model_electricitycosts_upperinter.joblib')\n",
    "\n",
    "dump(gbr_tot_fit, 'C:/Users/javie/OneDrive/Documents/springboard_projects/Capstone-2/models/model_totalcosts.joblib') \n",
    "dump(gbr_int_tot_fit, 'C:/Users/javie/OneDrive/Documents/springboard_projects/Capstone-2/models/model_totalcosts_upperinter.joblib')"
   ]
  }
 ],
 "metadata": {
  "kernelspec": {
   "display_name": "Python 3",
   "language": "python",
   "name": "python3"
  },
  "language_info": {
   "codemirror_mode": {
    "name": "ipython",
    "version": 3
   },
   "file_extension": ".py",
   "mimetype": "text/x-python",
   "name": "python",
   "nbconvert_exporter": "python",
   "pygments_lexer": "ipython3",
   "version": "3.7.7"
  }
 },
 "nbformat": 4,
 "nbformat_minor": 4
}
