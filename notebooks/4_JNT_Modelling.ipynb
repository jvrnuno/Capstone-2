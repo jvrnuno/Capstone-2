{
 "cells": [
  {
   "cell_type": "markdown",
   "metadata": {},
   "source": [
    "# 4. Modelling"
   ]
  },
  {
   "cell_type": "markdown",
   "metadata": {},
   "source": [
    "1. Importing packages and dataset\n",
    "2. Pre-assesment of multiple regression models\n",
    "3. Feature selection\n",
    "4. Hyperparameter tuning for selected models\n",
    "5. Final model selection and results"
   ]
  },
  {
   "cell_type": "markdown",
   "metadata": {},
   "source": [
    "## 4.1. Importing packages and dataset"
   ]
  },
  {
   "cell_type": "code",
   "execution_count": 1,
   "metadata": {},
   "outputs": [],
   "source": [
    "# Import the required packages\n",
    "\n",
    "import re\n",
    "import pandas as pd\n",
    "import numpy as np\n",
    "import matplotlib.pyplot as plt\n",
    "import seaborn as sns\n",
    "sns.set()\n",
    "\n",
    "import warnings\n",
    "warnings.filterwarnings(\"ignore\")\n",
    "\n",
    "from sklearn.linear_model import LinearRegression, Ridge, Lasso, ElasticNet\n",
    "from sklearn.ensemble import RandomForestRegressor, GradientBoostingRegressor\n",
    "from sklearn.metrics import mean_absolute_error, explained_variance_score\n",
    "\n",
    "pd.set_option('display.max_colwidth', -1)\n",
    "%matplotlib inline"
   ]
  },
  {
   "cell_type": "code",
   "execution_count": 2,
   "metadata": {},
   "outputs": [],
   "source": [
    "# Import processed train and test sets and load them in dataframes\n",
    "\n",
    "# Assign paths variable\n",
    "X_train_path = 'C:/Users/javie/OneDrive/Documents/springboard_projects/Capstone-2/data/processed/X_train.csv'\n",
    "X_test_path = 'C:/Users/javie/OneDrive/Documents/springboard_projects/Capstone-2/data/processed/X_test.csv'\n",
    "y_train_path = 'C:/Users/javie/OneDrive/Documents/springboard_projects/Capstone-2/data/processed/y_train.csv'\n",
    "y_test_path = 'C:/Users/javie/OneDrive/Documents/springboard_projects/Capstone-2/data/processed/y_test.csv'\n",
    "\n",
    "# Load csv in dataframe\n",
    "X_train = pd.read_csv(X_train_path, index_col=0)\n",
    "X_test = pd.read_csv(X_test_path, index_col=0)\n",
    "y_train = pd.read_csv(y_train_path, index_col=0)\n",
    "y_test = pd.read_csv(y_test_path, index_col=0)"
   ]
  },
  {
   "cell_type": "code",
   "execution_count": 3,
   "metadata": {},
   "outputs": [],
   "source": [
    "# Import original un-processed dataset for further unscaling and interpretation of data\n",
    "\n",
    "file = 'C:/Users/javie/OneDrive/Documents/springboard_projects/Capstone-2/data/interim/clean.csv'\n",
    "orig_df = pd.read_csv(file, index_col=0)"
   ]
  },
  {
   "cell_type": "code",
   "execution_count": 4,
   "metadata": {
    "scrolled": true
   },
   "outputs": [
    {
     "data": {
      "text/plain": [
       "(3980, 48)"
      ]
     },
     "execution_count": 4,
     "metadata": {},
     "output_type": "execute_result"
    }
   ],
   "source": [
    "# Check # of columns and rows imported\n",
    "X_train.shape"
   ]
  },
  {
   "cell_type": "code",
   "execution_count": 5,
   "metadata": {},
   "outputs": [
    {
     "data": {
      "text/plain": [
       "(1706, 48)"
      ]
     },
     "execution_count": 5,
     "metadata": {},
     "output_type": "execute_result"
    }
   ],
   "source": [
    "X_test.shape"
   ]
  },
  {
   "cell_type": "code",
   "execution_count": 6,
   "metadata": {
    "scrolled": false
   },
   "outputs": [
    {
     "data": {
      "text/html": [
       "<div>\n",
       "<style scoped>\n",
       "    .dataframe tbody tr th:only-of-type {\n",
       "        vertical-align: middle;\n",
       "    }\n",
       "\n",
       "    .dataframe tbody tr th {\n",
       "        vertical-align: top;\n",
       "    }\n",
       "\n",
       "    .dataframe thead th {\n",
       "        text-align: right;\n",
       "    }\n",
       "</style>\n",
       "<table border=\"1\" class=\"dataframe\">\n",
       "  <thead>\n",
       "    <tr style=\"text-align: right;\">\n",
       "      <th></th>\n",
       "      <th>COOL_COST_log</th>\n",
       "      <th>HEAT_COST_log</th>\n",
       "      <th>WATERHEAT_COST_log</th>\n",
       "      <th>ELECT_COST_log</th>\n",
       "      <th>TOT_COST_log</th>\n",
       "    </tr>\n",
       "  </thead>\n",
       "  <tbody>\n",
       "    <tr>\n",
       "      <th>1110</th>\n",
       "      <td>6.518218</td>\n",
       "      <td>5.932510</td>\n",
       "      <td>5.082460</td>\n",
       "      <td>6.893545</td>\n",
       "      <td>7.695544</td>\n",
       "    </tr>\n",
       "    <tr>\n",
       "      <th>2521</th>\n",
       "      <td>6.827835</td>\n",
       "      <td>7.128103</td>\n",
       "      <td>5.352995</td>\n",
       "      <td>7.282431</td>\n",
       "      <td>8.251262</td>\n",
       "    </tr>\n",
       "    <tr>\n",
       "      <th>4591</th>\n",
       "      <td>0.000000</td>\n",
       "      <td>3.539799</td>\n",
       "      <td>4.661456</td>\n",
       "      <td>4.436278</td>\n",
       "      <td>5.405870</td>\n",
       "    </tr>\n",
       "    <tr>\n",
       "      <th>5359</th>\n",
       "      <td>3.359333</td>\n",
       "      <td>5.288772</td>\n",
       "      <td>5.543457</td>\n",
       "      <td>6.641482</td>\n",
       "      <td>7.127421</td>\n",
       "    </tr>\n",
       "    <tr>\n",
       "      <th>4257</th>\n",
       "      <td>4.793308</td>\n",
       "      <td>5.969347</td>\n",
       "      <td>5.099622</td>\n",
       "      <td>6.596723</td>\n",
       "      <td>7.248220</td>\n",
       "    </tr>\n",
       "  </tbody>\n",
       "</table>\n",
       "</div>"
      ],
      "text/plain": [
       "      COOL_COST_log  HEAT_COST_log  WATERHEAT_COST_log  ELECT_COST_log  \\\n",
       "1110  6.518218       5.932510       5.082460            6.893545         \n",
       "2521  6.827835       7.128103       5.352995            7.282431         \n",
       "4591  0.000000       3.539799       4.661456            4.436278         \n",
       "5359  3.359333       5.288772       5.543457            6.641482         \n",
       "4257  4.793308       5.969347       5.099622            6.596723         \n",
       "\n",
       "      TOT_COST_log  \n",
       "1110  7.695544      \n",
       "2521  8.251262      \n",
       "4591  5.405870      \n",
       "5359  7.127421      \n",
       "4257  7.248220      "
      ]
     },
     "execution_count": 6,
     "metadata": {},
     "output_type": "execute_result"
    }
   ],
   "source": [
    "y_train.head()"
   ]
  },
  {
   "cell_type": "markdown",
   "metadata": {},
   "source": [
    "## 4.2. Pre-assesment of multiple regression models"
   ]
  },
  {
   "cell_type": "markdown",
   "metadata": {},
   "source": [
    "In this section multiple regression algorithms will be tested with default configuration to obtain a general idea of their performance with our dataset. For this exercise we are not using cross-validation or adjusting any hyperparameter since the objective is simply to understand which algorithm would be the most adequate for predicting our target variables.\n",
    "\n",
    "The algorithms to be tested are the following:\n",
    "- Linear Regression (OLS)\n",
    "- Linear Regression with L2 regularization - Ridge\n",
    "- Linear Regression with L1 regularization - Lasso\n",
    "- Bagging ensemble method - Random Forest Regressor\n",
    "- Boosting ensemble method - Gradient Boosting Regressor"
   ]
  },
  {
   "cell_type": "markdown",
   "metadata": {},
   "source": [
    "The target variables are numerical and continuous, and because their original distribution had a long right tail a logarhitmic transformation was applied to recenter the distribution. Therefore, the out-of-box functions to calculate different performance metrics cannot be applied, namely the mean absolute error score.\n",
    "\n",
    "We will have to create our own custom function to calculate this metric."
   ]
  },
  {
   "cell_type": "code",
   "execution_count": 7,
   "metadata": {},
   "outputs": [],
   "source": [
    "# Create function to compute mean absolute error\n",
    "\n",
    "def MAE(y_true, y_pred):\n",
    "    '''Computes mean absolute error in real value from a log transformed variable'''\n",
    "    diff = 0\n",
    "    for i in range(len(y_true)):\n",
    "        diff += abs(np.exp(y_pred[i]) - np.exp(y_true.iloc[i,0]))\n",
    "    \n",
    "    mae = round(float(diff/len(y_true)), 2)\n",
    "    return mae"
   ]
  },
  {
   "cell_type": "code",
   "execution_count": 8,
   "metadata": {
    "scrolled": false
   },
   "outputs": [],
   "source": [
    "# Create fuction to assess performance of different models with our data\n",
    "\n",
    "def model_performance(reg_models, X_train, X_test, y_train, y_test):\n",
    "    '''Evaluate regression models performance with default hyperparameters on a dataset'''\n",
    "    exp_var = []\n",
    "    mae = []\n",
    "    \n",
    "    for model in reg_models:\n",
    "        m = model()\n",
    "        m_fit = m.fit(X_train, y_train)\n",
    "        y_pred = m_fit.predict(X_test)\n",
    "        \n",
    "        # Compute explained variance score and mean absolute error\n",
    "        exp_var.append(round(explained_variance_score(y_test, y_pred),3))\n",
    "        m = MAE(y_test, y_pred)\n",
    "        \n",
    "        # Undo log transformation to get meaningful mean errors\n",
    "        mae.append(m)\n",
    "\n",
    "    # Get name of the models\n",
    "    models = [re.findall(r'\\w+', str(i))[-1] for i in reg_models] \n",
    "    \n",
    "    # Create df with results\n",
    "    df = pd.DataFrame({'model':models, 'exp_var':exp_var, 'mean_abs_error':mae})\n",
    "    \n",
    "    return df"
   ]
  },
  {
   "cell_type": "code",
   "execution_count": 9,
   "metadata": {
    "scrolled": true
   },
   "outputs": [],
   "source": [
    "# Select the models to test\n",
    "models = [LinearRegression, Ridge, Lasso, RandomForestRegressor, GradientBoostingRegressor]\n",
    "\n",
    "# Define target variables, one for each type of energy use type plus the combined total\n",
    "y_train_COOL = y_train[['COOL_COST_log']]\n",
    "y_train_HEAT = y_train[['HEAT_COST_log']]\n",
    "y_train_WATER = y_train[['WATERHEAT_COST_log']]\n",
    "y_train_ELEC = y_train[['ELECT_COST_log']]\n",
    "y_train_TOT = y_train[['TOT_COST_log']]\n",
    "\n",
    "y_test_COOL = y_test[['COOL_COST_log']]\n",
    "y_test_HEAT = y_test[['HEAT_COST_log']]\n",
    "y_test_WATER = y_test[['WATERHEAT_COST_log']]\n",
    "y_test_ELEC = y_test[['ELECT_COST_log']]\n",
    "y_test_TOT = y_test[['TOT_COST_log']]\n",
    "\n",
    "# Run the tests and store the dfs with the results\n",
    "r1 = model_performance(models, X_train, X_test, y_train_COOL, y_test_COOL)\n",
    "r2 = model_performance(models, X_train, X_test, y_train_HEAT, y_test_HEAT)\n",
    "r3 = model_performance(models, X_train, X_test, y_train_WATER, y_test_WATER)\n",
    "r4 = model_performance(models, X_train, X_test, y_train_ELEC, y_test_ELEC)\n",
    "r5 = model_performance(models, X_train, X_test, y_train_TOT, y_test_TOT)"
   ]
  },
  {
   "cell_type": "code",
   "execution_count": 10,
   "metadata": {
    "scrolled": true
   },
   "outputs": [
    {
     "data": {
      "text/html": [
       "<div>\n",
       "<style scoped>\n",
       "    .dataframe tbody tr th:only-of-type {\n",
       "        vertical-align: middle;\n",
       "    }\n",
       "\n",
       "    .dataframe tbody tr th {\n",
       "        vertical-align: top;\n",
       "    }\n",
       "\n",
       "    .dataframe thead th {\n",
       "        text-align: right;\n",
       "    }\n",
       "</style>\n",
       "<table border=\"1\" class=\"dataframe\">\n",
       "  <thead>\n",
       "    <tr style=\"text-align: right;\">\n",
       "      <th></th>\n",
       "      <th>model</th>\n",
       "      <th>cool_cost_exp_var</th>\n",
       "      <th>cool_cost_mae</th>\n",
       "      <th>heat_cost_exp_var</th>\n",
       "      <th>heat_cost_mae</th>\n",
       "      <th>water_heating_exp_var</th>\n",
       "      <th>water_heating_mae</th>\n",
       "      <th>elect_cost_exp_var</th>\n",
       "      <th>elect_cost_mae</th>\n",
       "      <th>total_cost_exp_var</th>\n",
       "      <th>total_cost_mae</th>\n",
       "    </tr>\n",
       "  </thead>\n",
       "  <tbody>\n",
       "    <tr>\n",
       "      <th>0</th>\n",
       "      <td>LinearRegression</td>\n",
       "      <td>0.887</td>\n",
       "      <td>99.74</td>\n",
       "      <td>0.659</td>\n",
       "      <td>246.44</td>\n",
       "      <td>0.103</td>\n",
       "      <td>128.86</td>\n",
       "      <td>0.232</td>\n",
       "      <td>438.61</td>\n",
       "      <td>0.358</td>\n",
       "      <td>717.67</td>\n",
       "    </tr>\n",
       "    <tr>\n",
       "      <th>1</th>\n",
       "      <td>Ridge</td>\n",
       "      <td>0.887</td>\n",
       "      <td>99.75</td>\n",
       "      <td>0.659</td>\n",
       "      <td>246.38</td>\n",
       "      <td>0.103</td>\n",
       "      <td>128.85</td>\n",
       "      <td>0.233</td>\n",
       "      <td>438.47</td>\n",
       "      <td>0.358</td>\n",
       "      <td>717.45</td>\n",
       "    </tr>\n",
       "    <tr>\n",
       "      <th>2</th>\n",
       "      <td>Lasso</td>\n",
       "      <td>0.000</td>\n",
       "      <td>185.86</td>\n",
       "      <td>0.000</td>\n",
       "      <td>357.03</td>\n",
       "      <td>0.000</td>\n",
       "      <td>138.88</td>\n",
       "      <td>0.000</td>\n",
       "      <td>497.71</td>\n",
       "      <td>0.000</td>\n",
       "      <td>879.62</td>\n",
       "    </tr>\n",
       "    <tr>\n",
       "      <th>3</th>\n",
       "      <td>RandomForestRegressor</td>\n",
       "      <td>0.899</td>\n",
       "      <td>100.82</td>\n",
       "      <td>0.652</td>\n",
       "      <td>248.06</td>\n",
       "      <td>0.022</td>\n",
       "      <td>133.26</td>\n",
       "      <td>0.224</td>\n",
       "      <td>441.24</td>\n",
       "      <td>0.357</td>\n",
       "      <td>723.40</td>\n",
       "    </tr>\n",
       "    <tr>\n",
       "      <th>4</th>\n",
       "      <td>GradientBoostingRegressor</td>\n",
       "      <td>0.902</td>\n",
       "      <td>100.64</td>\n",
       "      <td>0.668</td>\n",
       "      <td>245.04</td>\n",
       "      <td>0.128</td>\n",
       "      <td>127.58</td>\n",
       "      <td>0.245</td>\n",
       "      <td>433.72</td>\n",
       "      <td>0.380</td>\n",
       "      <td>709.17</td>\n",
       "    </tr>\n",
       "  </tbody>\n",
       "</table>\n",
       "</div>"
      ],
      "text/plain": [
       "                       model  cool_cost_exp_var  cool_cost_mae  \\\n",
       "0  LinearRegression           0.887              99.74           \n",
       "1  Ridge                      0.887              99.75           \n",
       "2  Lasso                      0.000              185.86          \n",
       "3  RandomForestRegressor      0.899              100.82          \n",
       "4  GradientBoostingRegressor  0.902              100.64          \n",
       "\n",
       "   heat_cost_exp_var  heat_cost_mae  water_heating_exp_var  water_heating_mae  \\\n",
       "0  0.659              246.44         0.103                  128.86              \n",
       "1  0.659              246.38         0.103                  128.85              \n",
       "2  0.000              357.03         0.000                  138.88              \n",
       "3  0.652              248.06         0.022                  133.26              \n",
       "4  0.668              245.04         0.128                  127.58              \n",
       "\n",
       "   elect_cost_exp_var  elect_cost_mae  total_cost_exp_var  total_cost_mae  \n",
       "0  0.232               438.61          0.358               717.67          \n",
       "1  0.233               438.47          0.358               717.45          \n",
       "2  0.000               497.71          0.000               879.62          \n",
       "3  0.224               441.24          0.357               723.40          \n",
       "4  0.245               433.72          0.380               709.17          "
      ]
     },
     "execution_count": 10,
     "metadata": {},
     "output_type": "execute_result"
    }
   ],
   "source": [
    "# Merge results and print them\n",
    "\n",
    "results = r1.merge(r2, on='model').merge(r3, on='model').merge(r4, on='model').merge(r5, on='model')\n",
    "results.columns = ['model', \n",
    "                   'cool_cost_exp_var', 'cool_cost_mae',\n",
    "                   'heat_cost_exp_var', 'heat_cost_mae',\n",
    "                   'water_heating_exp_var', 'water_heating_mae',\n",
    "                   'elect_cost_exp_var', 'elect_cost_mae',\n",
    "                   'total_cost_exp_var', 'total_cost_mae'\n",
    "                  ]\n",
    "\n",
    "results"
   ]
  },
  {
   "cell_type": "code",
   "execution_count": 11,
   "metadata": {},
   "outputs": [
    {
     "data": {
      "text/html": [
       "<div>\n",
       "<style scoped>\n",
       "    .dataframe tbody tr th:only-of-type {\n",
       "        vertical-align: middle;\n",
       "    }\n",
       "\n",
       "    .dataframe tbody tr th {\n",
       "        vertical-align: top;\n",
       "    }\n",
       "\n",
       "    .dataframe thead th {\n",
       "        text-align: right;\n",
       "    }\n",
       "</style>\n",
       "<table border=\"1\" class=\"dataframe\">\n",
       "  <thead>\n",
       "    <tr style=\"text-align: right;\">\n",
       "      <th></th>\n",
       "      <th>Target variable</th>\n",
       "      <th>Min</th>\n",
       "      <th>Median</th>\n",
       "      <th>Max</th>\n",
       "    </tr>\n",
       "  </thead>\n",
       "  <tbody>\n",
       "    <tr>\n",
       "      <th>0</th>\n",
       "      <td>COOL_COST_log</td>\n",
       "      <td>0.00</td>\n",
       "      <td>146.60</td>\n",
       "      <td>2860.01</td>\n",
       "    </tr>\n",
       "    <tr>\n",
       "      <th>1</th>\n",
       "      <td>HEAT_COST_log</td>\n",
       "      <td>0.00</td>\n",
       "      <td>400.84</td>\n",
       "      <td>4766.66</td>\n",
       "    </tr>\n",
       "    <tr>\n",
       "      <th>2</th>\n",
       "      <td>WATERHEAT_COST_log</td>\n",
       "      <td>0.00</td>\n",
       "      <td>236.44</td>\n",
       "      <td>2566.61</td>\n",
       "    </tr>\n",
       "    <tr>\n",
       "      <th>3</th>\n",
       "      <td>ELECT_COST_log</td>\n",
       "      <td>15.43</td>\n",
       "      <td>1021.74</td>\n",
       "      <td>7310.58</td>\n",
       "    </tr>\n",
       "    <tr>\n",
       "      <th>4</th>\n",
       "      <td>TOT_COST_log</td>\n",
       "      <td>76.40</td>\n",
       "      <td>1997.59</td>\n",
       "      <td>11078.48</td>\n",
       "    </tr>\n",
       "  </tbody>\n",
       "</table>\n",
       "</div>"
      ],
      "text/plain": [
       "      Target variable    Min   Median       Max\n",
       "0  COOL_COST_log       0.00   146.60   2860.01 \n",
       "1  HEAT_COST_log       0.00   400.84   4766.66 \n",
       "2  WATERHEAT_COST_log  0.00   236.44   2566.61 \n",
       "3  ELECT_COST_log      15.43  1021.74  7310.58 \n",
       "4  TOT_COST_log        76.40  1997.59  11078.48"
      ]
     },
     "execution_count": 11,
     "metadata": {},
     "output_type": "execute_result"
    }
   ],
   "source": [
    "# Print median values for each of the target variables for comparison with mean absolute error\n",
    "\n",
    "k = orig_df[['COOL_COST_log', 'HEAT_COST_log', 'WATERHEAT_COST_log', 'ELECT_COST_log', 'TOT_COST_log']]\n",
    "\n",
    "median_val = pd.DataFrame(round(np.exp(k.describe().iloc[[3,5,7], :])-1, 2)).T.reset_index().rename(columns={'index':'Target variable', 'min':'Min', '50%':'Median', 'max':'Max'})\n",
    "\n",
    "median_val"
   ]
  },
  {
   "cell_type": "code",
   "execution_count": 12,
   "metadata": {
    "scrolled": false
   },
   "outputs": [
    {
     "data": {
      "image/png": "[encoded data removed]",
      "text/plain": [
       "<Figure size 720x504 with 1 Axes>"
      ]
     },
     "metadata": {
      "needs_background": "light"
     },
     "output_type": "display_data"
    }
   ],
   "source": [
    "# Plot explained variance results\n",
    "\n",
    "expl_var_results = results[['model', 'cool_cost_exp_var', 'heat_cost_exp_var', \n",
    "                            'water_heating_exp_var', 'elect_cost_exp_var', 'total_cost_exp_var']]\n",
    "\n",
    "expl_var_results.columns = ['model', 'cool_cost', 'heat_cost', \n",
    "                            'waterheating_cost', 'elect_cost', 'total_cost']\n",
    "\n",
    "expl_var_results.plot.bar(x='model', cmap='Set3', figsize=(10,7), width=0.7)\n",
    "plt.title('Explained variance of selected regression models', fontsize=15)\n",
    "plt.ylim([0,1])\n",
    "plt.xlabel('')\n",
    "plt.xticks(rotation=45, fontsize=13)\n",
    "plt.legend(loc='lower center', bbox_to_anchor=(1.15, 0.77))\n",
    "plt.tight_layout\n",
    "plt.show()"
   ]
  },
  {
   "cell_type": "markdown",
   "metadata": {},
   "source": [
    "__Conclusions of this section:__\n",
    "\n",
    "Initial results show that the Gradient Boosting ensemble algorithm yields the best explained variance score in Cooling, Heating, Water Heating and Total cost target variables, whereas Ridge Regression algorithm score slighly better for Other Electricity. However, in general all algorithms tested scored rather low for Water-Heating-Costs and Other-Electrical-Costs, which means that those response variables are hardly explained by any algorithm. Besides, the best model explains ~40% of the target variable variance which is roughly an average of the other four compounding response variables. \n",
    "\n",
    "The most significant outcome of this assessment is that the mean error is so high compared to the median value that limits the utility of this prediction tool for a potential user. \n",
    "\n",
    "Regardless of this circumstances, in next sections we will select the most relevant features and adjust the model's  hyperparameters to try to improve predictive power.\n",
    "\n",
    "We will choose Gradient Boosting algorithm to predict all target variables for the sake of convenience."
   ]
  },
  {
   "cell_type": "markdown",
   "metadata": {},
   "source": [
    "## 4.3. Feature selection"
   ]
  },
  {
   "cell_type": "markdown",
   "metadata": {},
   "source": [
    "Once we know which model will use to predict each response variable, we will optimize the feature space by removing higly correlated columns and features which are irrelevant for the regression model. \n",
    "\n",
    "Firstly, we will check and remove any highly correlated features to reduce dimensionality: "
   ]
  },
  {
   "cell_type": "code",
   "execution_count": 13,
   "metadata": {},
   "outputs": [],
   "source": [
    "# Create function to select and remove highly correlated features\n",
    "\n",
    "def remove_corr_feat(df):\n",
    "    '''Selects and remove highly correlated features'''\n",
    "    corr_matrix = df.corr().abs()\n",
    "    \n",
    "    # Select upper triangle of the matrix, since it is symmetric\n",
    "    upper_tri = corr_matrix.where(np.triu(np.ones(corr_matrix.shape),k=1).astype(np.bool))\n",
    "    \n",
    "    # Select columns with correlation coefficient higher than 0.95\n",
    "    to_drop = [column for column in upper_tri.columns if any(upper_tri[column] > 0.95)]\n",
    "    \n",
    "    # Drop correlated features\n",
    "    dfo = df.drop(to_drop, axis=1)\n",
    "    \n",
    "    return dfo   "
   ]
  },
  {
   "cell_type": "code",
   "execution_count": 14,
   "metadata": {},
   "outputs": [
    {
     "data": {
      "text/plain": [
       "(3980, 46)"
      ]
     },
     "execution_count": 14,
     "metadata": {},
     "output_type": "execute_result"
    }
   ],
   "source": [
    "# Remove highly correlated features from train set\n",
    "\n",
    "X_train = remove_corr_feat(X_train)\n",
    "X_train.shape"
   ]
  },
  {
   "cell_type": "code",
   "execution_count": 15,
   "metadata": {},
   "outputs": [
    {
     "data": {
      "text/plain": [
       "(1706, 46)"
      ]
     },
     "execution_count": 15,
     "metadata": {},
     "output_type": "execute_result"
    }
   ],
   "source": [
    "# Remove highly correlated features from test set\n",
    "\n",
    "X_test = remove_corr_feat(X_test)\n",
    "X_test.shape"
   ]
  },
  {
   "cell_type": "markdown",
   "metadata": {},
   "source": [
    "Two highly colinear features have been removed with this operation. \n",
    "\n",
    "Further, we will optimize the number of features based on its explained variance. A Recursive Feature Elimination algorithm will automatically tune of the number of features selected with cross-validation for each target variable:"
   ]
  },
  {
   "cell_type": "code",
   "execution_count": 16,
   "metadata": {
    "scrolled": true
   },
   "outputs": [],
   "source": [
    "# Import package \n",
    "from sklearn.feature_selection import RFECV\n",
    "\n",
    "# Define fucntion for feature selection\n",
    "def cv_feature_selection(estimator, X, y):\n",
    "    '''Selects optimal features based on explained variance'''\n",
    "    rfecv = RFECV(estimator=estimator, step=1, cv=5, scoring='explained_variance', n_jobs=-1)\n",
    "    rfecv.fit(X, y)\n",
    "\n",
    "    rfecv_mask = rfecv.get_support()\n",
    "    \n",
    "    rfecv_features = [] \n",
    "    for bool, feature in zip(rfecv_mask, X_train.columns):\n",
    "        if bool:\n",
    "            rfecv_features.append(feature)\n",
    "    \n",
    "    return rfecv_features"
   ]
  },
  {
   "cell_type": "code",
   "execution_count": 17,
   "metadata": {},
   "outputs": [],
   "source": [
    "# Create function to check features removed\n",
    "\n",
    "def Diff(li1, li2):\n",
    "    '''Computes differences between two lists'''\n",
    "    return (list(list(set(li1)-set(li2)) + list(set(li2)-set(li1))))"
   ]
  },
  {
   "cell_type": "code",
   "execution_count": 18,
   "metadata": {},
   "outputs": [],
   "source": [
    "# Instantiate regressor for feature selection\n",
    "reg = GradientBoostingRegressor()"
   ]
  },
  {
   "cell_type": "markdown",
   "metadata": {},
   "source": [
    "#### Feature selection for *Cooling Costs*:"
   ]
  },
  {
   "cell_type": "code",
   "execution_count": 19,
   "metadata": {},
   "outputs": [
    {
     "name": "stdout",
     "output_type": "stream",
     "text": [
      "Optimal number of features : 39\n"
     ]
    }
   ],
   "source": [
    "# Select features for cooling costs target variable\n",
    "sel_features = cv_feature_selection(reg, X_train, y_train_COOL)\n",
    "\n",
    "print('Optimal number of features :', len(sel_features))\n",
    "\n",
    "X_train_COOL = X_train[sel_features]\n",
    "X_test_COOL = X_test[sel_features]"
   ]
  },
  {
   "cell_type": "code",
   "execution_count": 20,
   "metadata": {},
   "outputs": [
    {
     "data": {
      "text/plain": [
       "['EQUIP_AGE_E: 15-19 yrs',\n",
       " 'THERMOSTAT_1.0',\n",
       " 'STORIES_Split-level',\n",
       " 'EQUIP_AGE_C: 5-9 yrs',\n",
       " 'STORIES_2',\n",
       " 'EQUIP_AGE_D: 10-14 yrs',\n",
       " 'UNIT_TYPE_Attached house']"
      ]
     },
     "execution_count": 20,
     "metadata": {},
     "output_type": "execute_result"
    }
   ],
   "source": [
    "# Check features removed\n",
    "Diff(sel_features, list(X_train.columns))"
   ]
  },
  {
   "cell_type": "code",
   "execution_count": 21,
   "metadata": {},
   "outputs": [
    {
     "data": {
      "text/plain": [
       "(3980, 39)"
      ]
     },
     "execution_count": 21,
     "metadata": {},
     "output_type": "execute_result"
    }
   ],
   "source": [
    "X_train_COOL.shape"
   ]
  },
  {
   "cell_type": "markdown",
   "metadata": {},
   "source": [
    "#### Feature selection for *Heating Costs*:"
   ]
  },
  {
   "cell_type": "code",
   "execution_count": 22,
   "metadata": {},
   "outputs": [
    {
     "name": "stdout",
     "output_type": "stream",
     "text": [
      "Optimal number of features : 35\n"
     ]
    }
   ],
   "source": [
    "# Select features for cooling costs target variable\n",
    "sel_features = cv_feature_selection(reg, X_train, y_train_HEAT)\n",
    "\n",
    "print('Optimal number of features :', len(sel_features))\n",
    "\n",
    "X_train_HEAT = X_train[sel_features]\n",
    "X_test_HEAT = X_test[sel_features]"
   ]
  },
  {
   "cell_type": "code",
   "execution_count": 23,
   "metadata": {},
   "outputs": [
    {
     "data": {
      "text/plain": [
       "['DECADE_BUILT_2010-2015',\n",
       " 'STORIES_3',\n",
       " 'STORIES_Split-level',\n",
       " 'ATTIC_1.0',\n",
       " 'DECADE_BUILT_2000-2009',\n",
       " 'STORIES_2',\n",
       " 'BEDROOMS_0-2',\n",
       " 'SIZEOFGARAGE_2.0',\n",
       " 'BEDROOMS_3',\n",
       " 'BATHROOMS_1.5-2',\n",
       " 'SIZEOFGARAGE_3.0']"
      ]
     },
     "execution_count": 23,
     "metadata": {},
     "output_type": "execute_result"
    }
   ],
   "source": [
    "# Check features removed\n",
    "Diff(sel_features, list(X_train.columns))"
   ]
  },
  {
   "cell_type": "markdown",
   "metadata": {},
   "source": [
    "#### Feature selection for *Water Heating Costs*:"
   ]
  },
  {
   "cell_type": "code",
   "execution_count": 24,
   "metadata": {},
   "outputs": [
    {
     "name": "stdout",
     "output_type": "stream",
     "text": [
      "Optimal number of features : 32\n"
     ]
    }
   ],
   "source": [
    "# Select features for cooling costs target variable\n",
    "sel_features = cv_feature_selection(reg, X_train, y_train_WATER)\n",
    "\n",
    "print('Optimal number of features :', len(sel_features))\n",
    "\n",
    "X_train_WATER = X_train[sel_features]\n",
    "X_test_WATER = X_test[sel_features]"
   ]
  },
  {
   "cell_type": "code",
   "execution_count": 25,
   "metadata": {},
   "outputs": [
    {
     "data": {
      "text/plain": [
       "['THERMOSTAT_1.0',\n",
       " 'STORIES_3',\n",
       " 'CLIMATE_REGION_Marine',\n",
       " 'DECADE_BUILT_1970-1979',\n",
       " 'STORIES_Split-level',\n",
       " 'DECADE_BUILT_1980-1989',\n",
       " 'EQUIP_AGE_C: 5-9 yrs',\n",
       " 'STORIES_2',\n",
       " 'STORIES_1',\n",
       " 'EQUIP_AGE_B: 2-4 yrs',\n",
       " 'EQUIP_AGE_F: +20 yrs',\n",
       " 'BASEMENT_1.0',\n",
       " 'COOL_TYPE_Individual',\n",
       " 'SIZEOFGARAGE_3.0']"
      ]
     },
     "execution_count": 25,
     "metadata": {},
     "output_type": "execute_result"
    }
   ],
   "source": [
    "# Check features removed\n",
    "Diff(sel_features, list(X_train.columns))"
   ]
  },
  {
   "cell_type": "markdown",
   "metadata": {},
   "source": [
    "#### Feature selection for *Other Electricity Costs*:"
   ]
  },
  {
   "cell_type": "code",
   "execution_count": 26,
   "metadata": {},
   "outputs": [
    {
     "name": "stdout",
     "output_type": "stream",
     "text": [
      "Optimal number of features : 35\n"
     ]
    }
   ],
   "source": [
    "# Select features for cooling costs target variable\n",
    "sel_features = cv_feature_selection(reg, X_train, y_train_ELEC)\n",
    "\n",
    "print('Optimal number of features :', len(sel_features))\n",
    "\n",
    "X_train_ELEC = X_train[sel_features]\n",
    "X_test_ELEC = X_test[sel_features]"
   ]
  },
  {
   "cell_type": "code",
   "execution_count": 27,
   "metadata": {},
   "outputs": [
    {
     "data": {
      "text/plain": [
       "['EQUIP_AGE_E: 15-19 yrs',\n",
       " 'STORIES_Split-level',\n",
       " 'STORIES_3',\n",
       " 'SIZEOFGARAGE_1.0',\n",
       " 'DECADE_BUILT_1980-1989',\n",
       " 'STORIES_2',\n",
       " 'STORIES_1',\n",
       " 'EQUIP_AGE_B: 2-4 yrs',\n",
       " 'EQUIP_AGE_F: +20 yrs',\n",
       " 'SIZEOFGARAGE_2.0',\n",
       " 'UNIT_TYPE_Attached house']"
      ]
     },
     "execution_count": 27,
     "metadata": {},
     "output_type": "execute_result"
    }
   ],
   "source": [
    "# Check features removed\n",
    "Diff(sel_features, list(X_train.columns))"
   ]
  },
  {
   "cell_type": "markdown",
   "metadata": {},
   "source": [
    "#### Feature selection for *Total Utility Costs*:"
   ]
  },
  {
   "cell_type": "code",
   "execution_count": 28,
   "metadata": {},
   "outputs": [
    {
     "name": "stdout",
     "output_type": "stream",
     "text": [
      "Optimal number of features : 36\n"
     ]
    }
   ],
   "source": [
    "# Select features for cooling costs target variable\n",
    "sel_features = cv_feature_selection(reg, X_train, y_train_TOT)\n",
    "\n",
    "print('Optimal number of features :', len(sel_features))\n",
    "\n",
    "X_train_TOT = X_train[sel_features]\n",
    "X_test_TOT = X_test[sel_features]"
   ]
  },
  {
   "cell_type": "code",
   "execution_count": 29,
   "metadata": {},
   "outputs": [
    {
     "data": {
      "text/plain": [
       "['EQUIP_AGE_E: 15-19 yrs',\n",
       " 'STORIES_Split-level',\n",
       " 'ATTIC_1.0',\n",
       " 'DECADE_BUILT_1960-1969',\n",
       " 'EQUIP_AGE_C: 5-9 yrs',\n",
       " 'DECADE_BUILT_2000-2009',\n",
       " 'STORIES_1',\n",
       " 'EQUIP_AGE_B: 2-4 yrs',\n",
       " 'OWNERSHIP_Owned',\n",
       " 'UNIT_TYPE_Attached house']"
      ]
     },
     "execution_count": 29,
     "metadata": {},
     "output_type": "execute_result"
    }
   ],
   "source": [
    "# Check features removed\n",
    "Diff(sel_features, list(X_train.columns))"
   ]
  },
  {
   "cell_type": "markdown",
   "metadata": {},
   "source": [
    "## 4.4. Hyperparameter tuning for selected models\n",
    "\n",
    "In this section, we will tune the hyperparameters of the Gradient Boosting and Ridge algorithms to find the best model for each of the variables. To do this we will use a grid search algorithm with cross-validation."
   ]
  },
  {
   "cell_type": "markdown",
   "metadata": {},
   "source": [
    "__Gradient Boosting Regressor__\n",
    "\n",
    "The following parameters will be tested and adjusted:\n",
    "- *Max Depth*: maximum number of levels the trees can grow\n",
    "- *Number of Estimators*: number of boosting stages\n",
    "- *Learning Rate*: the level of the contribution of each tree to the final model"
   ]
  },
  {
   "cell_type": "code",
   "execution_count": 30,
   "metadata": {},
   "outputs": [],
   "source": [
    "# Import GridSearch\n",
    "from sklearn.model_selection import GridSearchCV"
   ]
  },
  {
   "cell_type": "code",
   "execution_count": 31,
   "metadata": {},
   "outputs": [],
   "source": [
    "# Create function for grid search and cross-validation\n",
    "\n",
    "def best_config(model, param_grid, X_train, y_train):\n",
    "    '''Runs a grid search with cross-validation for selected model and datasets'''\n",
    "    estimator = GridSearchCV(model, param_grid, cv=5, n_jobs=-1)\n",
    "    estimator_fit = estimator.fit(X_train, y_train)\n",
    "    \n",
    "    # Get 5 best models and their scores\n",
    "    r = pd.DataFrame({'Best params':estimator_fit.cv_results_['params'][estimator_fit.best_index_], \n",
    "                      'Best score':estimator_fit.best_score_})\n",
    "    \n",
    "    return r"
   ]
  },
  {
   "cell_type": "code",
   "execution_count": 32,
   "metadata": {},
   "outputs": [],
   "source": [
    "# Instantiate the regressor for hyperparameter tuning\n",
    "\n",
    "gbr = GradientBoostingRegressor()"
   ]
  },
  {
   "cell_type": "code",
   "execution_count": 33,
   "metadata": {},
   "outputs": [],
   "source": [
    "# Select hyperparameters to tune \n",
    "\n",
    "param_grid = {'learning_rate': [0.05, 0.1, 0.15, 0.2],\n",
    "              'max_depth': [2, 3, 4], \n",
    "              'n_estimators': [150, 200, 250]\n",
    "             }"
   ]
  },
  {
   "cell_type": "markdown",
   "metadata": {},
   "source": [
    "#### Hyperparameter tune for *Cooling Costs*:"
   ]
  },
  {
   "cell_type": "code",
   "execution_count": 34,
   "metadata": {},
   "outputs": [
    {
     "data": {
      "text/html": [
       "<div>\n",
       "<style scoped>\n",
       "    .dataframe tbody tr th:only-of-type {\n",
       "        vertical-align: middle;\n",
       "    }\n",
       "\n",
       "    .dataframe tbody tr th {\n",
       "        vertical-align: top;\n",
       "    }\n",
       "\n",
       "    .dataframe thead th {\n",
       "        text-align: right;\n",
       "    }\n",
       "</style>\n",
       "<table border=\"1\" class=\"dataframe\">\n",
       "  <thead>\n",
       "    <tr style=\"text-align: right;\">\n",
       "      <th></th>\n",
       "      <th>Best params</th>\n",
       "      <th>Best score</th>\n",
       "    </tr>\n",
       "  </thead>\n",
       "  <tbody>\n",
       "    <tr>\n",
       "      <th>learning_rate</th>\n",
       "      <td>0.1</td>\n",
       "      <td>0.911165</td>\n",
       "    </tr>\n",
       "    <tr>\n",
       "      <th>max_depth</th>\n",
       "      <td>3.0</td>\n",
       "      <td>0.911165</td>\n",
       "    </tr>\n",
       "    <tr>\n",
       "      <th>n_estimators</th>\n",
       "      <td>250.0</td>\n",
       "      <td>0.911165</td>\n",
       "    </tr>\n",
       "  </tbody>\n",
       "</table>\n",
       "</div>"
      ],
      "text/plain": [
       "               Best params  Best score\n",
       "learning_rate  0.1          0.911165  \n",
       "max_depth      3.0          0.911165  \n",
       "n_estimators   250.0        0.911165  "
      ]
     },
     "execution_count": 34,
     "metadata": {},
     "output_type": "execute_result"
    }
   ],
   "source": [
    "# Get best hyperparams and score\n",
    "\n",
    "best_config(gbr, param_grid, X_train_COOL, y_train_COOL)"
   ]
  },
  {
   "cell_type": "markdown",
   "metadata": {},
   "source": [
    "#### Hyperparameter tune for *Heating Costs*:"
   ]
  },
  {
   "cell_type": "code",
   "execution_count": 35,
   "metadata": {
    "scrolled": false
   },
   "outputs": [
    {
     "data": {
      "text/html": [
       "<div>\n",
       "<style scoped>\n",
       "    .dataframe tbody tr th:only-of-type {\n",
       "        vertical-align: middle;\n",
       "    }\n",
       "\n",
       "    .dataframe tbody tr th {\n",
       "        vertical-align: top;\n",
       "    }\n",
       "\n",
       "    .dataframe thead th {\n",
       "        text-align: right;\n",
       "    }\n",
       "</style>\n",
       "<table border=\"1\" class=\"dataframe\">\n",
       "  <thead>\n",
       "    <tr style=\"text-align: right;\">\n",
       "      <th></th>\n",
       "      <th>Best params</th>\n",
       "      <th>Best score</th>\n",
       "    </tr>\n",
       "  </thead>\n",
       "  <tbody>\n",
       "    <tr>\n",
       "      <th>learning_rate</th>\n",
       "      <td>0.05</td>\n",
       "      <td>0.696801</td>\n",
       "    </tr>\n",
       "    <tr>\n",
       "      <th>max_depth</th>\n",
       "      <td>3.00</td>\n",
       "      <td>0.696801</td>\n",
       "    </tr>\n",
       "    <tr>\n",
       "      <th>n_estimators</th>\n",
       "      <td>250.00</td>\n",
       "      <td>0.696801</td>\n",
       "    </tr>\n",
       "  </tbody>\n",
       "</table>\n",
       "</div>"
      ],
      "text/plain": [
       "               Best params  Best score\n",
       "learning_rate  0.05         0.696801  \n",
       "max_depth      3.00         0.696801  \n",
       "n_estimators   250.00       0.696801  "
      ]
     },
     "execution_count": 35,
     "metadata": {},
     "output_type": "execute_result"
    }
   ],
   "source": [
    "# Get best hyperparams and score\n",
    "\n",
    "best_config(gbr, param_grid, X_train_HEAT, y_train_HEAT)"
   ]
  },
  {
   "cell_type": "markdown",
   "metadata": {},
   "source": [
    "#### Hyperparameter tune for *Water Heating Costs*:"
   ]
  },
  {
   "cell_type": "code",
   "execution_count": 36,
   "metadata": {},
   "outputs": [
    {
     "data": {
      "text/html": [
       "<div>\n",
       "<style scoped>\n",
       "    .dataframe tbody tr th:only-of-type {\n",
       "        vertical-align: middle;\n",
       "    }\n",
       "\n",
       "    .dataframe tbody tr th {\n",
       "        vertical-align: top;\n",
       "    }\n",
       "\n",
       "    .dataframe thead th {\n",
       "        text-align: right;\n",
       "    }\n",
       "</style>\n",
       "<table border=\"1\" class=\"dataframe\">\n",
       "  <thead>\n",
       "    <tr style=\"text-align: right;\">\n",
       "      <th></th>\n",
       "      <th>Best params</th>\n",
       "      <th>Best score</th>\n",
       "    </tr>\n",
       "  </thead>\n",
       "  <tbody>\n",
       "    <tr>\n",
       "      <th>learning_rate</th>\n",
       "      <td>0.2</td>\n",
       "      <td>0.139126</td>\n",
       "    </tr>\n",
       "    <tr>\n",
       "      <th>max_depth</th>\n",
       "      <td>2.0</td>\n",
       "      <td>0.139126</td>\n",
       "    </tr>\n",
       "    <tr>\n",
       "      <th>n_estimators</th>\n",
       "      <td>150.0</td>\n",
       "      <td>0.139126</td>\n",
       "    </tr>\n",
       "  </tbody>\n",
       "</table>\n",
       "</div>"
      ],
      "text/plain": [
       "               Best params  Best score\n",
       "learning_rate  0.2          0.139126  \n",
       "max_depth      2.0          0.139126  \n",
       "n_estimators   150.0        0.139126  "
      ]
     },
     "execution_count": 36,
     "metadata": {},
     "output_type": "execute_result"
    }
   ],
   "source": [
    "# Get best hyperparams and score\n",
    "\n",
    "best_config(gbr, param_grid, X_train_WATER, y_train_WATER)"
   ]
  },
  {
   "cell_type": "markdown",
   "metadata": {},
   "source": [
    "#### Hyperparameter tune for *Other Electricity Costs*:"
   ]
  },
  {
   "cell_type": "code",
   "execution_count": 37,
   "metadata": {},
   "outputs": [
    {
     "data": {
      "text/html": [
       "<div>\n",
       "<style scoped>\n",
       "    .dataframe tbody tr th:only-of-type {\n",
       "        vertical-align: middle;\n",
       "    }\n",
       "\n",
       "    .dataframe tbody tr th {\n",
       "        vertical-align: top;\n",
       "    }\n",
       "\n",
       "    .dataframe thead th {\n",
       "        text-align: right;\n",
       "    }\n",
       "</style>\n",
       "<table border=\"1\" class=\"dataframe\">\n",
       "  <thead>\n",
       "    <tr style=\"text-align: right;\">\n",
       "      <th></th>\n",
       "      <th>Best params</th>\n",
       "      <th>Best score</th>\n",
       "    </tr>\n",
       "  </thead>\n",
       "  <tbody>\n",
       "    <tr>\n",
       "      <th>learning_rate</th>\n",
       "      <td>0.05</td>\n",
       "      <td>0.292159</td>\n",
       "    </tr>\n",
       "    <tr>\n",
       "      <th>max_depth</th>\n",
       "      <td>4.00</td>\n",
       "      <td>0.292159</td>\n",
       "    </tr>\n",
       "    <tr>\n",
       "      <th>n_estimators</th>\n",
       "      <td>150.00</td>\n",
       "      <td>0.292159</td>\n",
       "    </tr>\n",
       "  </tbody>\n",
       "</table>\n",
       "</div>"
      ],
      "text/plain": [
       "               Best params  Best score\n",
       "learning_rate  0.05         0.292159  \n",
       "max_depth      4.00         0.292159  \n",
       "n_estimators   150.00       0.292159  "
      ]
     },
     "execution_count": 37,
     "metadata": {},
     "output_type": "execute_result"
    }
   ],
   "source": [
    "# Get best hyperparams and score\n",
    "\n",
    "best_config(gbr, param_grid, X_train_ELEC, y_train_ELEC)"
   ]
  },
  {
   "cell_type": "markdown",
   "metadata": {},
   "source": [
    "#### Hyperparameter tune for *Total Utility Costs*:"
   ]
  },
  {
   "cell_type": "code",
   "execution_count": 38,
   "metadata": {
    "scrolled": false
   },
   "outputs": [
    {
     "data": {
      "text/html": [
       "<div>\n",
       "<style scoped>\n",
       "    .dataframe tbody tr th:only-of-type {\n",
       "        vertical-align: middle;\n",
       "    }\n",
       "\n",
       "    .dataframe tbody tr th {\n",
       "        vertical-align: top;\n",
       "    }\n",
       "\n",
       "    .dataframe thead th {\n",
       "        text-align: right;\n",
       "    }\n",
       "</style>\n",
       "<table border=\"1\" class=\"dataframe\">\n",
       "  <thead>\n",
       "    <tr style=\"text-align: right;\">\n",
       "      <th></th>\n",
       "      <th>Best params</th>\n",
       "      <th>Best score</th>\n",
       "    </tr>\n",
       "  </thead>\n",
       "  <tbody>\n",
       "    <tr>\n",
       "      <th>learning_rate</th>\n",
       "      <td>0.05</td>\n",
       "      <td>0.422077</td>\n",
       "    </tr>\n",
       "    <tr>\n",
       "      <th>max_depth</th>\n",
       "      <td>3.00</td>\n",
       "      <td>0.422077</td>\n",
       "    </tr>\n",
       "    <tr>\n",
       "      <th>n_estimators</th>\n",
       "      <td>200.00</td>\n",
       "      <td>0.422077</td>\n",
       "    </tr>\n",
       "  </tbody>\n",
       "</table>\n",
       "</div>"
      ],
      "text/plain": [
       "               Best params  Best score\n",
       "learning_rate  0.05         0.422077  \n",
       "max_depth      3.00         0.422077  \n",
       "n_estimators   200.00       0.422077  "
      ]
     },
     "execution_count": 38,
     "metadata": {},
     "output_type": "execute_result"
    }
   ],
   "source": [
    "# Get best hyperparams and score\n",
    "\n",
    "best_config(gbr, param_grid, X_train_TOT, y_train_TOT)"
   ]
  },
  {
   "cell_type": "markdown",
   "metadata": {},
   "source": [
    "## 4.5. Final model selection and results"
   ]
  },
  {
   "cell_type": "markdown",
   "metadata": {},
   "source": [
    "Once we have compute performance for different hyperparameter configurations, we can run the final model selection for each of the target variables and review the explained variance and mean absolute error score results. \n",
    "\n",
    "As we saw in the previous section, the most optimal configurations are:\n",
    "\n",
    "| Target variable | Learning rate | Max depth | Number of estimators (trees) |\n",
    "| -------- | --------- | --------- | --------- |\n",
    "| Cooling costs | 0.1 | 3 | 250 |\n",
    "| Heating costs | 0.05 | 3 | 250 |\n",
    "| Water heating costs | 0.2 | 2 | 150 |\n",
    "| Other electricity costs | 0.05 | 4 | 150 |\n",
    "| Total costs | 0.05 | 3 | 200 |\n",
    "\n",
    "Also, we will calculate the upper limit prediction interval and provide the maximum utility expenses probability for a given house/unit. This is useful for potential user since it limits the uncertainty of the model by giving a likely maximum expense. \n",
    "\n",
    "The upper prediction interval certanty is been set to 0.80, meaning that 80% of the real values are expected to lay below the given prediction."
   ]
  },
  {
   "cell_type": "code",
   "execution_count": 39,
   "metadata": {
    "scrolled": false
   },
   "outputs": [],
   "source": [
    "# Create fuction to get explained variand and mean absolute error\n",
    "\n",
    "def model_scoring(y_test, y_pred):\n",
    "    '''Get explained variance and mean absolute error with real unscaled values'''\n",
    "        \n",
    "    # Compute explained variance score and mean absolute error\n",
    "    exp_var = round(explained_variance_score(y_test, y_pred),3)\n",
    "    mae = MAE(y_test, y_pred)\n",
    "\n",
    "    return exp_var, mae"
   ]
  },
  {
   "cell_type": "code",
   "execution_count": 40,
   "metadata": {},
   "outputs": [],
   "source": [
    "# Create empty lists to store results\n",
    "\n",
    "exp_var = []\n",
    "mae = []\n",
    "feat = ['cooling cost', 'heating cost', 'water heating cost', 'other electricity cost', 'total utility cost']"
   ]
  },
  {
   "cell_type": "code",
   "execution_count": 41,
   "metadata": {},
   "outputs": [],
   "source": [
    "# Set upper confidence interval\n",
    "\n",
    "upper_alpha=0.80"
   ]
  },
  {
   "cell_type": "markdown",
   "metadata": {},
   "source": [
    "#### Final model for *Cooling Cost* prediction:"
   ]
  },
  {
   "cell_type": "code",
   "execution_count": 42,
   "metadata": {},
   "outputs": [],
   "source": [
    "# Instantiate predictor\n",
    "gbr_cool = GradientBoostingRegressor(learning_rate=0.1, max_depth=3, n_estimators=250)\n",
    "\n",
    "# Fit and predict\n",
    "gbr_cool_fit = gbr_cool.fit(X_train_COOL, y_train_COOL)\n",
    "y_pred = gbr_cool_fit.predict(X_test_COOL)"
   ]
  },
  {
   "cell_type": "code",
   "execution_count": 43,
   "metadata": {},
   "outputs": [],
   "source": [
    "# Get explained variance and mean absolute error\n",
    "ev, m = model_scoring(y_test_COOL, y_pred)\n",
    "\n",
    "# Store results in lists\n",
    "exp_var.append(ev)\n",
    "mae.append(m)"
   ]
  },
  {
   "cell_type": "code",
   "execution_count": 44,
   "metadata": {},
   "outputs": [],
   "source": [
    "# Get upper prediction interval\n",
    "\n",
    "# Instantiate predictor\n",
    "gbr_int_cool = GradientBoostingRegressor(loss=\"quantile\", alpha=upper_alpha, learning_rate=0.1, max_depth=3, n_estimators=250)\n",
    "\n",
    "# Fit and predict\n",
    "gbr_int_cool_fit = gbr_int_cool.fit(X_train_COOL, y_train_COOL)"
   ]
  },
  {
   "cell_type": "code",
   "execution_count": 45,
   "metadata": {},
   "outputs": [
    {
     "data": {
      "text/html": [
       "<div>\n",
       "<style scoped>\n",
       "    .dataframe tbody tr th:only-of-type {\n",
       "        vertical-align: middle;\n",
       "    }\n",
       "\n",
       "    .dataframe tbody tr th {\n",
       "        vertical-align: top;\n",
       "    }\n",
       "\n",
       "    .dataframe thead th {\n",
       "        text-align: right;\n",
       "    }\n",
       "</style>\n",
       "<table border=\"1\" class=\"dataframe\">\n",
       "  <thead>\n",
       "    <tr style=\"text-align: right;\">\n",
       "      <th></th>\n",
       "      <th>feat_importance</th>\n",
       "    </tr>\n",
       "  </thead>\n",
       "  <tbody>\n",
       "    <tr>\n",
       "      <th>COOL_TYPE_None</th>\n",
       "      <td>0.802151</td>\n",
       "    </tr>\n",
       "    <tr>\n",
       "      <th>CLIMATE_REGION_Hot-Humid</th>\n",
       "      <td>0.061949</td>\n",
       "    </tr>\n",
       "    <tr>\n",
       "      <th>FLOOR_AREA_log</th>\n",
       "      <td>0.033821</td>\n",
       "    </tr>\n",
       "    <tr>\n",
       "      <th>CLIMATE_REGION_Mixed-Humid</th>\n",
       "      <td>0.027304</td>\n",
       "    </tr>\n",
       "    <tr>\n",
       "      <th>CLIMATE_REGION_Hot-Dry/Mixed-Dry</th>\n",
       "      <td>0.014748</td>\n",
       "    </tr>\n",
       "    <tr>\n",
       "      <th>UNIT_TYPE_Detached house</th>\n",
       "      <td>0.012238</td>\n",
       "    </tr>\n",
       "    <tr>\n",
       "      <th>COOL_TYPE_Individual</th>\n",
       "      <td>0.010805</td>\n",
       "    </tr>\n",
       "    <tr>\n",
       "      <th>CLIMATE_REGION_Marine</th>\n",
       "      <td>0.009340</td>\n",
       "    </tr>\n",
       "    <tr>\n",
       "      <th>UNIT_TYPE_Apartment in bld \\nwith 5+ units</th>\n",
       "      <td>0.007648</td>\n",
       "    </tr>\n",
       "    <tr>\n",
       "      <th>COOL_TYPE_Central</th>\n",
       "      <td>0.002908</td>\n",
       "    </tr>\n",
       "  </tbody>\n",
       "</table>\n",
       "</div>"
      ],
      "text/plain": [
       "                                            feat_importance\n",
       "COOL_TYPE_None                              0.802151       \n",
       "CLIMATE_REGION_Hot-Humid                    0.061949       \n",
       "FLOOR_AREA_log                              0.033821       \n",
       "CLIMATE_REGION_Mixed-Humid                  0.027304       \n",
       "CLIMATE_REGION_Hot-Dry/Mixed-Dry            0.014748       \n",
       "UNIT_TYPE_Detached house                    0.012238       \n",
       "COOL_TYPE_Individual                        0.010805       \n",
       "CLIMATE_REGION_Marine                       0.009340       \n",
       "UNIT_TYPE_Apartment in bld \\nwith 5+ units  0.007648       \n",
       "COOL_TYPE_Central                           0.002908       "
      ]
     },
     "execution_count": 45,
     "metadata": {},
     "output_type": "execute_result"
    }
   ],
   "source": [
    "# Get top 10 feature importances for model gbr_cool_fit\n",
    "\n",
    "imp_cool = pd.DataFrame(gbr_cool_fit.feature_importances_, index=X_train_COOL.columns, columns=['feat_importance'])\n",
    "imp_cool.sort_values(by='feat_importance', ascending=False)[:10]"
   ]
  },
  {
   "cell_type": "markdown",
   "metadata": {},
   "source": [
    "__Final model for *Heating Cost* prediction:__"
   ]
  },
  {
   "cell_type": "code",
   "execution_count": 46,
   "metadata": {},
   "outputs": [],
   "source": [
    "# Instantiate predictor\n",
    "gbr_heat = GradientBoostingRegressor(learning_rate=0.05, max_depth=3, n_estimators=250)\n",
    "\n",
    "# Fit and predict\n",
    "gbr_heat_fit = gbr_heat.fit(X_train_HEAT, y_train_HEAT)\n",
    "y_pred = gbr_heat_fit.predict(X_test_HEAT)"
   ]
  },
  {
   "cell_type": "code",
   "execution_count": 47,
   "metadata": {},
   "outputs": [],
   "source": [
    "# Get explained variance and mean absolute error\n",
    "ev, m = model_scoring(y_test_HEAT, y_pred)\n",
    "\n",
    "# Store results in lists\n",
    "exp_var.append(ev)\n",
    "mae.append(m)"
   ]
  },
  {
   "cell_type": "code",
   "execution_count": 48,
   "metadata": {},
   "outputs": [],
   "source": [
    "# Get upper prediction interval\n",
    "\n",
    "# Instantiate predictor\n",
    "gbr_int_heat = GradientBoostingRegressor(loss=\"quantile\", alpha=upper_alpha, learning_rate=0.05, max_depth=3, n_estimators=250)\n",
    "\n",
    "# Fit and predict\n",
    "gbr_int_heat_fit = gbr_int_heat.fit(X_train_HEAT, y_train_HEAT)"
   ]
  },
  {
   "cell_type": "code",
   "execution_count": 49,
   "metadata": {},
   "outputs": [
    {
     "data": {
      "text/html": [
       "<div>\n",
       "<style scoped>\n",
       "    .dataframe tbody tr th:only-of-type {\n",
       "        vertical-align: middle;\n",
       "    }\n",
       "\n",
       "    .dataframe tbody tr th {\n",
       "        vertical-align: top;\n",
       "    }\n",
       "\n",
       "    .dataframe thead th {\n",
       "        text-align: right;\n",
       "    }\n",
       "</style>\n",
       "<table border=\"1\" class=\"dataframe\">\n",
       "  <thead>\n",
       "    <tr style=\"text-align: right;\">\n",
       "      <th></th>\n",
       "      <th>feat_importance</th>\n",
       "    </tr>\n",
       "  </thead>\n",
       "  <tbody>\n",
       "    <tr>\n",
       "      <th>EQUIP_AGE_None</th>\n",
       "      <td>0.706036</td>\n",
       "    </tr>\n",
       "    <tr>\n",
       "      <th>FLOOR_AREA_log</th>\n",
       "      <td>0.082471</td>\n",
       "    </tr>\n",
       "    <tr>\n",
       "      <th>CLIMATE_REGION_Hot-Dry/Mixed-Dry</th>\n",
       "      <td>0.035847</td>\n",
       "    </tr>\n",
       "    <tr>\n",
       "      <th>CLIMATE_REGION_Hot-Humid</th>\n",
       "      <td>0.030944</td>\n",
       "    </tr>\n",
       "    <tr>\n",
       "      <th>BASEMENT_1.0</th>\n",
       "      <td>0.027727</td>\n",
       "    </tr>\n",
       "    <tr>\n",
       "      <th>UNIT_TYPE_Apartment in bld \\nwith 5+ units</th>\n",
       "      <td>0.024488</td>\n",
       "    </tr>\n",
       "    <tr>\n",
       "      <th>HEAT_TYPE_Other individual</th>\n",
       "      <td>0.022019</td>\n",
       "    </tr>\n",
       "    <tr>\n",
       "      <th>UNIT_TYPE_Detached house</th>\n",
       "      <td>0.012961</td>\n",
       "    </tr>\n",
       "    <tr>\n",
       "      <th>HEAT_TYPE_Central heat pump</th>\n",
       "      <td>0.011867</td>\n",
       "    </tr>\n",
       "    <tr>\n",
       "      <th>CLIMATE_REGION_Mixed-Humid</th>\n",
       "      <td>0.010355</td>\n",
       "    </tr>\n",
       "  </tbody>\n",
       "</table>\n",
       "</div>"
      ],
      "text/plain": [
       "                                            feat_importance\n",
       "EQUIP_AGE_None                              0.706036       \n",
       "FLOOR_AREA_log                              0.082471       \n",
       "CLIMATE_REGION_Hot-Dry/Mixed-Dry            0.035847       \n",
       "CLIMATE_REGION_Hot-Humid                    0.030944       \n",
       "BASEMENT_1.0                                0.027727       \n",
       "UNIT_TYPE_Apartment in bld \\nwith 5+ units  0.024488       \n",
       "HEAT_TYPE_Other individual                  0.022019       \n",
       "UNIT_TYPE_Detached house                    0.012961       \n",
       "HEAT_TYPE_Central heat pump                 0.011867       \n",
       "CLIMATE_REGION_Mixed-Humid                  0.010355       "
      ]
     },
     "execution_count": 49,
     "metadata": {},
     "output_type": "execute_result"
    }
   ],
   "source": [
    "# Get top 10 feature importances for model gbr_heat_fit\n",
    "\n",
    "imp_heat = pd.DataFrame(gbr_heat_fit.feature_importances_, index=X_train_HEAT.columns, columns=['feat_importance'])\n",
    "imp_heat.sort_values(by='feat_importance', ascending=False)[:10]"
   ]
  },
  {
   "cell_type": "markdown",
   "metadata": {},
   "source": [
    "__Final model for *Water Heating Cost* prediction:__"
   ]
  },
  {
   "cell_type": "code",
   "execution_count": 50,
   "metadata": {},
   "outputs": [],
   "source": [
    "# Instantiate predictor\n",
    "gbr_wat = GradientBoostingRegressor(learning_rate=0.2, max_depth=2, n_estimators=150)\n",
    "\n",
    "# Fit and predict\n",
    "gbr_wat_fit = gbr_wat.fit(X_train_WATER, y_train_WATER)\n",
    "y_pred = gbr_wat_fit.predict(X_test_WATER)"
   ]
  },
  {
   "cell_type": "code",
   "execution_count": 51,
   "metadata": {},
   "outputs": [],
   "source": [
    "# Get explained variance and mean absolute error\n",
    "ev, m = model_scoring(y_test_WATER, y_pred)\n",
    "\n",
    "# Store results in lists\n",
    "exp_var.append(ev)\n",
    "mae.append(m)"
   ]
  },
  {
   "cell_type": "code",
   "execution_count": 52,
   "metadata": {},
   "outputs": [],
   "source": [
    "# Get upper prediction interval\n",
    "\n",
    "# Instantiate predictor\n",
    "gbr_int_wat = GradientBoostingRegressor(loss=\"quantile\", alpha=upper_alpha, learning_rate=0.2, max_depth=2, n_estimators=150)\n",
    "\n",
    "# Fit and predict\n",
    "gbr_int_wat_fit = gbr_int_wat.fit(X_train_WATER, y_train_WATER)"
   ]
  },
  {
   "cell_type": "code",
   "execution_count": 53,
   "metadata": {},
   "outputs": [
    {
     "data": {
      "text/html": [
       "<div>\n",
       "<style scoped>\n",
       "    .dataframe tbody tr th:only-of-type {\n",
       "        vertical-align: middle;\n",
       "    }\n",
       "\n",
       "    .dataframe tbody tr th {\n",
       "        vertical-align: top;\n",
       "    }\n",
       "\n",
       "    .dataframe thead th {\n",
       "        text-align: right;\n",
       "    }\n",
       "</style>\n",
       "<table border=\"1\" class=\"dataframe\">\n",
       "  <thead>\n",
       "    <tr style=\"text-align: right;\">\n",
       "      <th></th>\n",
       "      <th>feat_importance</th>\n",
       "    </tr>\n",
       "  </thead>\n",
       "  <tbody>\n",
       "    <tr>\n",
       "      <th>FLOOR_AREA_log</th>\n",
       "      <td>0.295520</td>\n",
       "    </tr>\n",
       "    <tr>\n",
       "      <th>CLIMATE_REGION_Mixed-Humid</th>\n",
       "      <td>0.099175</td>\n",
       "    </tr>\n",
       "    <tr>\n",
       "      <th>HEAT_TYPE_Other individual</th>\n",
       "      <td>0.077332</td>\n",
       "    </tr>\n",
       "    <tr>\n",
       "      <th>HEAT_TYPE_Central heat pump</th>\n",
       "      <td>0.072194</td>\n",
       "    </tr>\n",
       "    <tr>\n",
       "      <th>BEDROOMS_0-2</th>\n",
       "      <td>0.058159</td>\n",
       "    </tr>\n",
       "    <tr>\n",
       "      <th>UNIT_TYPE_Apartment in bld \\nwith 5+ units</th>\n",
       "      <td>0.045185</td>\n",
       "    </tr>\n",
       "    <tr>\n",
       "      <th>UNIT_TYPE_Mobile home</th>\n",
       "      <td>0.039179</td>\n",
       "    </tr>\n",
       "    <tr>\n",
       "      <th>CLIMATE_REGION_Hot-Dry/Mixed-Dry</th>\n",
       "      <td>0.029084</td>\n",
       "    </tr>\n",
       "    <tr>\n",
       "      <th>BEDROOMS_3</th>\n",
       "      <td>0.025748</td>\n",
       "    </tr>\n",
       "    <tr>\n",
       "      <th>DECADE_BUILT_2000-2009</th>\n",
       "      <td>0.025192</td>\n",
       "    </tr>\n",
       "  </tbody>\n",
       "</table>\n",
       "</div>"
      ],
      "text/plain": [
       "                                            feat_importance\n",
       "FLOOR_AREA_log                              0.295520       \n",
       "CLIMATE_REGION_Mixed-Humid                  0.099175       \n",
       "HEAT_TYPE_Other individual                  0.077332       \n",
       "HEAT_TYPE_Central heat pump                 0.072194       \n",
       "BEDROOMS_0-2                                0.058159       \n",
       "UNIT_TYPE_Apartment in bld \\nwith 5+ units  0.045185       \n",
       "UNIT_TYPE_Mobile home                       0.039179       \n",
       "CLIMATE_REGION_Hot-Dry/Mixed-Dry            0.029084       \n",
       "BEDROOMS_3                                  0.025748       \n",
       "DECADE_BUILT_2000-2009                      0.025192       "
      ]
     },
     "execution_count": 53,
     "metadata": {},
     "output_type": "execute_result"
    }
   ],
   "source": [
    "# Get top 10 feature importances for model gbr_wat_fit\n",
    "\n",
    "imp_water = pd.DataFrame(gbr_wat_fit.feature_importances_, index=X_train_WATER.columns, columns=['feat_importance'])\n",
    "imp_water.sort_values(by='feat_importance', ascending=False)[:10]"
   ]
  },
  {
   "cell_type": "markdown",
   "metadata": {},
   "source": [
    "__Final model for *Other Electricity Cost* prediction:__"
   ]
  },
  {
   "cell_type": "code",
   "execution_count": 54,
   "metadata": {},
   "outputs": [],
   "source": [
    "# Instantiate predictor\n",
    "gbr_elec = GradientBoostingRegressor(learning_rate=0.05, max_depth=4, n_estimators=150)\n",
    "\n",
    "# Fit and predict\n",
    "gbr_elec_fit = gbr_elec.fit(X_train_ELEC, y_train_ELEC)\n",
    "y_pred = gbr_elec_fit.predict(X_test_ELEC)"
   ]
  },
  {
   "cell_type": "code",
   "execution_count": 55,
   "metadata": {},
   "outputs": [],
   "source": [
    "# Get explained variance and mean absolute error\n",
    "ev, m = model_scoring(y_test_ELEC, y_pred)\n",
    "\n",
    "# Store results in lists\n",
    "exp_var.append(ev)\n",
    "mae.append(m)"
   ]
  },
  {
   "cell_type": "code",
   "execution_count": 56,
   "metadata": {},
   "outputs": [],
   "source": [
    "# Get upper prediction interval\n",
    "\n",
    "# Instantiate predictor\n",
    "gbr_int_elec = GradientBoostingRegressor(loss=\"quantile\", alpha=upper_alpha, learning_rate=0.05, max_depth=4, n_estimators=150)\n",
    "\n",
    "# Fit and predict\n",
    "gbr_int_elec_fit = gbr_int_elec.fit(X_train_ELEC, y_train_ELEC)"
   ]
  },
  {
   "cell_type": "code",
   "execution_count": 57,
   "metadata": {},
   "outputs": [
    {
     "data": {
      "text/html": [
       "<div>\n",
       "<style scoped>\n",
       "    .dataframe tbody tr th:only-of-type {\n",
       "        vertical-align: middle;\n",
       "    }\n",
       "\n",
       "    .dataframe tbody tr th {\n",
       "        vertical-align: top;\n",
       "    }\n",
       "\n",
       "    .dataframe thead th {\n",
       "        text-align: right;\n",
       "    }\n",
       "</style>\n",
       "<table border=\"1\" class=\"dataframe\">\n",
       "  <thead>\n",
       "    <tr style=\"text-align: right;\">\n",
       "      <th></th>\n",
       "      <th>feat_importance</th>\n",
       "    </tr>\n",
       "  </thead>\n",
       "  <tbody>\n",
       "    <tr>\n",
       "      <th>FLOOR_AREA_log</th>\n",
       "      <td>0.242476</td>\n",
       "    </tr>\n",
       "    <tr>\n",
       "      <th>UNIT_TYPE_Detached house</th>\n",
       "      <td>0.142671</td>\n",
       "    </tr>\n",
       "    <tr>\n",
       "      <th>BATHROOMS_0-1</th>\n",
       "      <td>0.085420</td>\n",
       "    </tr>\n",
       "    <tr>\n",
       "      <th>CLIMATE_REGION_Hot-Dry/Mixed-Dry</th>\n",
       "      <td>0.065446</td>\n",
       "    </tr>\n",
       "    <tr>\n",
       "      <th>BEDROOMS_0-2</th>\n",
       "      <td>0.064903</td>\n",
       "    </tr>\n",
       "    <tr>\n",
       "      <th>HEAT_TYPE_Central heat pump</th>\n",
       "      <td>0.059653</td>\n",
       "    </tr>\n",
       "    <tr>\n",
       "      <th>CLIMATE_REGION_Mixed-Humid</th>\n",
       "      <td>0.051130</td>\n",
       "    </tr>\n",
       "    <tr>\n",
       "      <th>UNIT_TYPE_Mobile home</th>\n",
       "      <td>0.033034</td>\n",
       "    </tr>\n",
       "    <tr>\n",
       "      <th>HEAT_TYPE_Other individual</th>\n",
       "      <td>0.026083</td>\n",
       "    </tr>\n",
       "    <tr>\n",
       "      <th>UNIT_TYPE_Apartment in bld \\nwith 5+ units</th>\n",
       "      <td>0.023826</td>\n",
       "    </tr>\n",
       "  </tbody>\n",
       "</table>\n",
       "</div>"
      ],
      "text/plain": [
       "                                            feat_importance\n",
       "FLOOR_AREA_log                              0.242476       \n",
       "UNIT_TYPE_Detached house                    0.142671       \n",
       "BATHROOMS_0-1                               0.085420       \n",
       "CLIMATE_REGION_Hot-Dry/Mixed-Dry            0.065446       \n",
       "BEDROOMS_0-2                                0.064903       \n",
       "HEAT_TYPE_Central heat pump                 0.059653       \n",
       "CLIMATE_REGION_Mixed-Humid                  0.051130       \n",
       "UNIT_TYPE_Mobile home                       0.033034       \n",
       "HEAT_TYPE_Other individual                  0.026083       \n",
       "UNIT_TYPE_Apartment in bld \\nwith 5+ units  0.023826       "
      ]
     },
     "execution_count": 57,
     "metadata": {},
     "output_type": "execute_result"
    }
   ],
   "source": [
    "# Get top 10 feature importances for model gbr_elec_fit\n",
    "\n",
    "imp_elec = pd.DataFrame(gbr_elec_fit.feature_importances_, index=X_train_ELEC.columns, columns=['feat_importance'])\n",
    "imp_elec.sort_values(by='feat_importance', ascending=False)[:10]"
   ]
  },
  {
   "cell_type": "markdown",
   "metadata": {},
   "source": [
    "__Final model for *Total Cost* prediction:__"
   ]
  },
  {
   "cell_type": "code",
   "execution_count": 58,
   "metadata": {},
   "outputs": [],
   "source": [
    "# Instantiate predictor\n",
    "gbr_tot = GradientBoostingRegressor(learning_rate=0.05, max_depth=3, n_estimators=200)\n",
    "\n",
    "# Fit and predict\n",
    "gbr_tot_fit = gbr_tot.fit(X_train_TOT, y_train_TOT)\n",
    "y_pred = gbr_tot_fit.predict(X_test_TOT)"
   ]
  },
  {
   "cell_type": "code",
   "execution_count": 59,
   "metadata": {},
   "outputs": [],
   "source": [
    "# Get explained variance and mean absolute error\n",
    "ev, m = model_scoring(y_test_TOT, y_pred)\n",
    "\n",
    "# Store results in lists\n",
    "exp_var.append(ev)\n",
    "mae.append(m)"
   ]
  },
  {
   "cell_type": "code",
   "execution_count": 60,
   "metadata": {},
   "outputs": [],
   "source": [
    "# Get upper prediction interval\n",
    "\n",
    "# Instantiate predictor\n",
    "gbr_int_tot = GradientBoostingRegressor(loss=\"quantile\", alpha=upper_alpha, learning_rate=0.05, max_depth=3, n_estimators=200)\n",
    "\n",
    "# Fit and predict\n",
    "gbr_int_tot_fit = gbr_int_tot.fit(X_train_TOT, y_train_TOT)"
   ]
  },
  {
   "cell_type": "code",
   "execution_count": 61,
   "metadata": {},
   "outputs": [
    {
     "data": {
      "text/html": [
       "<div>\n",
       "<style scoped>\n",
       "    .dataframe tbody tr th:only-of-type {\n",
       "        vertical-align: middle;\n",
       "    }\n",
       "\n",
       "    .dataframe tbody tr th {\n",
       "        vertical-align: top;\n",
       "    }\n",
       "\n",
       "    .dataframe thead th {\n",
       "        text-align: right;\n",
       "    }\n",
       "</style>\n",
       "<table border=\"1\" class=\"dataframe\">\n",
       "  <thead>\n",
       "    <tr style=\"text-align: right;\">\n",
       "      <th></th>\n",
       "      <th>feat_importance</th>\n",
       "    </tr>\n",
       "  </thead>\n",
       "  <tbody>\n",
       "    <tr>\n",
       "      <th>FLOOR_AREA_log</th>\n",
       "      <td>0.301445</td>\n",
       "    </tr>\n",
       "    <tr>\n",
       "      <th>UNIT_TYPE_Detached house</th>\n",
       "      <td>0.211012</td>\n",
       "    </tr>\n",
       "    <tr>\n",
       "      <th>CLIMATE_REGION_Hot-Dry/Mixed-Dry</th>\n",
       "      <td>0.079336</td>\n",
       "    </tr>\n",
       "    <tr>\n",
       "      <th>UNIT_TYPE_Apartment in bld \\nwith 5+ units</th>\n",
       "      <td>0.072646</td>\n",
       "    </tr>\n",
       "    <tr>\n",
       "      <th>CLIMATE_REGION_Mixed-Humid</th>\n",
       "      <td>0.069650</td>\n",
       "    </tr>\n",
       "    <tr>\n",
       "      <th>BEDROOMS_0-2</th>\n",
       "      <td>0.034873</td>\n",
       "    </tr>\n",
       "    <tr>\n",
       "      <th>COOL_TYPE_None</th>\n",
       "      <td>0.027701</td>\n",
       "    </tr>\n",
       "    <tr>\n",
       "      <th>UNIT_TYPE_Mobile home</th>\n",
       "      <td>0.022126</td>\n",
       "    </tr>\n",
       "    <tr>\n",
       "      <th>BATHROOMS_0-1</th>\n",
       "      <td>0.021730</td>\n",
       "    </tr>\n",
       "    <tr>\n",
       "      <th>CLIMATE_REGION_Hot-Humid</th>\n",
       "      <td>0.016740</td>\n",
       "    </tr>\n",
       "  </tbody>\n",
       "</table>\n",
       "</div>"
      ],
      "text/plain": [
       "                                            feat_importance\n",
       "FLOOR_AREA_log                              0.301445       \n",
       "UNIT_TYPE_Detached house                    0.211012       \n",
       "CLIMATE_REGION_Hot-Dry/Mixed-Dry            0.079336       \n",
       "UNIT_TYPE_Apartment in bld \\nwith 5+ units  0.072646       \n",
       "CLIMATE_REGION_Mixed-Humid                  0.069650       \n",
       "BEDROOMS_0-2                                0.034873       \n",
       "COOL_TYPE_None                              0.027701       \n",
       "UNIT_TYPE_Mobile home                       0.022126       \n",
       "BATHROOMS_0-1                               0.021730       \n",
       "CLIMATE_REGION_Hot-Humid                    0.016740       "
      ]
     },
     "execution_count": 61,
     "metadata": {},
     "output_type": "execute_result"
    }
   ],
   "source": [
    "# Get top 10 feature importances for model gbr_tot_fit\n",
    "\n",
    "imp_tot = pd.DataFrame(gbr_tot_fit.feature_importances_, index=X_train_TOT.columns, columns=['feat_importance'])\n",
    "imp_tot.sort_values(by='feat_importance', ascending=False)[:10]"
   ]
  },
  {
   "cell_type": "markdown",
   "metadata": {},
   "source": [
    "Finally, the performance scores of final models are shown in the table below:"
   ]
  },
  {
   "cell_type": "code",
   "execution_count": 62,
   "metadata": {
    "scrolled": true
   },
   "outputs": [
    {
     "data": {
      "text/html": [
       "<div>\n",
       "<style scoped>\n",
       "    .dataframe tbody tr th:only-of-type {\n",
       "        vertical-align: middle;\n",
       "    }\n",
       "\n",
       "    .dataframe tbody tr th {\n",
       "        vertical-align: top;\n",
       "    }\n",
       "\n",
       "    .dataframe thead th {\n",
       "        text-align: right;\n",
       "    }\n",
       "</style>\n",
       "<table border=\"1\" class=\"dataframe\">\n",
       "  <thead>\n",
       "    <tr style=\"text-align: right;\">\n",
       "      <th></th>\n",
       "      <th>features</th>\n",
       "      <th>explained variance</th>\n",
       "      <th>MAE</th>\n",
       "      <th>Min</th>\n",
       "      <th>Median</th>\n",
       "      <th>Max</th>\n",
       "    </tr>\n",
       "  </thead>\n",
       "  <tbody>\n",
       "    <tr>\n",
       "      <th>0</th>\n",
       "      <td>cooling cost</td>\n",
       "      <td>0.905</td>\n",
       "      <td>98.81</td>\n",
       "      <td>0.00</td>\n",
       "      <td>146.60</td>\n",
       "      <td>2860.01</td>\n",
       "    </tr>\n",
       "    <tr>\n",
       "      <th>1</th>\n",
       "      <td>heating cost</td>\n",
       "      <td>0.671</td>\n",
       "      <td>244.92</td>\n",
       "      <td>0.00</td>\n",
       "      <td>400.84</td>\n",
       "      <td>4766.66</td>\n",
       "    </tr>\n",
       "    <tr>\n",
       "      <th>2</th>\n",
       "      <td>water heating cost</td>\n",
       "      <td>0.115</td>\n",
       "      <td>128.62</td>\n",
       "      <td>0.00</td>\n",
       "      <td>236.44</td>\n",
       "      <td>2566.61</td>\n",
       "    </tr>\n",
       "    <tr>\n",
       "      <th>3</th>\n",
       "      <td>other electricity cost</td>\n",
       "      <td>0.245</td>\n",
       "      <td>434.42</td>\n",
       "      <td>15.43</td>\n",
       "      <td>1021.74</td>\n",
       "      <td>7310.58</td>\n",
       "    </tr>\n",
       "    <tr>\n",
       "      <th>4</th>\n",
       "      <td>total utility cost</td>\n",
       "      <td>0.379</td>\n",
       "      <td>707.62</td>\n",
       "      <td>76.40</td>\n",
       "      <td>1997.59</td>\n",
       "      <td>11078.48</td>\n",
       "    </tr>\n",
       "  </tbody>\n",
       "</table>\n",
       "</div>"
      ],
      "text/plain": [
       "                 features  explained variance     MAE    Min   Median  \\\n",
       "0  cooling cost            0.905               98.81   0.00   146.60    \n",
       "1  heating cost            0.671               244.92  0.00   400.84    \n",
       "2  water heating cost      0.115               128.62  0.00   236.44    \n",
       "3  other electricity cost  0.245               434.42  15.43  1021.74   \n",
       "4  total utility cost      0.379               707.62  76.40  1997.59   \n",
       "\n",
       "        Max  \n",
       "0  2860.01   \n",
       "1  4766.66   \n",
       "2  2566.61   \n",
       "3  7310.58   \n",
       "4  11078.48  "
      ]
     },
     "execution_count": 62,
     "metadata": {},
     "output_type": "execute_result"
    }
   ],
   "source": [
    "# Create dataframe with all results\n",
    "\n",
    "final_results = pd.DataFrame({'features':feat, 'explained variance':exp_var, 'MAE':mae}).join(median_val[['Min', 'Median', 'Max']], how='left')\n",
    "final_results"
   ]
  },
  {
   "cell_type": "markdown",
   "metadata": {},
   "source": [
    "__Explained variance:__\n",
    "\n",
    "It can be seen a large difference in model performance between target variables prediction. Although they are all related to energy consumption, there are significant differences in how the source of energy is used. \n",
    "\n",
    "Space heating and cooling in residential units is achieved by a energy flow balance between external climate conditions (temperature, humidity, etc.) and internal confort conditions. Broadly speaking, in cold climates there is an energy inlet from a building system and a energy outlet through the building envelope (facade, windows, etc.), and the opposite for hot climates. Therefore, Heating and Cooling consumption costs are largely driven by climate region, and construction and building system features, which is the bulk of our dataset.\n",
    "\n",
    "Some features have particularly high weight on cooling and heating value prediction:\n",
    "- Climate zone\n",
    "- Unit type\n",
    "- Building system type\n",
    "- Square footage\n",
    "\n",
    "In regard to water heating cost, its consumption is more driven by number of household members and their behaviour rather than any other feature. Since social and behavioural information is not available in our dataset, little target variance can be explained with our data and model. Nevertheless, number of bedrooms and bathrooms do provide some information about the variance of water heating cost, they might be representing a proxy for hosehold. \n",
    "Please note that this response variable accounts for the energy spent on water heating and not the water consumption itself. \n",
    "\n",
    "When it comes to other electicity costs, this target variable is hardly explained by any building intrinsic features, instead it is more likely driven by the energy intensity of the unit, which means the number of electric appliances and ligting and their usage pattern. However, just like happens with water heating cost, number of bedrooms, bathrooms, and square footage add some value to the prediction, which makes sense since the larger the unit's area the more appliances and lighting it contains.\n",
    "\n",
    "Total energy cost variable is a simple addition of all other energy consumption types. Predicting this feature is also interesting since the errors from individual prediction could be offset among them.\n",
    "\n",
    "__Error:__\n",
    "\n",
    "Prediction error measured by mean-absolute-error score is significantly high in comparison with median values in the test set even in Cooling Cost variable. This might be explained by the spread of the distribution of the target variables, the long right tail values could be outweighing in the mean error.\n",
    "\n",
    "Besides, some other error in the target variable is also due to different energy costs nationwide. All the selected features in our dataset are intended to provide insights on the level of energy consumption, but our final target variables which are useful for the final user are final dolar cost. "
   ]
  },
  {
   "cell_type": "markdown",
   "metadata": {},
   "source": [
    "## Save models for deployment"
   ]
  },
  {
   "cell_type": "markdown",
   "metadata": {},
   "source": [
    "The models will be saved for further deployment in the production application"
   ]
  },
  {
   "cell_type": "code",
   "execution_count": 63,
   "metadata": {},
   "outputs": [
    {
     "data": {
      "text/plain": [
       "['C:/Users/javie/OneDrive/Documents/springboard_projects/Capstone-2/models/model_totalcosts_upperinter.joblib']"
      ]
     },
     "execution_count": 63,
     "metadata": {},
     "output_type": "execute_result"
    }
   ],
   "source": [
    "from joblib import dump, load\n",
    "\n",
    "dump(gbr_cool_fit, 'C:/Users/javie/OneDrive/Documents/springboard_projects/Capstone-2/models/model_coolingcosts.joblib') \n",
    "dump(gbr_int_cool_fit, 'C:/Users/javie/OneDrive/Documents/springboard_projects/Capstone-2/models/model_coolingcosts_upperinter.joblib')\n",
    "\n",
    "dump(gbr_heat_fit, 'C:/Users/javie/OneDrive/Documents/springboard_projects/Capstone-2/models/model_heatingcosts.joblib') \n",
    "dump(gbr_int_heat_fit, 'C:/Users/javie/OneDrive/Documents/springboard_projects/Capstone-2/models/model_heatingcosts_upperinter.joblib')\n",
    "\n",
    "dump(gbr_wat_fit, 'C:/Users/javie/OneDrive/Documents/springboard_projects/Capstone-2/models/model_waterheatingcosts.joblib') \n",
    "dump(gbr_int_wat_fit, 'C:/Users/javie/OneDrive/Documents/springboard_projects/Capstone-2/models/model_waterheatingcosts_upperinter.joblib')\n",
    "\n",
    "dump(gbr_elec_fit, 'C:/Users/javie/OneDrive/Documents/springboard_projects/Capstone-2/models/model_electricitycosts.joblib') \n",
    "dump(gbr_int_elec_fit, 'C:/Users/javie/OneDrive/Documents/springboard_projects/Capstone-2/models/model_electricitycosts_upperinter.joblib')\n",
    "\n",
    "dump(gbr_tot_fit, 'C:/Users/javie/OneDrive/Documents/springboard_projects/Capstone-2/models/model_totalcosts.joblib') \n",
    "dump(gbr_int_tot_fit, 'C:/Users/javie/OneDrive/Documents/springboard_projects/Capstone-2/models/model_totalcosts_upperinter.joblib')"
   ]
  }
 ],
 "metadata": {
  "kernelspec": {
   "display_name": "Python 3",
   "language": "python",
   "name": "python3"
  },
  "language_info": {
   "codemirror_mode": {
    "name": "ipython",
    "version": 3
   },
   "file_extension": ".py",
   "mimetype": "text/x-python",
   "name": "python",
   "nbconvert_exporter": "python",
   "pygments_lexer": "ipython3",
   "version": "3.7.7"
  }
 },
 "nbformat": 4,
 "nbformat_minor": 4
}
