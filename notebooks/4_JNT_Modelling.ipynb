{
 "cells": [
  {
   "cell_type": "markdown",
   "metadata": {},
   "source": [
    "# 4. Modelling"
   ]
  },
  {
   "cell_type": "markdown",
   "metadata": {},
   "source": [
    "1. Importing packages and dataset\n",
    "2. Pre-assesment of multiple regression models\n",
    "3. Feature selection\n",
    "4. Hyperparameter tuning for selected models\n",
    "5. Final model selection and results"
   ]
  },
  {
   "cell_type": "markdown",
   "metadata": {},
   "source": [
    "### 4.1. Importing packages and dataset"
   ]
  },
  {
   "cell_type": "code",
   "execution_count": 1,
   "metadata": {},
   "outputs": [],
   "source": [
    "# Import the required packages\n",
    "\n",
    "import re\n",
    "import pandas as pd\n",
    "import numpy as np\n",
    "import matplotlib.pyplot as plt\n",
    "import seaborn as sns\n",
    "sns.set()\n",
    "\n",
    "import warnings\n",
    "warnings.filterwarnings(\"ignore\")\n",
    "\n",
    "from sklearn.linear_model import LinearRegression, Ridge, Lasso, ElasticNet\n",
    "from sklearn.ensemble import RandomForestRegressor, GradientBoostingRegressor\n",
    "from sklearn.metrics import mean_absolute_error, explained_variance_score\n",
    "\n",
    "pd.set_option('display.max_colwidth', -1)\n",
    "%matplotlib inline"
   ]
  },
  {
   "cell_type": "code",
   "execution_count": 2,
   "metadata": {},
   "outputs": [],
   "source": [
    "# Import processed train and test sets and load them in dataframes\n",
    "\n",
    "# Assign paths variable\n",
    "X_train_path = 'C:/Users/javie/OneDrive/Documents/springboard_projects/Capstone-2/data/processed/X_train.csv'\n",
    "X_test_path = 'C:/Users/javie/OneDrive/Documents/springboard_projects/Capstone-2/data/processed/X_test.csv'\n",
    "y_train_path = 'C:/Users/javie/OneDrive/Documents/springboard_projects/Capstone-2/data/processed/y_train.csv'\n",
    "y_test_path = 'C:/Users/javie/OneDrive/Documents/springboard_projects/Capstone-2/data/processed/y_test.csv'\n",
    "\n",
    "# Load csv in dataframe\n",
    "X_train = pd.read_csv(X_train_path, index_col=0)\n",
    "X_test = pd.read_csv(X_test_path, index_col=0)\n",
    "y_train = pd.read_csv(y_train_path, index_col=0)\n",
    "y_test = pd.read_csv(y_test_path, index_col=0)"
   ]
  },
  {
   "cell_type": "code",
   "execution_count": 3,
   "metadata": {},
   "outputs": [],
   "source": [
    "# Import original un-processed dataset for further unscaling and interpretation of data\n",
    "\n",
    "file = 'C:/Users/javie/OneDrive/Documents/springboard_projects/Capstone-2/data/interim/clean.csv'\n",
    "orig_df = pd.read_csv(file, index_col=0)"
   ]
  },
  {
   "cell_type": "code",
   "execution_count": 4,
   "metadata": {
    "scrolled": true
   },
   "outputs": [
    {
     "data": {
      "text/plain": [
       "(3966, 57)"
      ]
     },
     "execution_count": 4,
     "metadata": {},
     "output_type": "execute_result"
    }
   ],
   "source": [
    "# Check # of columns and rows imported\n",
    "X_train.shape"
   ]
  },
  {
   "cell_type": "code",
   "execution_count": 5,
   "metadata": {},
   "outputs": [
    {
     "data": {
      "text/plain": [
       "(1700, 57)"
      ]
     },
     "execution_count": 5,
     "metadata": {},
     "output_type": "execute_result"
    }
   ],
   "source": [
    "X_test.shape"
   ]
  },
  {
   "cell_type": "code",
   "execution_count": 6,
   "metadata": {},
   "outputs": [
    {
     "data": {
      "text/html": [
       "<div>\n",
       "<style scoped>\n",
       "    .dataframe tbody tr th:only-of-type {\n",
       "        vertical-align: middle;\n",
       "    }\n",
       "\n",
       "    .dataframe tbody tr th {\n",
       "        vertical-align: top;\n",
       "    }\n",
       "\n",
       "    .dataframe thead th {\n",
       "        text-align: right;\n",
       "    }\n",
       "</style>\n",
       "<table border=\"1\" class=\"dataframe\">\n",
       "  <thead>\n",
       "    <tr style=\"text-align: right;\">\n",
       "      <th></th>\n",
       "      <th>COOL_COST_log</th>\n",
       "      <th>HEAT_COST_log</th>\n",
       "      <th>WATERHEAT_COST_log</th>\n",
       "      <th>ELECT_COST_log</th>\n",
       "      <th>TOT_COST_log</th>\n",
       "    </tr>\n",
       "  </thead>\n",
       "  <tbody>\n",
       "    <tr>\n",
       "      <th>2315</th>\n",
       "      <td>0.669084</td>\n",
       "      <td>0.775234</td>\n",
       "      <td>0.306368</td>\n",
       "      <td>1.206547</td>\n",
       "      <td>1.122772</td>\n",
       "    </tr>\n",
       "    <tr>\n",
       "      <th>796</th>\n",
       "      <td>0.081286</td>\n",
       "      <td>0.715753</td>\n",
       "      <td>0.971873</td>\n",
       "      <td>0.317622</td>\n",
       "      <td>0.555368</td>\n",
       "    </tr>\n",
       "    <tr>\n",
       "      <th>312</th>\n",
       "      <td>1.304960</td>\n",
       "      <td>0.043174</td>\n",
       "      <td>-0.123977</td>\n",
       "      <td>1.080528</td>\n",
       "      <td>1.089074</td>\n",
       "    </tr>\n",
       "    <tr>\n",
       "      <th>1515</th>\n",
       "      <td>0.818738</td>\n",
       "      <td>0.953453</td>\n",
       "      <td>0.411800</td>\n",
       "      <td>0.919769</td>\n",
       "      <td>1.190493</td>\n",
       "    </tr>\n",
       "    <tr>\n",
       "      <th>5270</th>\n",
       "      <td>0.957874</td>\n",
       "      <td>0.158600</td>\n",
       "      <td>-0.180249</td>\n",
       "      <td>-0.951668</td>\n",
       "      <td>-0.224427</td>\n",
       "    </tr>\n",
       "  </tbody>\n",
       "</table>\n",
       "</div>"
      ],
      "text/plain": [
       "      COOL_COST_log  HEAT_COST_log  WATERHEAT_COST_log  ELECT_COST_log  \\\n",
       "2315  0.669084       0.775234       0.306368            1.206547         \n",
       "796   0.081286       0.715753       0.971873            0.317622         \n",
       "312   1.304960       0.043174      -0.123977            1.080528         \n",
       "1515  0.818738       0.953453       0.411800            0.919769         \n",
       "5270  0.957874       0.158600      -0.180249           -0.951668         \n",
       "\n",
       "      TOT_COST_log  \n",
       "2315  1.122772      \n",
       "796   0.555368      \n",
       "312   1.089074      \n",
       "1515  1.190493      \n",
       "5270 -0.224427      "
      ]
     },
     "execution_count": 6,
     "metadata": {},
     "output_type": "execute_result"
    }
   ],
   "source": [
    "y_train.head()"
   ]
  },
  {
   "cell_type": "markdown",
   "metadata": {},
   "source": [
    "### 4.2. Pre-assesment of multiple regression models"
   ]
  },
  {
   "cell_type": "markdown",
   "metadata": {},
   "source": [
    "In this section multiple regression algorithms will be tested with default configuration to obtain a general idea of their performance with our dataset. For this exercise we are not using cross-validation or adjusting any hyperparameter since the objective is simply to understand which algorithm would be the most adequate for this problem.\n",
    "\n",
    "The algorithms to be tested are the following:\n",
    "- Linear Regression (OLS)\n",
    "- Linear Regression with L2 regularization - Ridge\n",
    "- Linear Regression with L1 regularization - Lasso\n",
    "- Bagging ensemble method - Random Forest Regressor\n",
    "- Boosting ensemble method - Gradient Boosting Regressor"
   ]
  },
  {
   "cell_type": "code",
   "execution_count": 7,
   "metadata": {
    "scrolled": false
   },
   "outputs": [],
   "source": [
    "# Create fuction to assess performance of different models with our data\n",
    "\n",
    "def model_performance(reg_models, X_train, X_test, y_train, y_test, original_target_var):\n",
    "    '''Evaluate regression models performance with default hyperparameters on a dataset'''\n",
    "    exp_var = []\n",
    "    mae = []\n",
    "    \n",
    "    for model in reg_models:\n",
    "        m = model()\n",
    "        m_fit = m.fit(X_train, y_train)\n",
    "        y_pred = m_fit.predict(X_test)\n",
    "        \n",
    "        # Compute explained variance score and mean absolute error\n",
    "        exp_var.append(round(explained_variance_score(y_test, y_pred),3))\n",
    "        m = mean_absolute_error(y_test, y_pred)\n",
    "        \n",
    "        # Compute sdt and mean from unscaled target variable to perform the inverse transformation of the scaling\n",
    "        s = float(original_target_var.std())\n",
    "        u = float(original_target_var.mean())\n",
    "        # Undo standard scaling and log transformation to get meaningful mean errors\n",
    "        mae.append(int(np.exp((m*s)+u)-1))\n",
    "\n",
    "    # Get name of the models\n",
    "    models = [re.findall(r'\\w+', str(i))[-1] for i in reg_models] \n",
    "    \n",
    "    # Create df with results\n",
    "    df = pd.DataFrame({'model':models, 'exp_var':exp_var, 'mean_abs_error':mae})\n",
    "    \n",
    "    return df"
   ]
  },
  {
   "cell_type": "code",
   "execution_count": 8,
   "metadata": {
    "scrolled": true
   },
   "outputs": [],
   "source": [
    "# Select the models to test\n",
    "models = [LinearRegression, Ridge, Lasso, RandomForestRegressor, GradientBoostingRegressor]\n",
    "\n",
    "# Define target variables, one for each type of energy use type plus the combined total\n",
    "y_train_COOL = y_train[['COOL_COST_log']]\n",
    "y_train_HEAT = y_train[['HEAT_COST_log']]\n",
    "y_train_WATER = y_train[['WATERHEAT_COST_log']]\n",
    "y_train_ELEC = y_train[['ELECT_COST_log']]\n",
    "y_train_TOT = y_train[['TOT_COST_log']]\n",
    "\n",
    "y_test_COOL = y_test[['COOL_COST_log']]\n",
    "y_test_HEAT = y_test[['HEAT_COST_log']]\n",
    "y_test_WATER = y_test[['WATERHEAT_COST_log']]\n",
    "y_test_ELEC = y_test[['ELECT_COST_log']]\n",
    "y_test_TOT = y_test[['TOT_COST_log']]\n",
    "\n",
    "# Run the tests and store the dfs with the results\n",
    "r1 = model_performance(models, X_train, X_test, y_train_COOL, y_test_COOL, orig_df['COOL_COST_log'])\n",
    "r2 = model_performance(models, X_train, X_test, y_train_HEAT, y_test_HEAT, orig_df['HEAT_COST_log'])\n",
    "r3 = model_performance(models, X_train, X_test, y_train_WATER, y_test_WATER, orig_df['WATERHEAT_COST_log'])\n",
    "r4 = model_performance(models, X_train, X_test, y_train_ELEC, y_test_ELEC, orig_df['ELECT_COST_log'])\n",
    "r5 = model_performance(models, X_train, X_test, y_train_TOT, y_test_TOT, orig_df['TOT_COST_log'])"
   ]
  },
  {
   "cell_type": "code",
   "execution_count": 9,
   "metadata": {
    "scrolled": true
   },
   "outputs": [
    {
     "data": {
      "text/html": [
       "<div>\n",
       "<style scoped>\n",
       "    .dataframe tbody tr th:only-of-type {\n",
       "        vertical-align: middle;\n",
       "    }\n",
       "\n",
       "    .dataframe tbody tr th {\n",
       "        vertical-align: top;\n",
       "    }\n",
       "\n",
       "    .dataframe thead th {\n",
       "        text-align: right;\n",
       "    }\n",
       "</style>\n",
       "<table border=\"1\" class=\"dataframe\">\n",
       "  <thead>\n",
       "    <tr style=\"text-align: right;\">\n",
       "      <th></th>\n",
       "      <th>model</th>\n",
       "      <th>cool_cost_exp_var</th>\n",
       "      <th>cool_cost_mae</th>\n",
       "      <th>heat_cost_exp_var</th>\n",
       "      <th>heat_cost_mae</th>\n",
       "      <th>water_heating_exp_var</th>\n",
       "      <th>water_heating_mae</th>\n",
       "      <th>elect_cost_exp_var</th>\n",
       "      <th>elect_cost_mae</th>\n",
       "      <th>total_cost_exp_var</th>\n",
       "      <th>total_cost_mae</th>\n",
       "    </tr>\n",
       "  </thead>\n",
       "  <tbody>\n",
       "    <tr>\n",
       "      <th>0</th>\n",
       "      <td>LinearRegression</td>\n",
       "      <td>0.895</td>\n",
       "      <td>137</td>\n",
       "      <td>0.698</td>\n",
       "      <td>488</td>\n",
       "      <td>0.134</td>\n",
       "      <td>386</td>\n",
       "      <td>0.298</td>\n",
       "      <td>1455</td>\n",
       "      <td>0.444</td>\n",
       "      <td>2665</td>\n",
       "    </tr>\n",
       "    <tr>\n",
       "      <th>1</th>\n",
       "      <td>Ridge</td>\n",
       "      <td>0.895</td>\n",
       "      <td>137</td>\n",
       "      <td>0.698</td>\n",
       "      <td>488</td>\n",
       "      <td>0.134</td>\n",
       "      <td>386</td>\n",
       "      <td>0.298</td>\n",
       "      <td>1455</td>\n",
       "      <td>0.444</td>\n",
       "      <td>2665</td>\n",
       "    </tr>\n",
       "    <tr>\n",
       "      <th>2</th>\n",
       "      <td>Lasso</td>\n",
       "      <td>-0.000</td>\n",
       "      <td>377</td>\n",
       "      <td>0.000</td>\n",
       "      <td>831</td>\n",
       "      <td>0.000</td>\n",
       "      <td>401</td>\n",
       "      <td>0.000</td>\n",
       "      <td>1581</td>\n",
       "      <td>0.000</td>\n",
       "      <td>2995</td>\n",
       "    </tr>\n",
       "    <tr>\n",
       "      <th>3</th>\n",
       "      <td>RandomForestRegressor</td>\n",
       "      <td>0.904</td>\n",
       "      <td>129</td>\n",
       "      <td>0.681</td>\n",
       "      <td>488</td>\n",
       "      <td>0.066</td>\n",
       "      <td>393</td>\n",
       "      <td>0.262</td>\n",
       "      <td>1470</td>\n",
       "      <td>0.411</td>\n",
       "      <td>2696</td>\n",
       "    </tr>\n",
       "    <tr>\n",
       "      <th>4</th>\n",
       "      <td>GradientBoostingRegressor</td>\n",
       "      <td>0.907</td>\n",
       "      <td>131</td>\n",
       "      <td>0.707</td>\n",
       "      <td>478</td>\n",
       "      <td>0.118</td>\n",
       "      <td>388</td>\n",
       "      <td>0.287</td>\n",
       "      <td>1456</td>\n",
       "      <td>0.445</td>\n",
       "      <td>2661</td>\n",
       "    </tr>\n",
       "  </tbody>\n",
       "</table>\n",
       "</div>"
      ],
      "text/plain": [
       "                       model  cool_cost_exp_var  cool_cost_mae  \\\n",
       "0  LinearRegression           0.895              137             \n",
       "1  Ridge                      0.895              137             \n",
       "2  Lasso                     -0.000              377             \n",
       "3  RandomForestRegressor      0.904              129             \n",
       "4  GradientBoostingRegressor  0.907              131             \n",
       "\n",
       "   heat_cost_exp_var  heat_cost_mae  water_heating_exp_var  water_heating_mae  \\\n",
       "0  0.698              488            0.134                  386                 \n",
       "1  0.698              488            0.134                  386                 \n",
       "2  0.000              831            0.000                  401                 \n",
       "3  0.681              488            0.066                  393                 \n",
       "4  0.707              478            0.118                  388                 \n",
       "\n",
       "   elect_cost_exp_var  elect_cost_mae  total_cost_exp_var  total_cost_mae  \n",
       "0  0.298               1455            0.444               2665            \n",
       "1  0.298               1455            0.444               2665            \n",
       "2  0.000               1581            0.000               2995            \n",
       "3  0.262               1470            0.411               2696            \n",
       "4  0.287               1456            0.445               2661            "
      ]
     },
     "execution_count": 9,
     "metadata": {},
     "output_type": "execute_result"
    }
   ],
   "source": [
    "# Merge results and print them\n",
    "\n",
    "results = r1.merge(r2, on='model').merge(r3, on='model').merge(r4, on='model').merge(r5, on='model')\n",
    "results.columns = ['model', \n",
    "                   'cool_cost_exp_var', 'cool_cost_mae',\n",
    "                   'heat_cost_exp_var', 'heat_cost_mae',\n",
    "                   'water_heating_exp_var', 'water_heating_mae',\n",
    "                   'elect_cost_exp_var', 'elect_cost_mae',\n",
    "                   'total_cost_exp_var', 'total_cost_mae'\n",
    "                  ]\n",
    "\n",
    "#results = results.append(r6)results\n",
    "\n",
    "results"
   ]
  },
  {
   "cell_type": "code",
   "execution_count": 10,
   "metadata": {},
   "outputs": [
    {
     "data": {
      "text/html": [
       "<div>\n",
       "<style scoped>\n",
       "    .dataframe tbody tr th:only-of-type {\n",
       "        vertical-align: middle;\n",
       "    }\n",
       "\n",
       "    .dataframe tbody tr th {\n",
       "        vertical-align: top;\n",
       "    }\n",
       "\n",
       "    .dataframe thead th {\n",
       "        text-align: right;\n",
       "    }\n",
       "</style>\n",
       "<table border=\"1\" class=\"dataframe\">\n",
       "  <thead>\n",
       "    <tr style=\"text-align: right;\">\n",
       "      <th></th>\n",
       "      <th>index</th>\n",
       "      <th>median</th>\n",
       "    </tr>\n",
       "  </thead>\n",
       "  <tbody>\n",
       "    <tr>\n",
       "      <th>0</th>\n",
       "      <td>COOL_COST_log</td>\n",
       "      <td>146.584999</td>\n",
       "    </tr>\n",
       "    <tr>\n",
       "      <th>1</th>\n",
       "      <td>HEAT_COST_log</td>\n",
       "      <td>400.584984</td>\n",
       "    </tr>\n",
       "    <tr>\n",
       "      <th>2</th>\n",
       "      <td>WATERHEAT_COST_log</td>\n",
       "      <td>236.394997</td>\n",
       "    </tr>\n",
       "    <tr>\n",
       "      <th>3</th>\n",
       "      <td>ELECT_COST_log</td>\n",
       "      <td>1020.404844</td>\n",
       "    </tr>\n",
       "    <tr>\n",
       "      <th>4</th>\n",
       "      <td>TOT_COST_log</td>\n",
       "      <td>1997.445000</td>\n",
       "    </tr>\n",
       "  </tbody>\n",
       "</table>\n",
       "</div>"
      ],
      "text/plain": [
       "                index       median\n",
       "0  COOL_COST_log       146.584999 \n",
       "1  HEAT_COST_log       400.584984 \n",
       "2  WATERHEAT_COST_log  236.394997 \n",
       "3  ELECT_COST_log      1020.404844\n",
       "4  TOT_COST_log        1997.445000"
      ]
     },
     "execution_count": 10,
     "metadata": {},
     "output_type": "execute_result"
    }
   ],
   "source": [
    "# Print median values for each of the target variables for comparison\n",
    "\n",
    "k = orig_df[['COOL_COST_log', 'HEAT_COST_log', 'WATERHEAT_COST_log', 'ELECT_COST_log', 'TOT_COST_log']]\n",
    "\n",
    "median_val = pd.DataFrame(np.exp(k.describe().iloc[5, :])-1, index=None).rename(columns={'50%':'median'})\n",
    "median_val.reset_index(inplace=True)\n",
    "median_val"
   ]
  },
  {
   "cell_type": "code",
   "execution_count": 11,
   "metadata": {},
   "outputs": [
    {
     "data": {
      "image/png": "[encoded data removed]",
      "text/plain": [
       "<Figure size 720x504 with 1 Axes>"
      ]
     },
     "metadata": {
      "needs_background": "light"
     },
     "output_type": "display_data"
    }
   ],
   "source": [
    "# Plot explained variance results\n",
    "\n",
    "expl_var_results = results[['model', 'cool_cost_exp_var', 'heat_cost_exp_var', \n",
    "                            'water_heating_exp_var', 'elect_cost_exp_var', 'total_cost_exp_var']]\n",
    "                           \n",
    "expl_var_results.plot.bar(x='model', cmap='Set3', figsize=(10,7))\n",
    "plt.title('Performance selected regression models', fontsize=12)\n",
    "plt.xlabel('')\n",
    "plt.xticks(rotation=45)\n",
    "plt.legend(loc='upper center')\n",
    "plt.tight_layout\n",
    "plt.show()"
   ]
  },
  {
   "cell_type": "markdown",
   "metadata": {},
   "source": [
    "__Conclusions for this section:__\n",
    "\n",
    "Initial results show that the Gradient Boosting ensemble algorithm yields the best explained variance score in Cooling, Heating and Total cost target variables, whereas Ridge Regression algorithm stands out as the best performer for Water Heating and Other Electricity Costs. However, all algorithms tested scored rather low for Water-Heating-Costs and Other-Electrical-Costs, which means that those response variables are hardly explained by any algorithm.\n",
    "\n",
    "Besides, the best model explains ~45.4% of the target variable variance which is roughly an average of the other four compounding response variables. \n",
    "\n",
    "The most remarkable outcome of this assessment is that the spread of the mean error is so high compared to the median value that became hardly usefull for the objective of this project. \n",
    "\n",
    "Regardless of this circumstances, in next sections we will select the most relevant features and adjust the model's  hyperparameters to try to reduce the bias.\n",
    "\n",
    "We will work with Ridge algorithm for Water Heating and Other Electricity Costs and Gradient Boosting for the other target variables."
   ]
  },
  {
   "cell_type": "markdown",
   "metadata": {},
   "source": [
    "### 4.3. Feature selection"
   ]
  },
  {
   "cell_type": "markdown",
   "metadata": {},
   "source": [
    "Once we know which model will use to predict each response variable, we will optimize the feature space by removing higly correlated columns and features which are irrelevant for the regression model. \n",
    "\n",
    "Firstly, we will check and remove any highly correlated features to reduce dimensionality: "
   ]
  },
  {
   "cell_type": "code",
   "execution_count": 12,
   "metadata": {},
   "outputs": [],
   "source": [
    "# Create function to select and remove highly correlated features\n",
    "\n",
    "def remove_corr_feat(df):\n",
    "    '''Selects and remove highly correlated features'''\n",
    "    corr_matrix = df.corr().abs()\n",
    "    \n",
    "    # Select upper triangle of the matrix, since it is symmetric\n",
    "    upper_tri = corr_matrix.where(np.triu(np.ones(corr_matrix.shape),k=1).astype(np.bool))\n",
    "    \n",
    "    # Select columns with correlation coefficient higher than 0.95\n",
    "    to_drop = [column for column in upper_tri.columns if any(upper_tri[column] > 0.95)]\n",
    "    \n",
    "    # Drop correlated features\n",
    "    dfo = df.drop(to_drop, axis=1)\n",
    "    \n",
    "    return dfo   "
   ]
  },
  {
   "cell_type": "code",
   "execution_count": 13,
   "metadata": {},
   "outputs": [
    {
     "data": {
      "text/plain": [
       "(3966, 55)"
      ]
     },
     "execution_count": 13,
     "metadata": {},
     "output_type": "execute_result"
    }
   ],
   "source": [
    "# Remove highly correlated features from train set\n",
    "\n",
    "X_train = remove_corr_feat(X_train)\n",
    "X_train.shape"
   ]
  },
  {
   "cell_type": "code",
   "execution_count": 14,
   "metadata": {},
   "outputs": [
    {
     "data": {
      "text/plain": [
       "(1700, 55)"
      ]
     },
     "execution_count": 14,
     "metadata": {},
     "output_type": "execute_result"
    }
   ],
   "source": [
    "# Remove highly correlated features from test set\n",
    "\n",
    "X_test = remove_corr_feat(X_test)\n",
    "X_test.shape"
   ]
  },
  {
   "cell_type": "markdown",
   "metadata": {},
   "source": [
    "Now, we will select features based on its mean absolute error. \n",
    "\n",
    "We will achieve this by using a Recursive Feature Elimination algorithm which automatically tune of the number of features selected with cross-validation.\n",
    "\n",
    "We will perform this procedure for each target variable:"
   ]
  },
  {
   "cell_type": "code",
   "execution_count": 15,
   "metadata": {
    "scrolled": true
   },
   "outputs": [],
   "source": [
    "# Import package \n",
    "from sklearn.feature_selection import RFECV\n",
    "\n",
    "# Define fucntion for feature selection\n",
    "def cv_feature_selection(estimator, X, y):\n",
    "    '''Selectcs optimal features based on mean absolute error'''\n",
    "    rfecv = RFECV(estimator=estimator, step=1, cv=5, scoring='neg_mean_absolute_error', n_jobs=-1)\n",
    "    rfecv.fit(X, y)\n",
    "\n",
    "    rfecv_mask = rfecv.get_support()\n",
    "    \n",
    "    rfecv_features = [] \n",
    "    for bool, feature in zip(rfecv_mask, X_train.columns):\n",
    "        if bool:\n",
    "            rfecv_features.append(feature)\n",
    "\n",
    "    return rfecv_features"
   ]
  },
  {
   "cell_type": "markdown",
   "metadata": {},
   "source": [
    "- Feature selection for *Cooling Costs*:"
   ]
  },
  {
   "cell_type": "code",
   "execution_count": 16,
   "metadata": {},
   "outputs": [
    {
     "name": "stdout",
     "output_type": "stream",
     "text": [
      "Optimal number of features : 29\n"
     ]
    }
   ],
   "source": [
    "# Instantiate regressor\n",
    "reg = GradientBoostingRegressor()\n",
    "\n",
    "# Select features for cooling costs target variable\n",
    "sel_features = cv_feature_selection(reg, X_train, y_train_COOL)\n",
    "\n",
    "print('Optimal number of features :', len(sel_features))\n",
    "\n",
    "X_train_COOL = X_train[sel_features]\n",
    "X_test_COOL = X_test[sel_features]"
   ]
  },
  {
   "cell_type": "markdown",
   "metadata": {},
   "source": [
    "- Feature selection for *Heating Costs*:"
   ]
  },
  {
   "cell_type": "code",
   "execution_count": 17,
   "metadata": {},
   "outputs": [
    {
     "name": "stdout",
     "output_type": "stream",
     "text": [
      "Optimal number of features : 33\n"
     ]
    }
   ],
   "source": [
    "# Instantiate regressor\n",
    "reg = GradientBoostingRegressor()\n",
    "\n",
    "# Select features for cooling costs target variable\n",
    "sel_features = cv_feature_selection(reg, X_train, y_train_HEAT)\n",
    "\n",
    "print('Optimal number of features :', len(sel_features))\n",
    "\n",
    "X_train_HEAT = X_train[sel_features]\n",
    "X_test_HEAT = X_test[sel_features]"
   ]
  },
  {
   "cell_type": "markdown",
   "metadata": {},
   "source": [
    "- Feature selection for *Water Heating Costs*:"
   ]
  },
  {
   "cell_type": "code",
   "execution_count": 18,
   "metadata": {},
   "outputs": [
    {
     "name": "stdout",
     "output_type": "stream",
     "text": [
      "Optimal number of features : 27\n"
     ]
    }
   ],
   "source": [
    "# Instantiate regressor\n",
    "reg = Ridge()\n",
    "\n",
    "# Select features for cooling costs target variable\n",
    "sel_features = cv_feature_selection(reg, X_train, y_train_WATER)\n",
    "\n",
    "print('Optimal number of features :', len(sel_features))\n",
    "\n",
    "X_train_WATER = X_train[sel_features]\n",
    "X_test_WATER = X_test[sel_features]"
   ]
  },
  {
   "cell_type": "markdown",
   "metadata": {},
   "source": [
    "- Feature selection for *Other Electricity Costs*:"
   ]
  },
  {
   "cell_type": "code",
   "execution_count": 19,
   "metadata": {},
   "outputs": [
    {
     "name": "stdout",
     "output_type": "stream",
     "text": [
      "Optimal number of features : 27\n"
     ]
    }
   ],
   "source": [
    "# Instantiate regressor\n",
    "reg = Ridge()\n",
    "\n",
    "# Select features for cooling costs target variable\n",
    "sel_features = cv_feature_selection(reg, X_train, y_train_ELEC)\n",
    "\n",
    "print('Optimal number of features :', len(sel_features))\n",
    "\n",
    "X_train_ELEC = X_train[sel_features]\n",
    "X_test_ELEC = X_test[sel_features]"
   ]
  },
  {
   "cell_type": "markdown",
   "metadata": {},
   "source": [
    "- Feature selection for *Total Utility Costs*:"
   ]
  },
  {
   "cell_type": "code",
   "execution_count": 20,
   "metadata": {},
   "outputs": [
    {
     "name": "stdout",
     "output_type": "stream",
     "text": [
      "Optimal number of features : 30\n"
     ]
    }
   ],
   "source": [
    "# Instantiate regressor\n",
    "reg = GradientBoostingRegressor()\n",
    "\n",
    "# Select features for cooling costs target variable\n",
    "sel_features = cv_feature_selection(reg, X_train, y_train_TOT)\n",
    "\n",
    "print('Optimal number of features :', len(sel_features))\n",
    "\n",
    "X_train_TOT = X_train[sel_features]\n",
    "X_test_TOT = X_test[sel_features]"
   ]
  },
  {
   "cell_type": "markdown",
   "metadata": {},
   "source": [
    "### 4.4. Hyperparameter tuning for selected models\n",
    "\n",
    "In this section, we will tune the hyperparameters of the Gradient Boosting and Ridge algorithms to find the best model for each of the variables. To do this we will use a grid search algorithm with cross-validation."
   ]
  },
  {
   "cell_type": "markdown",
   "metadata": {},
   "source": [
    "__Gradient Boosting Regressor__\n",
    "\n",
    "The following parameters will be tested and adjusted:\n",
    "- Max Depth\n",
    "- Number of Estimators\n",
    "- Learning Rate\n",
    "\n",
    "__Ridge Regression algorithm__\n",
    "\n",
    "L2 regularization coefficient will be adjusted: alpha"
   ]
  },
  {
   "cell_type": "code",
   "execution_count": 21,
   "metadata": {},
   "outputs": [],
   "source": [
    "# Import GridSearch\n",
    "from sklearn.model_selection import GridSearchCV"
   ]
  },
  {
   "cell_type": "code",
   "execution_count": 22,
   "metadata": {},
   "outputs": [],
   "source": [
    "# Create function for grid search and cross-validation\n",
    "\n",
    "def best_config(model, param_grid, X_train, y_train):\n",
    "    '''Runs a grid search with cross-validation for selected model and datasets'''\n",
    "    estimator = GridSearchCV(model, param_grid, cv=5, n_jobs=-1)\n",
    "    estimator_fit = estimator.fit(X_train, y_train)\n",
    "    \n",
    "    # Get 5 best models and their scores\n",
    "    r = pd.DataFrame(estimator_fit.cv_results_).sort_values('mean_test_score', ascending=False)[0:5]\n",
    "    return r"
   ]
  },
  {
   "cell_type": "markdown",
   "metadata": {},
   "source": [
    "- Hyperparameter tune for *Cooling Costs*:"
   ]
  },
  {
   "cell_type": "code",
   "execution_count": 23,
   "metadata": {},
   "outputs": [
    {
     "data": {
      "text/html": [
       "<div>\n",
       "<style scoped>\n",
       "    .dataframe tbody tr th:only-of-type {\n",
       "        vertical-align: middle;\n",
       "    }\n",
       "\n",
       "    .dataframe tbody tr th {\n",
       "        vertical-align: top;\n",
       "    }\n",
       "\n",
       "    .dataframe thead th {\n",
       "        text-align: right;\n",
       "    }\n",
       "</style>\n",
       "<table border=\"1\" class=\"dataframe\">\n",
       "  <thead>\n",
       "    <tr style=\"text-align: right;\">\n",
       "      <th></th>\n",
       "      <th>params</th>\n",
       "      <th>mean_test_score</th>\n",
       "    </tr>\n",
       "  </thead>\n",
       "  <tbody>\n",
       "    <tr>\n",
       "      <th>15</th>\n",
       "      <td>{'learning_rate': 0.1, 'max_depth': 4, 'n_estimators': 100}</td>\n",
       "      <td>0.908627</td>\n",
       "    </tr>\n",
       "    <tr>\n",
       "      <th>13</th>\n",
       "      <td>{'learning_rate': 0.1, 'max_depth': 3, 'n_estimators': 200}</td>\n",
       "      <td>0.908243</td>\n",
       "    </tr>\n",
       "    <tr>\n",
       "      <th>14</th>\n",
       "      <td>{'learning_rate': 0.1, 'max_depth': 3, 'n_estimators': 300}</td>\n",
       "      <td>0.907736</td>\n",
       "    </tr>\n",
       "    <tr>\n",
       "      <th>16</th>\n",
       "      <td>{'learning_rate': 0.1, 'max_depth': 4, 'n_estimators': 200}</td>\n",
       "      <td>0.907415</td>\n",
       "    </tr>\n",
       "    <tr>\n",
       "      <th>11</th>\n",
       "      <td>{'learning_rate': 0.1, 'max_depth': 2, 'n_estimators': 300}</td>\n",
       "      <td>0.907350</td>\n",
       "    </tr>\n",
       "  </tbody>\n",
       "</table>\n",
       "</div>"
      ],
      "text/plain": [
       "                                                         params  \\\n",
       "15  {'learning_rate': 0.1, 'max_depth': 4, 'n_estimators': 100}   \n",
       "13  {'learning_rate': 0.1, 'max_depth': 3, 'n_estimators': 200}   \n",
       "14  {'learning_rate': 0.1, 'max_depth': 3, 'n_estimators': 300}   \n",
       "16  {'learning_rate': 0.1, 'max_depth': 4, 'n_estimators': 200}   \n",
       "11  {'learning_rate': 0.1, 'max_depth': 2, 'n_estimators': 300}   \n",
       "\n",
       "    mean_test_score  \n",
       "15  0.908627         \n",
       "13  0.908243         \n",
       "14  0.907736         \n",
       "16  0.907415         \n",
       "11  0.907350         "
      ]
     },
     "execution_count": 23,
     "metadata": {},
     "output_type": "execute_result"
    }
   ],
   "source": [
    "# Instantiate the regressor\n",
    "gbr = GradientBoostingRegressor()\n",
    "\n",
    "# Select hyperparameters to tune \n",
    "param_grid = {'learning_rate': [0.01, 0.1, 1],\n",
    "              'max_depth': [2, 3, 4], \n",
    "              'n_estimators': [100, 200, 300]\n",
    "             }\n",
    "\n",
    "# Get best hyperparams and score\n",
    "best_config(gbr, param_grid, X_train_COOL, y_train_COOL)[['params', 'mean_test_score']]"
   ]
  },
  {
   "cell_type": "markdown",
   "metadata": {},
   "source": [
    "- Hyperparameter tune for *Heating Costs*:"
   ]
  },
  {
   "cell_type": "code",
   "execution_count": 24,
   "metadata": {
    "scrolled": false
   },
   "outputs": [
    {
     "data": {
      "text/html": [
       "<div>\n",
       "<style scoped>\n",
       "    .dataframe tbody tr th:only-of-type {\n",
       "        vertical-align: middle;\n",
       "    }\n",
       "\n",
       "    .dataframe tbody tr th {\n",
       "        vertical-align: top;\n",
       "    }\n",
       "\n",
       "    .dataframe thead th {\n",
       "        text-align: right;\n",
       "    }\n",
       "</style>\n",
       "<table border=\"1\" class=\"dataframe\">\n",
       "  <thead>\n",
       "    <tr style=\"text-align: right;\">\n",
       "      <th></th>\n",
       "      <th>params</th>\n",
       "      <th>mean_test_score</th>\n",
       "    </tr>\n",
       "  </thead>\n",
       "  <tbody>\n",
       "    <tr>\n",
       "      <th>10</th>\n",
       "      <td>{'learning_rate': 0.1, 'max_depth': 2, 'n_estimators': 200}</td>\n",
       "      <td>0.674374</td>\n",
       "    </tr>\n",
       "    <tr>\n",
       "      <th>11</th>\n",
       "      <td>{'learning_rate': 0.1, 'max_depth': 2, 'n_estimators': 300}</td>\n",
       "      <td>0.674095</td>\n",
       "    </tr>\n",
       "    <tr>\n",
       "      <th>12</th>\n",
       "      <td>{'learning_rate': 0.1, 'max_depth': 3, 'n_estimators': 100}</td>\n",
       "      <td>0.673060</td>\n",
       "    </tr>\n",
       "    <tr>\n",
       "      <th>15</th>\n",
       "      <td>{'learning_rate': 0.1, 'max_depth': 4, 'n_estimators': 100}</td>\n",
       "      <td>0.671496</td>\n",
       "    </tr>\n",
       "    <tr>\n",
       "      <th>9</th>\n",
       "      <td>{'learning_rate': 0.1, 'max_depth': 2, 'n_estimators': 100}</td>\n",
       "      <td>0.671334</td>\n",
       "    </tr>\n",
       "  </tbody>\n",
       "</table>\n",
       "</div>"
      ],
      "text/plain": [
       "                                                         params  \\\n",
       "10  {'learning_rate': 0.1, 'max_depth': 2, 'n_estimators': 200}   \n",
       "11  {'learning_rate': 0.1, 'max_depth': 2, 'n_estimators': 300}   \n",
       "12  {'learning_rate': 0.1, 'max_depth': 3, 'n_estimators': 100}   \n",
       "15  {'learning_rate': 0.1, 'max_depth': 4, 'n_estimators': 100}   \n",
       "9   {'learning_rate': 0.1, 'max_depth': 2, 'n_estimators': 100}   \n",
       "\n",
       "    mean_test_score  \n",
       "10  0.674374         \n",
       "11  0.674095         \n",
       "12  0.673060         \n",
       "15  0.671496         \n",
       "9   0.671334         "
      ]
     },
     "execution_count": 24,
     "metadata": {},
     "output_type": "execute_result"
    }
   ],
   "source": [
    "# Instantiate the regressor\n",
    "gbr = GradientBoostingRegressor()\n",
    "\n",
    "# Select hyperparameters to tune \n",
    "param_grid = {'learning_rate': [0.01, 0.1, 1],\n",
    "              'max_depth': [2, 3, 4], \n",
    "              'n_estimators': [100, 200, 300]\n",
    "             }\n",
    "\n",
    "# Get best hyperparams and score\n",
    "best_config(gbr, param_grid, X_train_HEAT, y_train_HEAT)[['params', 'mean_test_score']]"
   ]
  },
  {
   "cell_type": "markdown",
   "metadata": {},
   "source": [
    "- Hyperparameter tune for *Water Heating Costs*:"
   ]
  },
  {
   "cell_type": "code",
   "execution_count": 25,
   "metadata": {},
   "outputs": [
    {
     "data": {
      "text/html": [
       "<div>\n",
       "<style scoped>\n",
       "    .dataframe tbody tr th:only-of-type {\n",
       "        vertical-align: middle;\n",
       "    }\n",
       "\n",
       "    .dataframe tbody tr th {\n",
       "        vertical-align: top;\n",
       "    }\n",
       "\n",
       "    .dataframe thead th {\n",
       "        text-align: right;\n",
       "    }\n",
       "</style>\n",
       "<table border=\"1\" class=\"dataframe\">\n",
       "  <thead>\n",
       "    <tr style=\"text-align: right;\">\n",
       "      <th></th>\n",
       "      <th>params</th>\n",
       "      <th>mean_test_score</th>\n",
       "    </tr>\n",
       "  </thead>\n",
       "  <tbody>\n",
       "    <tr>\n",
       "      <th>15</th>\n",
       "      <td>{'alpha': 16}</td>\n",
       "      <td>0.135860</td>\n",
       "    </tr>\n",
       "    <tr>\n",
       "      <th>14</th>\n",
       "      <td>{'alpha': 15}</td>\n",
       "      <td>0.135860</td>\n",
       "    </tr>\n",
       "    <tr>\n",
       "      <th>16</th>\n",
       "      <td>{'alpha': 17}</td>\n",
       "      <td>0.135859</td>\n",
       "    </tr>\n",
       "    <tr>\n",
       "      <th>13</th>\n",
       "      <td>{'alpha': 14}</td>\n",
       "      <td>0.135859</td>\n",
       "    </tr>\n",
       "    <tr>\n",
       "      <th>17</th>\n",
       "      <td>{'alpha': 18}</td>\n",
       "      <td>0.135858</td>\n",
       "    </tr>\n",
       "  </tbody>\n",
       "</table>\n",
       "</div>"
      ],
      "text/plain": [
       "           params  mean_test_score\n",
       "15  {'alpha': 16}  0.135860       \n",
       "14  {'alpha': 15}  0.135860       \n",
       "16  {'alpha': 17}  0.135859       \n",
       "13  {'alpha': 14}  0.135859       \n",
       "17  {'alpha': 18}  0.135858       "
      ]
     },
     "execution_count": 25,
     "metadata": {},
     "output_type": "execute_result"
    }
   ],
   "source": [
    "# Instantiate the regressor\n",
    "ridge = Ridge()\n",
    "\n",
    "# Select hyperparameters to tune \n",
    "param_grid = {'alpha':np.arange(1, 50)}\n",
    "\n",
    "best_config(ridge, param_grid, X_train_WATER, y_train_WATER)[['params', 'mean_test_score']]"
   ]
  },
  {
   "cell_type": "markdown",
   "metadata": {},
   "source": [
    "- Hyperparameter tune for *Other Electricity Costs*:"
   ]
  },
  {
   "cell_type": "code",
   "execution_count": 26,
   "metadata": {},
   "outputs": [
    {
     "data": {
      "text/html": [
       "<div>\n",
       "<style scoped>\n",
       "    .dataframe tbody tr th:only-of-type {\n",
       "        vertical-align: middle;\n",
       "    }\n",
       "\n",
       "    .dataframe tbody tr th {\n",
       "        vertical-align: top;\n",
       "    }\n",
       "\n",
       "    .dataframe thead th {\n",
       "        text-align: right;\n",
       "    }\n",
       "</style>\n",
       "<table border=\"1\" class=\"dataframe\">\n",
       "  <thead>\n",
       "    <tr style=\"text-align: right;\">\n",
       "      <th></th>\n",
       "      <th>params</th>\n",
       "      <th>mean_test_score</th>\n",
       "    </tr>\n",
       "  </thead>\n",
       "  <tbody>\n",
       "    <tr>\n",
       "      <th>47</th>\n",
       "      <td>{'alpha': 48}</td>\n",
       "      <td>0.259075</td>\n",
       "    </tr>\n",
       "    <tr>\n",
       "      <th>46</th>\n",
       "      <td>{'alpha': 47}</td>\n",
       "      <td>0.259075</td>\n",
       "    </tr>\n",
       "    <tr>\n",
       "      <th>48</th>\n",
       "      <td>{'alpha': 49}</td>\n",
       "      <td>0.259075</td>\n",
       "    </tr>\n",
       "    <tr>\n",
       "      <th>45</th>\n",
       "      <td>{'alpha': 46}</td>\n",
       "      <td>0.259075</td>\n",
       "    </tr>\n",
       "    <tr>\n",
       "      <th>44</th>\n",
       "      <td>{'alpha': 45}</td>\n",
       "      <td>0.259075</td>\n",
       "    </tr>\n",
       "  </tbody>\n",
       "</table>\n",
       "</div>"
      ],
      "text/plain": [
       "           params  mean_test_score\n",
       "47  {'alpha': 48}  0.259075       \n",
       "46  {'alpha': 47}  0.259075       \n",
       "48  {'alpha': 49}  0.259075       \n",
       "45  {'alpha': 46}  0.259075       \n",
       "44  {'alpha': 45}  0.259075       "
      ]
     },
     "execution_count": 26,
     "metadata": {},
     "output_type": "execute_result"
    }
   ],
   "source": [
    "# Instantiate the regressor\n",
    "ridge = Ridge()\n",
    "\n",
    "# Select hyperparameters to tune \n",
    "param_grid = {'alpha':np.arange(1, 50)}\n",
    "\n",
    "best_config(ridge, param_grid, X_train_ELEC, y_train_ELEC)[['params', 'mean_test_score']]"
   ]
  },
  {
   "cell_type": "markdown",
   "metadata": {},
   "source": [
    "- Hyperparameter tune for *Total Utility Costs*:"
   ]
  },
  {
   "cell_type": "code",
   "execution_count": 27,
   "metadata": {
    "scrolled": false
   },
   "outputs": [
    {
     "data": {
      "text/html": [
       "<div>\n",
       "<style scoped>\n",
       "    .dataframe tbody tr th:only-of-type {\n",
       "        vertical-align: middle;\n",
       "    }\n",
       "\n",
       "    .dataframe tbody tr th {\n",
       "        vertical-align: top;\n",
       "    }\n",
       "\n",
       "    .dataframe thead th {\n",
       "        text-align: right;\n",
       "    }\n",
       "</style>\n",
       "<table border=\"1\" class=\"dataframe\">\n",
       "  <thead>\n",
       "    <tr style=\"text-align: right;\">\n",
       "      <th></th>\n",
       "      <th>params</th>\n",
       "      <th>mean_test_score</th>\n",
       "    </tr>\n",
       "  </thead>\n",
       "  <tbody>\n",
       "    <tr>\n",
       "      <th>12</th>\n",
       "      <td>{'learning_rate': 0.1, 'max_depth': 3, 'n_estimators': 100}</td>\n",
       "      <td>0.379277</td>\n",
       "    </tr>\n",
       "    <tr>\n",
       "      <th>11</th>\n",
       "      <td>{'learning_rate': 0.1, 'max_depth': 2, 'n_estimators': 300}</td>\n",
       "      <td>0.378313</td>\n",
       "    </tr>\n",
       "    <tr>\n",
       "      <th>10</th>\n",
       "      <td>{'learning_rate': 0.1, 'max_depth': 2, 'n_estimators': 200}</td>\n",
       "      <td>0.377948</td>\n",
       "    </tr>\n",
       "    <tr>\n",
       "      <th>13</th>\n",
       "      <td>{'learning_rate': 0.1, 'max_depth': 3, 'n_estimators': 200}</td>\n",
       "      <td>0.373264</td>\n",
       "    </tr>\n",
       "    <tr>\n",
       "      <th>15</th>\n",
       "      <td>{'learning_rate': 0.1, 'max_depth': 4, 'n_estimators': 100}</td>\n",
       "      <td>0.370965</td>\n",
       "    </tr>\n",
       "  </tbody>\n",
       "</table>\n",
       "</div>"
      ],
      "text/plain": [
       "                                                         params  \\\n",
       "12  {'learning_rate': 0.1, 'max_depth': 3, 'n_estimators': 100}   \n",
       "11  {'learning_rate': 0.1, 'max_depth': 2, 'n_estimators': 300}   \n",
       "10  {'learning_rate': 0.1, 'max_depth': 2, 'n_estimators': 200}   \n",
       "13  {'learning_rate': 0.1, 'max_depth': 3, 'n_estimators': 200}   \n",
       "15  {'learning_rate': 0.1, 'max_depth': 4, 'n_estimators': 100}   \n",
       "\n",
       "    mean_test_score  \n",
       "12  0.379277         \n",
       "11  0.378313         \n",
       "10  0.377948         \n",
       "13  0.373264         \n",
       "15  0.370965         "
      ]
     },
     "execution_count": 27,
     "metadata": {},
     "output_type": "execute_result"
    }
   ],
   "source": [
    "# Instantiate the regressor\n",
    "gbr = GradientBoostingRegressor()\n",
    "\n",
    "# Select hyperparameters to tune \n",
    "param_grid = {'learning_rate': [0.01, 0.1, 1],\n",
    "              'max_depth': [2, 3, 4], \n",
    "              'n_estimators': [100, 200, 300]\n",
    "             }\n",
    "\n",
    "# Get best hyperparams and score\n",
    "best_config(gbr, param_grid, X_train_TOT, y_train_TOT)[['params', 'mean_test_score']]"
   ]
  },
  {
   "cell_type": "markdown",
   "metadata": {},
   "source": [
    "### 4.5. Final model selection and results"
   ]
  },
  {
   "cell_type": "markdown",
   "metadata": {},
   "source": [
    "In this section, we will run the final model selection for each of the target variables and review the results"
   ]
  },
  {
   "cell_type": "code",
   "execution_count": 28,
   "metadata": {
    "scrolled": false
   },
   "outputs": [],
   "source": [
    "# Create fuction to assess performance of different models with our data\n",
    "\n",
    "def model_scoring(y_test, y_pred, original_target_var):\n",
    "    '''Get explained variance and mean absolute error with real unscaled values'''\n",
    "        \n",
    "    # Compute explained variance score and mean absolute error\n",
    "    exp_var = round(explained_variance_score(y_test, y_pred),3)\n",
    "    mae = mean_absolute_error(y_test, y_pred)\n",
    "        \n",
    "    # Compute sdt and mean from unscaled target variable to perform the inverse transformation of the scaling\n",
    "    s = float(original_target_var.std())\n",
    "    u = float(original_target_var.mean())\n",
    "    \n",
    "    # Undo standard scaling and log transformation and reassign to mae \n",
    "    mae = int(np.exp((mae*s)+u)-1)\n",
    "    \n",
    "    return exp_var, mae"
   ]
  },
  {
   "cell_type": "code",
   "execution_count": 29,
   "metadata": {},
   "outputs": [],
   "source": [
    "# Create empty lists to store results\n",
    "\n",
    "exp_var = []\n",
    "mae = []\n",
    "feat = ['cooling cost', 'heating cost', 'water heating cost', 'other electricity cost', 'total utility cost']"
   ]
  },
  {
   "cell_type": "markdown",
   "metadata": {},
   "source": [
    "- Final model for *Cooling Cost* prediction:"
   ]
  },
  {
   "cell_type": "code",
   "execution_count": 30,
   "metadata": {},
   "outputs": [],
   "source": [
    "# Instantiate predictor\n",
    "gbr = GradientBoostingRegressor(learning_rate=0.1, max_depth=4, n_estimators=100)\n",
    "\n",
    "# Fit and predict\n",
    "gbr_fit = gbr.fit(X_train_COOL, y_train_COOL)\n",
    "y_pred = gbr_fit.predict(X_test_COOL)\n",
    "\n",
    "# Get explained variance and mean absolute error\n",
    "ev, m = model_scoring(y_test_COOL, y_pred, orig_df['COOL_COST_log'])\n",
    "\n",
    "# Store results in lists\n",
    "exp_var.append(ev)\n",
    "mae.append(m)"
   ]
  },
  {
   "cell_type": "markdown",
   "metadata": {},
   "source": [
    "- Final model for *Heating Cost* prediction:"
   ]
  },
  {
   "cell_type": "code",
   "execution_count": 31,
   "metadata": {},
   "outputs": [],
   "source": [
    "# Instantiate predictor\n",
    "gbr = GradientBoostingRegressor(learning_rate=0.1, max_depth=3, n_estimators=100)\n",
    "\n",
    "# Fit and predict\n",
    "gbr_fit = gbr.fit(X_train_HEAT, y_train_HEAT)\n",
    "y_pred = gbr_fit.predict(X_test_HEAT)\n",
    "\n",
    "# Get explained variance and mean absolute error\n",
    "ev, m = model_scoring(y_test_HEAT, y_pred, orig_df['HEAT_COST_log'])\n",
    "\n",
    "# Store results in lists\n",
    "exp_var.append(ev)\n",
    "mae.append(m)"
   ]
  },
  {
   "cell_type": "markdown",
   "metadata": {},
   "source": [
    "- Final model for *Water Heating Cost* prediction:"
   ]
  },
  {
   "cell_type": "code",
   "execution_count": 32,
   "metadata": {},
   "outputs": [],
   "source": [
    "# Instantiate predictor\n",
    "ridge = Ridge(alpha=16)\n",
    "\n",
    "# Fit and predict\n",
    "ridge_fit = ridge.fit(X_train_WATER, y_train_WATER)\n",
    "y_pred = ridge_fit.predict(X_test_WATER)\n",
    "\n",
    "# Get explained variance and mean absolute error\n",
    "ev, m = model_scoring(y_test_WATER, y_pred, orig_df['WATERHEAT_COST_log'])\n",
    "\n",
    "# Store results in lists\n",
    "exp_var.append(ev)\n",
    "mae.append(m)"
   ]
  },
  {
   "cell_type": "markdown",
   "metadata": {},
   "source": [
    "- Final model for *Other Electricity Cost* prediction:"
   ]
  },
  {
   "cell_type": "code",
   "execution_count": 33,
   "metadata": {},
   "outputs": [],
   "source": [
    "# Instantiate predictor\n",
    "ridge = Ridge(alpha=48)\n",
    "\n",
    "# Fit and predict\n",
    "ridge_fit = ridge.fit(X_train_ELEC, y_train_ELEC)\n",
    "y_pred = ridge_fit.predict(X_test_ELEC)\n",
    "\n",
    "# Get explained variance and mean absolute error\n",
    "ev, m = model_scoring(y_test_ELEC, y_pred, orig_df['ELECT_COST_log'])\n",
    "\n",
    "# Store results in lists\n",
    "exp_var.append(ev)\n",
    "mae.append(m)"
   ]
  },
  {
   "cell_type": "markdown",
   "metadata": {},
   "source": [
    "- Final model for *Total Cost* prediction:"
   ]
  },
  {
   "cell_type": "code",
   "execution_count": 34,
   "metadata": {},
   "outputs": [],
   "source": [
    "# Instantiate predictor\n",
    "gbr = GradientBoostingRegressor(learning_rate=0.1, max_depth=3, n_estimators=100)\n",
    "\n",
    "# Fit and predict\n",
    "gbr_fit = gbr.fit(X_train_TOT, y_train_TOT)\n",
    "y_pred = gbr_fit.predict(X_test_TOT)\n",
    "\n",
    "# Get explained variance and mean absolute error\n",
    "ev, m = model_scoring(y_test_TOT, y_pred, orig_df['TOT_COST_log'])\n",
    "\n",
    "# Store results in lists\n",
    "exp_var.append(ev)\n",
    "mae.append(m)"
   ]
  },
  {
   "cell_type": "code",
   "execution_count": 35,
   "metadata": {},
   "outputs": [
    {
     "data": {
      "text/html": [
       "<div>\n",
       "<style scoped>\n",
       "    .dataframe tbody tr th:only-of-type {\n",
       "        vertical-align: middle;\n",
       "    }\n",
       "\n",
       "    .dataframe tbody tr th {\n",
       "        vertical-align: top;\n",
       "    }\n",
       "\n",
       "    .dataframe thead th {\n",
       "        text-align: right;\n",
       "    }\n",
       "</style>\n",
       "<table border=\"1\" class=\"dataframe\">\n",
       "  <thead>\n",
       "    <tr style=\"text-align: right;\">\n",
       "      <th></th>\n",
       "      <th>features</th>\n",
       "      <th>explained variance</th>\n",
       "      <th>MAE</th>\n",
       "      <th>median</th>\n",
       "    </tr>\n",
       "  </thead>\n",
       "  <tbody>\n",
       "    <tr>\n",
       "      <th>0</th>\n",
       "      <td>cooling cost</td>\n",
       "      <td>0.910</td>\n",
       "      <td>129</td>\n",
       "      <td>146.584999</td>\n",
       "    </tr>\n",
       "    <tr>\n",
       "      <th>1</th>\n",
       "      <td>heating cost</td>\n",
       "      <td>0.705</td>\n",
       "      <td>479</td>\n",
       "      <td>400.584984</td>\n",
       "    </tr>\n",
       "    <tr>\n",
       "      <th>2</th>\n",
       "      <td>water heating cost</td>\n",
       "      <td>0.136</td>\n",
       "      <td>385</td>\n",
       "      <td>236.394997</td>\n",
       "    </tr>\n",
       "    <tr>\n",
       "      <th>3</th>\n",
       "      <td>other electricity cost</td>\n",
       "      <td>0.301</td>\n",
       "      <td>1453</td>\n",
       "      <td>1020.404844</td>\n",
       "    </tr>\n",
       "    <tr>\n",
       "      <th>4</th>\n",
       "      <td>total utility cost</td>\n",
       "      <td>0.444</td>\n",
       "      <td>2660</td>\n",
       "      <td>1997.445000</td>\n",
       "    </tr>\n",
       "  </tbody>\n",
       "</table>\n",
       "</div>"
      ],
      "text/plain": [
       "                 features  explained variance   MAE       median\n",
       "0  cooling cost            0.910               129   146.584999 \n",
       "1  heating cost            0.705               479   400.584984 \n",
       "2  water heating cost      0.136               385   236.394997 \n",
       "3  other electricity cost  0.301               1453  1020.404844\n",
       "4  total utility cost      0.444               2660  1997.445000"
      ]
     },
     "execution_count": 35,
     "metadata": {},
     "output_type": "execute_result"
    }
   ],
   "source": [
    "pd.DataFrame({'features':feat, 'explained variance':exp_var, 'MAE':mae}).join(median_val['median'], how='left')"
   ]
  }
 ],
 "metadata": {
  "kernelspec": {
   "display_name": "Python 3",
   "language": "python",
   "name": "python3"
  },
  "language_info": {
   "codemirror_mode": {
    "name": "ipython",
    "version": 3
   },
   "file_extension": ".py",
   "mimetype": "text/x-python",
   "name": "python",
   "nbconvert_exporter": "python",
   "pygments_lexer": "ipython3",
   "version": "3.7.7"
  }
 },
 "nbformat": 4,
 "nbformat_minor": 4
}
