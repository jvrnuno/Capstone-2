{
 "cells": [
  {
   "cell_type": "markdown",
   "metadata": {},
   "source": [
    "# Data Wrangling\n",
    "1. Data Collection \n",
    "2. Data Definition\n",
    "3. Data Cleaning"
   ]
  },
  {
   "cell_type": "markdown",
   "metadata": {},
   "source": [
    "## 1. Data Collection"
   ]
  },
  {
   "cell_type": "code",
   "execution_count": 1,
   "metadata": {},
   "outputs": [],
   "source": [
    "import os\n",
    "import pandas as pd\n",
    "import numpy as np\n",
    "import matplotlib.pyplot as plt\n",
    "%matplotlib inline"
   ]
  },
  {
   "cell_type": "markdown",
   "metadata": {},
   "source": [
    "The structured dataset originated from the Better Buildings Neighborhood Program comes in two different tables:\n",
    "- bbnp_installed_measures_res_sf: with information about retrofit measures installed in each project\n",
    "- bbnp_retrofit_project_table_res_sf: architecture and construction attributes of each project\n",
    "\n",
    "In this section, I will blend both tables to invertigate relationships between them.  \n",
    "\n",
    "Moreover, I will combine the dataset from Better Buildings Neighborhood Program with climate data from the National Oceanic and Atmospheric Administration (NOAA); namely, annual average cooling degree days and annual average heating degree days, which represent the most important external factors to determine the amount of heating and cooling in a building. The link between project and climate data will be location-wise (state)."
   ]
  },
  {
   "cell_type": "code",
   "execution_count": 2,
   "metadata": {},
   "outputs": [],
   "source": [
    "# Import dataset from Better Buildings Neighborhood Program \n",
    "measures_file = 'C:/Users/javie/OneDrive/Documents/springboard_projects/Capstone-2/data/raw/bbnp_installed_measures_res_sf.csv'\n",
    "project_file = 'C:/Users/javie/OneDrive/Documents/springboard_projects/Capstone-2/data/raw/bbnp_retrofit_project_table_res_sf.csv'\n",
    "\n",
    "# Load them into pandas dataframes\n",
    "measures_df = pd.read_csv(measures_file, index_col=None, low_memory=False)\n",
    "project_df = pd.read_csv(project_file, index_col=None, low_memory=False)\n",
    "\n",
    "# Import climatic data from National Oceanic and Atmospheric Administration (NOAA) and location:\n",
    "cool_degree_days_file = 'C:/Users/javie/OneDrive/Documents/springboard_projects/Capstone-2/data/raw/ann-cldd-normal.txt'\n",
    "heat_degree_days_file = 'C:/Users/javie/OneDrive/Documents/springboard_projects/Capstone-2/data/raw/ann-htdd-normal.txt'\n",
    "station_location_file = 'C:/Users/javie/OneDrive/Documents/springboard_projects/Capstone-2/data/raw/zipcodes-normals-stations.txt'\n",
    "zip_codes_file = 'C:/Users/javie/OneDrive/Documents/springboard_projects/Capstone-2/data/raw/zip_code_database.csv'\n",
    "\n",
    "# Load them into pandas dataframes\n",
    "cool_degree_days_df = pd.read_csv(cool_degree_days_file, sep=\"        \", engine='python', names=['STATION_ID', 'COOLING_DD'], index_col=None)\n",
    "heat_degree_days_df = pd.read_csv(heat_degree_days_file, sep=\"        \", engine='python', names=['STATION_ID', 'HEATING_DD'], index_col=None)\n",
    "station_location_df = pd.read_csv(station_location_file, sep=\" \", usecols=[0, 1], names=['STATION_ID', 'ZIP_CODE'], index_col=None)\n",
    "zip_codes_df = pd.read_csv(zip_codes_file, usecols=['zip', 'state'], index_col=None)"
   ]
  },
  {
   "cell_type": "markdown",
   "metadata": {},
   "source": [
    "### First, I will consolidate the climate dataset"
   ]
  },
  {
   "cell_type": "code",
   "execution_count": 3,
   "metadata": {},
   "outputs": [],
   "source": [
    "# Standarize character length and data type in station_location_df\n",
    "\n",
    "station_location_df['ZIP_CODE'] = station_location_df['ZIP_CODE'].apply(lambda x: '{0:0>5}'.format(x)).astype('int64') \n",
    "station_location_df['STATION_ID'] = station_location_df['STATION_ID'].astype('string')"
   ]
  },
  {
   "cell_type": "code",
   "execution_count": 4,
   "metadata": {
    "scrolled": true
   },
   "outputs": [],
   "source": [
    "# Standarize character length, data type and column names in zip_codes_df\n",
    "\n",
    "zip_codes_df['zip'] = zip_codes_df['zip'].apply(lambda x: '{0:0>5}'.format(x)).astype('int64') \n",
    "zip_codes_df['state'] = zip_codes_df['state'].astype('string')\n",
    "zip_codes_df.columns = ['ZIP_CODE', 'STATE']"
   ]
  },
  {
   "cell_type": "code",
   "execution_count": 5,
   "metadata": {},
   "outputs": [],
   "source": [
    "# Standarize data type and removing forward blank spaces in climate data\n",
    "\n",
    "cool_degree_days_df = cool_degree_days_df.astype('string')\n",
    "heat_degree_days_df = heat_degree_days_df.astype('string')\n",
    "\n",
    "cool_degree_days_df['COOLING_DD'] = cool_degree_days_df['COOLING_DD'].str.strip()\n",
    "heat_degree_days_df['HEATING_DD'] = heat_degree_days_df['HEATING_DD'].str.strip()"
   ]
  },
  {
   "cell_type": "code",
   "execution_count": 6,
   "metadata": {},
   "outputs": [
    {
     "name": "stdout",
     "output_type": "stream",
     "text": [
      "<class 'pandas.core.frame.DataFrame'>\n",
      "RangeIndex: 7501 entries, 0 to 7500\n",
      "Data columns (total 2 columns):\n",
      " #   Column      Non-Null Count  Dtype \n",
      "---  ------      --------------  ----- \n",
      " 0   STATION_ID  7501 non-null   string\n",
      " 1   COOLING_DD  7471 non-null   string\n",
      "dtypes: string(2)\n",
      "memory usage: 117.3 KB\n",
      "<class 'pandas.core.frame.DataFrame'>\n",
      "RangeIndex: 7501 entries, 0 to 7500\n",
      "Data columns (total 2 columns):\n",
      " #   Column      Non-Null Count  Dtype \n",
      "---  ------      --------------  ----- \n",
      " 0   STATION_ID  7501 non-null   string\n",
      " 1   HEATING_DD  7237 non-null   string\n",
      "dtypes: string(2)\n",
      "memory usage: 117.3 KB\n",
      "<class 'pandas.core.frame.DataFrame'>\n",
      "RangeIndex: 9794 entries, 0 to 9793\n",
      "Data columns (total 2 columns):\n",
      " #   Column      Non-Null Count  Dtype \n",
      "---  ------      --------------  ----- \n",
      " 0   STATION_ID  9794 non-null   string\n",
      " 1   ZIP_CODE    9794 non-null   int64 \n",
      "dtypes: int64(1), string(1)\n",
      "memory usage: 153.2 KB\n",
      "<class 'pandas.core.frame.DataFrame'>\n",
      "RangeIndex: 42522 entries, 0 to 42521\n",
      "Data columns (total 2 columns):\n",
      " #   Column    Non-Null Count  Dtype \n",
      "---  ------    --------------  ----- \n",
      " 0   ZIP_CODE  42522 non-null  int64 \n",
      " 1   STATE     42522 non-null  string\n",
      "dtypes: int64(1), string(1)\n",
      "memory usage: 664.5 KB\n"
     ]
    },
    {
     "data": {
      "text/plain": [
       "(None, None, None, None)"
      ]
     },
     "execution_count": 6,
     "metadata": {},
     "output_type": "execute_result"
    }
   ],
   "source": [
    "# Check null value amount\n",
    "\n",
    "cool_degree_days_df.info(), heat_degree_days_df.info(), station_location_df.info(), zip_codes_df.info(0)"
   ]
  },
  {
   "cell_type": "code",
   "execution_count": 7,
   "metadata": {},
   "outputs": [],
   "source": [
    "# Merge heating degree days into cooling degree days\n",
    "\n",
    "climate_df = pd.merge(cool_degree_days_df, heat_degree_days_df, how='inner', on='STATION_ID')"
   ]
  },
  {
   "cell_type": "code",
   "execution_count": 8,
   "metadata": {},
   "outputs": [],
   "source": [
    "# Add station state location to climate data\n",
    "\n",
    "climate_df = climate_df.merge(station_location_df, how='left', on='STATION_ID')"
   ]
  },
  {
   "cell_type": "code",
   "execution_count": 9,
   "metadata": {},
   "outputs": [],
   "source": [
    "# Add zip codes to climate data\n",
    "\n",
    "climate_df = climate_df.merge(zip_codes_df, how='left', on='ZIP_CODE') "
   ]
  },
  {
   "cell_type": "code",
   "execution_count": 10,
   "metadata": {},
   "outputs": [],
   "source": [
    "# Remove all null entries (Given the limited amount of null observations) \n",
    "\n",
    "climate_df.dropna(axis=0, inplace=True)"
   ]
  },
  {
   "cell_type": "markdown",
   "metadata": {},
   "source": [
    "For every data entry in COOLING_DD and HEATING_DD there is ending character as a completeness flag:\n",
    "\n",
    "- C = complete (all 30 years used)\n",
    "- S = standard (no more than 5 years missing and no more than 3 consecutive years missing among the sufficiently complete years)\n",
    "- R = representative (observed record utilized incomplete, but value was scaled or based on filled values to be representative of the full period of record)\n",
    "- P = provisional (at least 10 years used, but not sufficiently complete to be labeled as standard or representative)\n",
    "- Q = quasi-normal (at least 2 years per month, but not sufficiently complete to be labeled as provisional or any other higher flag code\n",
    "- Blank = the data value is reported as a special value such as 9999\n",
    "\n",
    "I will keep C, S, and R observations."
   ]
  },
  {
   "cell_type": "code",
   "execution_count": 11,
   "metadata": {},
   "outputs": [
    {
     "data": {
      "text/plain": [
       "(0.03, 0.34, 0.48)"
      ]
     },
     "execution_count": 11,
     "metadata": {},
     "output_type": "execute_result"
    }
   ],
   "source": [
    "# Check % of C, S and R flags in cooling degree days\n",
    "\n",
    "cc = round(climate_df.COOLING_DD.str.count('C').sum() / climate_df.shape[0], 2)\n",
    "cs = round(climate_df.COOLING_DD.str.count('S').sum() / climate_df.shape[0], 2) \n",
    "cr = round(climate_df.COOLING_DD.str.count('R').sum() / climate_df.shape[0], 2) \n",
    "\n",
    "cc, cs, cr"
   ]
  },
  {
   "cell_type": "code",
   "execution_count": 12,
   "metadata": {},
   "outputs": [
    {
     "data": {
      "text/plain": [
       "(0.03, 0.34, 0.48)"
      ]
     },
     "execution_count": 12,
     "metadata": {},
     "output_type": "execute_result"
    }
   ],
   "source": [
    "# Check % of C, S and R flags in heating degree days\n",
    "\n",
    "hc = round(climate_df.HEATING_DD.str.count('C').sum() / climate_df.shape[0], 2)\n",
    "hs = round(climate_df.HEATING_DD.str.count('S').sum() / climate_df.shape[0], 2) \n",
    "hr = round(climate_df.HEATING_DD.str.count('R').sum() / climate_df.shape[0], 2) \n",
    "\n",
    "hc, hs, hr"
   ]
  },
  {
   "cell_type": "markdown",
   "metadata": {},
   "source": [
    "85% of data have any of those flags, so I can safely remove the rest unreliable data without loosing too many observations"
   ]
  },
  {
   "cell_type": "code",
   "execution_count": 13,
   "metadata": {},
   "outputs": [],
   "source": [
    "# Keep entries ending with C, S or R\n",
    "\n",
    "climate_df = climate_df[climate_df.COOLING_DD.str.endswith('C') |\n",
    "                        climate_df.COOLING_DD.str.endswith('S') |\n",
    "                        climate_df.COOLING_DD.str.endswith('R')]"
   ]
  },
  {
   "cell_type": "code",
   "execution_count": 14,
   "metadata": {},
   "outputs": [],
   "source": [
    "# Keep entries ending with C, S or R\n",
    "\n",
    "climate_df = climate_df[climate_df.HEATING_DD.str.endswith('C') |\n",
    "                        climate_df.HEATING_DD.str.endswith('S') |\n",
    "                        climate_df.HEATING_DD.str.endswith('R')]"
   ]
  },
  {
   "cell_type": "code",
   "execution_count": 15,
   "metadata": {},
   "outputs": [],
   "source": [
    "# Create a funtion to remove last character \n",
    "def remove_last_char(series):\n",
    "    '''Removes last character from each entry in a Series with all string dtypes'''\n",
    "    for ix, row in series.iteritems():\n",
    "        series[ix] = row[:-1]"
   ]
  },
  {
   "cell_type": "code",
   "execution_count": 16,
   "metadata": {},
   "outputs": [],
   "source": [
    "# Remove last character in COOLING_DD and HEATING_DD data\n",
    "\n",
    "remove_last_char(climate_df['COOLING_DD'])\n",
    "remove_last_char(climate_df['HEATING_DD'])"
   ]
  },
  {
   "cell_type": "code",
   "execution_count": 17,
   "metadata": {},
   "outputs": [
    {
     "data": {
      "text/html": [
       "<div>\n",
       "<style scoped>\n",
       "    .dataframe tbody tr th:only-of-type {\n",
       "        vertical-align: middle;\n",
       "    }\n",
       "\n",
       "    .dataframe tbody tr th {\n",
       "        vertical-align: top;\n",
       "    }\n",
       "\n",
       "    .dataframe thead th {\n",
       "        text-align: right;\n",
       "    }\n",
       "</style>\n",
       "<table border=\"1\" class=\"dataframe\">\n",
       "  <thead>\n",
       "    <tr style=\"text-align: right;\">\n",
       "      <th></th>\n",
       "      <th>STATION_ID</th>\n",
       "      <th>COOLING_DD</th>\n",
       "      <th>HEATING_DD</th>\n",
       "      <th>ZIP_CODE</th>\n",
       "      <th>STATE</th>\n",
       "    </tr>\n",
       "  </thead>\n",
       "  <tbody>\n",
       "    <tr>\n",
       "      <th>38</th>\n",
       "      <td>RQC00666992</td>\n",
       "      <td>492</td>\n",
       "      <td>380</td>\n",
       "      <td>718.0</td>\n",
       "      <td>PR</td>\n",
       "    </tr>\n",
       "    <tr>\n",
       "      <th>39</th>\n",
       "      <td>RQC00667292</td>\n",
       "      <td>5398</td>\n",
       "      <td>0</td>\n",
       "      <td>795.0</td>\n",
       "      <td>PR</td>\n",
       "    </tr>\n",
       "    <tr>\n",
       "      <th>40</th>\n",
       "      <td>RQC00668306</td>\n",
       "      <td>5117</td>\n",
       "      <td>0</td>\n",
       "      <td>925.0</td>\n",
       "      <td>PR</td>\n",
       "    </tr>\n",
       "    <tr>\n",
       "      <th>41</th>\n",
       "      <td>RQC00668881</td>\n",
       "      <td>4871</td>\n",
       "      <td>0</td>\n",
       "      <td>685.0</td>\n",
       "      <td>PR</td>\n",
       "    </tr>\n",
       "    <tr>\n",
       "      <th>42</th>\n",
       "      <td>RQC00669521</td>\n",
       "      <td>5096</td>\n",
       "      <td>0</td>\n",
       "      <td>976.0</td>\n",
       "      <td>PR</td>\n",
       "    </tr>\n",
       "  </tbody>\n",
       "</table>\n",
       "</div>"
      ],
      "text/plain": [
       "     STATION_ID COOLING_DD HEATING_DD  ZIP_CODE STATE\n",
       "38  RQC00666992        492        380     718.0    PR\n",
       "39  RQC00667292       5398          0     795.0    PR\n",
       "40  RQC00668306       5117          0     925.0    PR\n",
       "41  RQC00668881       4871          0     685.0    PR\n",
       "42  RQC00669521       5096          0     976.0    PR"
      ]
     },
     "execution_count": 17,
     "metadata": {},
     "output_type": "execute_result"
    }
   ],
   "source": [
    "# Check for df formatting\n",
    "\n",
    "climate_df.head()"
   ]
  },
  {
   "cell_type": "code",
   "execution_count": 18,
   "metadata": {},
   "outputs": [],
   "source": [
    "# Drop station id and zip code info. No longer need them\n",
    "\n",
    "climate_df.drop(['STATION_ID', 'ZIP_CODE'], axis=1, inplace=True)"
   ]
  },
  {
   "cell_type": "code",
   "execution_count": 19,
   "metadata": {},
   "outputs": [],
   "source": [
    "climate_df['COOLING_DD'] = pd.to_numeric(climate_df['COOLING_DD'])\n",
    "climate_df['HEATING_DD'] = pd.to_numeric(climate_df['HEATING_DD'])\n",
    "\n"
   ]
  },
  {
   "cell_type": "code",
   "execution_count": 20,
   "metadata": {},
   "outputs": [],
   "source": [
    "# Group by state to generate a link column with the projects information table \n",
    "\n",
    "climate_by_st = climate_df.groupby(by='STATE').mean()"
   ]
  },
  {
   "cell_type": "code",
   "execution_count": 21,
   "metadata": {
    "scrolled": true
   },
   "outputs": [
    {
     "data": {
      "text/html": [
       "<div>\n",
       "<style scoped>\n",
       "    .dataframe tbody tr th:only-of-type {\n",
       "        vertical-align: middle;\n",
       "    }\n",
       "\n",
       "    .dataframe tbody tr th {\n",
       "        vertical-align: top;\n",
       "    }\n",
       "\n",
       "    .dataframe thead th {\n",
       "        text-align: right;\n",
       "    }\n",
       "</style>\n",
       "<table border=\"1\" class=\"dataframe\">\n",
       "  <thead>\n",
       "    <tr style=\"text-align: right;\">\n",
       "      <th></th>\n",
       "      <th>COOLING_DD</th>\n",
       "      <th>HEATING_DD</th>\n",
       "    </tr>\n",
       "    <tr>\n",
       "      <th>STATE</th>\n",
       "      <th></th>\n",
       "      <th></th>\n",
       "    </tr>\n",
       "  </thead>\n",
       "  <tbody>\n",
       "    <tr>\n",
       "      <th>AK</th>\n",
       "      <td>5.111111</td>\n",
       "      <td>8397.138889</td>\n",
       "    </tr>\n",
       "    <tr>\n",
       "      <th>AL</th>\n",
       "      <td>1954.056180</td>\n",
       "      <td>2657.449438</td>\n",
       "    </tr>\n",
       "    <tr>\n",
       "      <th>AR</th>\n",
       "      <td>1829.100000</td>\n",
       "      <td>3411.490000</td>\n",
       "    </tr>\n",
       "    <tr>\n",
       "      <th>AZ</th>\n",
       "      <td>2143.371795</td>\n",
       "      <td>3182.641026</td>\n",
       "    </tr>\n",
       "    <tr>\n",
       "      <th>CA</th>\n",
       "      <td>1105.555874</td>\n",
       "      <td>3156.432665</td>\n",
       "    </tr>\n",
       "    <tr>\n",
       "      <th>CO</th>\n",
       "      <td>509.427807</td>\n",
       "      <td>6867.032086</td>\n",
       "    </tr>\n",
       "    <tr>\n",
       "      <th>CT</th>\n",
       "      <td>596.791667</td>\n",
       "      <td>6203.041667</td>\n",
       "    </tr>\n",
       "    <tr>\n",
       "      <th>DC</th>\n",
       "      <td>1497.333333</td>\n",
       "      <td>4202.000000</td>\n",
       "    </tr>\n",
       "    <tr>\n",
       "      <th>DE</th>\n",
       "      <td>1192.666667</td>\n",
       "      <td>4551.888889</td>\n",
       "    </tr>\n",
       "    <tr>\n",
       "      <th>FL</th>\n",
       "      <td>3332.919118</td>\n",
       "      <td>745.102941</td>\n",
       "    </tr>\n",
       "    <tr>\n",
       "      <th>GA</th>\n",
       "      <td>1929.165138</td>\n",
       "      <td>2580.064220</td>\n",
       "    </tr>\n",
       "    <tr>\n",
       "      <th>HI</th>\n",
       "      <td>2533.484848</td>\n",
       "      <td>606.212121</td>\n",
       "    </tr>\n",
       "    <tr>\n",
       "      <th>IA</th>\n",
       "      <td>809.295775</td>\n",
       "      <td>6914.387324</td>\n",
       "    </tr>\n",
       "    <tr>\n",
       "      <th>ID</th>\n",
       "      <td>345.815385</td>\n",
       "      <td>7399.238462</td>\n",
       "    </tr>\n",
       "    <tr>\n",
       "      <th>IL</th>\n",
       "      <td>1025.006944</td>\n",
       "      <td>5774.479167</td>\n",
       "    </tr>\n",
       "    <tr>\n",
       "      <th>IN</th>\n",
       "      <td>925.900000</td>\n",
       "      <td>5731.850000</td>\n",
       "    </tr>\n",
       "    <tr>\n",
       "      <th>KS</th>\n",
       "      <td>1370.088608</td>\n",
       "      <td>5166.411392</td>\n",
       "    </tr>\n",
       "    <tr>\n",
       "      <th>KY</th>\n",
       "      <td>1290.750000</td>\n",
       "      <td>4408.887500</td>\n",
       "    </tr>\n",
       "    <tr>\n",
       "      <th>LA</th>\n",
       "      <td>2552.579545</td>\n",
       "      <td>1876.647727</td>\n",
       "    </tr>\n",
       "    <tr>\n",
       "      <th>MA</th>\n",
       "      <td>515.830508</td>\n",
       "      <td>6454.271186</td>\n",
       "    </tr>\n",
       "    <tr>\n",
       "      <th>MD</th>\n",
       "      <td>1137.708333</td>\n",
       "      <td>4756.333333</td>\n",
       "    </tr>\n",
       "    <tr>\n",
       "      <th>ME</th>\n",
       "      <td>249.910714</td>\n",
       "      <td>8249.464286</td>\n",
       "    </tr>\n",
       "    <tr>\n",
       "      <th>MI</th>\n",
       "      <td>417.489209</td>\n",
       "      <td>7638.000000</td>\n",
       "    </tr>\n",
       "    <tr>\n",
       "      <th>MN</th>\n",
       "      <td>489.848921</td>\n",
       "      <td>8593.812950</td>\n",
       "    </tr>\n",
       "    <tr>\n",
       "      <th>MO</th>\n",
       "      <td>1294.503401</td>\n",
       "      <td>4943.884354</td>\n",
       "    </tr>\n",
       "    <tr>\n",
       "      <th>MS</th>\n",
       "      <td>2106.295455</td>\n",
       "      <td>2598.886364</td>\n",
       "    </tr>\n",
       "    <tr>\n",
       "      <th>MT</th>\n",
       "      <td>329.707763</td>\n",
       "      <td>7949.954338</td>\n",
       "    </tr>\n",
       "    <tr>\n",
       "      <th>NC</th>\n",
       "      <td>1352.942446</td>\n",
       "      <td>3708.899281</td>\n",
       "    </tr>\n",
       "    <tr>\n",
       "      <th>ND</th>\n",
       "      <td>444.922414</td>\n",
       "      <td>8981.422414</td>\n",
       "    </tr>\n",
       "    <tr>\n",
       "      <th>NE</th>\n",
       "      <td>862.798742</td>\n",
       "      <td>6575.899371</td>\n",
       "    </tr>\n",
       "    <tr>\n",
       "      <th>NH</th>\n",
       "      <td>356.971429</td>\n",
       "      <td>7702.457143</td>\n",
       "    </tr>\n",
       "    <tr>\n",
       "      <th>NJ</th>\n",
       "      <td>888.068182</td>\n",
       "      <td>5358.227273</td>\n",
       "    </tr>\n",
       "    <tr>\n",
       "      <th>NM</th>\n",
       "      <td>890.491124</td>\n",
       "      <td>4938.047337</td>\n",
       "    </tr>\n",
       "    <tr>\n",
       "      <th>NV</th>\n",
       "      <td>936.900901</td>\n",
       "      <td>5745.369369</td>\n",
       "    </tr>\n",
       "    <tr>\n",
       "      <th>NY</th>\n",
       "      <td>466.845638</td>\n",
       "      <td>7035.187919</td>\n",
       "    </tr>\n",
       "    <tr>\n",
       "      <th>OH</th>\n",
       "      <td>794.638655</td>\n",
       "      <td>5865.857143</td>\n",
       "    </tr>\n",
       "    <tr>\n",
       "      <th>OK</th>\n",
       "      <td>1871.824000</td>\n",
       "      <td>3768.544000</td>\n",
       "    </tr>\n",
       "    <tr>\n",
       "      <th>OR</th>\n",
       "      <td>323.304124</td>\n",
       "      <td>5843.443299</td>\n",
       "    </tr>\n",
       "    <tr>\n",
       "      <th>PA</th>\n",
       "      <td>653.173913</td>\n",
       "      <td>6101.818841</td>\n",
       "    </tr>\n",
       "    <tr>\n",
       "      <th>PR</th>\n",
       "      <td>4606.555556</td>\n",
       "      <td>42.222222</td>\n",
       "    </tr>\n",
       "    <tr>\n",
       "      <th>RI</th>\n",
       "      <td>567.125000</td>\n",
       "      <td>5701.500000</td>\n",
       "    </tr>\n",
       "    <tr>\n",
       "      <th>SC</th>\n",
       "      <td>1891.250000</td>\n",
       "      <td>2758.809524</td>\n",
       "    </tr>\n",
       "    <tr>\n",
       "      <th>SD</th>\n",
       "      <td>664.430556</td>\n",
       "      <td>7654.493056</td>\n",
       "    </tr>\n",
       "    <tr>\n",
       "      <th>TN</th>\n",
       "      <td>1375.444444</td>\n",
       "      <td>3975.965812</td>\n",
       "    </tr>\n",
       "    <tr>\n",
       "      <th>TX</th>\n",
       "      <td>2531.979070</td>\n",
       "      <td>2303.374419</td>\n",
       "    </tr>\n",
       "    <tr>\n",
       "      <th>UT</th>\n",
       "      <td>743.136646</td>\n",
       "      <td>6352.180124</td>\n",
       "    </tr>\n",
       "    <tr>\n",
       "      <th>VA</th>\n",
       "      <td>1067.029126</td>\n",
       "      <td>4560.805825</td>\n",
       "    </tr>\n",
       "    <tr>\n",
       "      <th>VI</th>\n",
       "      <td>5412.800000</td>\n",
       "      <td>0.000000</td>\n",
       "    </tr>\n",
       "    <tr>\n",
       "      <th>VT</th>\n",
       "      <td>302.256410</td>\n",
       "      <td>8171.384615</td>\n",
       "    </tr>\n",
       "    <tr>\n",
       "      <th>WA</th>\n",
       "      <td>296.105263</td>\n",
       "      <td>5849.546053</td>\n",
       "    </tr>\n",
       "    <tr>\n",
       "      <th>WI</th>\n",
       "      <td>455.237500</td>\n",
       "      <td>8063.087500</td>\n",
       "    </tr>\n",
       "    <tr>\n",
       "      <th>WV</th>\n",
       "      <td>738.287234</td>\n",
       "      <td>5429.297872</td>\n",
       "    </tr>\n",
       "    <tr>\n",
       "      <th>WY</th>\n",
       "      <td>373.637168</td>\n",
       "      <td>7824.610619</td>\n",
       "    </tr>\n",
       "  </tbody>\n",
       "</table>\n",
       "</div>"
      ],
      "text/plain": [
       "        COOLING_DD   HEATING_DD\n",
       "STATE                          \n",
       "AK        5.111111  8397.138889\n",
       "AL     1954.056180  2657.449438\n",
       "AR     1829.100000  3411.490000\n",
       "AZ     2143.371795  3182.641026\n",
       "CA     1105.555874  3156.432665\n",
       "CO      509.427807  6867.032086\n",
       "CT      596.791667  6203.041667\n",
       "DC     1497.333333  4202.000000\n",
       "DE     1192.666667  4551.888889\n",
       "FL     3332.919118   745.102941\n",
       "GA     1929.165138  2580.064220\n",
       "HI     2533.484848   606.212121\n",
       "IA      809.295775  6914.387324\n",
       "ID      345.815385  7399.238462\n",
       "IL     1025.006944  5774.479167\n",
       "IN      925.900000  5731.850000\n",
       "KS     1370.088608  5166.411392\n",
       "KY     1290.750000  4408.887500\n",
       "LA     2552.579545  1876.647727\n",
       "MA      515.830508  6454.271186\n",
       "MD     1137.708333  4756.333333\n",
       "ME      249.910714  8249.464286\n",
       "MI      417.489209  7638.000000\n",
       "MN      489.848921  8593.812950\n",
       "MO     1294.503401  4943.884354\n",
       "MS     2106.295455  2598.886364\n",
       "MT      329.707763  7949.954338\n",
       "NC     1352.942446  3708.899281\n",
       "ND      444.922414  8981.422414\n",
       "NE      862.798742  6575.899371\n",
       "NH      356.971429  7702.457143\n",
       "NJ      888.068182  5358.227273\n",
       "NM      890.491124  4938.047337\n",
       "NV      936.900901  5745.369369\n",
       "NY      466.845638  7035.187919\n",
       "OH      794.638655  5865.857143\n",
       "OK     1871.824000  3768.544000\n",
       "OR      323.304124  5843.443299\n",
       "PA      653.173913  6101.818841\n",
       "PR     4606.555556    42.222222\n",
       "RI      567.125000  5701.500000\n",
       "SC     1891.250000  2758.809524\n",
       "SD      664.430556  7654.493056\n",
       "TN     1375.444444  3975.965812\n",
       "TX     2531.979070  2303.374419\n",
       "UT      743.136646  6352.180124\n",
       "VA     1067.029126  4560.805825\n",
       "VI     5412.800000     0.000000\n",
       "VT      302.256410  8171.384615\n",
       "WA      296.105263  5849.546053\n",
       "WI      455.237500  8063.087500\n",
       "WV      738.287234  5429.297872\n",
       "WY      373.637168  7824.610619"
      ]
     },
     "execution_count": 21,
     "metadata": {},
     "output_type": "execute_result"
    }
   ],
   "source": [
    "climate_by_st"
   ]
  },
  {
   "cell_type": "markdown",
   "metadata": {},
   "source": [
    "### Now, I will consolidate building attributes and project attributes"
   ]
  },
  {
   "cell_type": "code",
   "execution_count": 22,
   "metadata": {},
   "outputs": [
    {
     "data": {
      "text/plain": [
       "((75110, 89), (75110, 31))"
      ]
     },
     "execution_count": 22,
     "metadata": {},
     "output_type": "execute_result"
    }
   ],
   "source": [
    "# Inspecting dfs\n",
    "\n",
    "measures_df.shape, project_df.shape"
   ]
  },
  {
   "cell_type": "code",
   "execution_count": 23,
   "metadata": {
    "scrolled": true
   },
   "outputs": [
    {
     "name": "stdout",
     "output_type": "stream",
     "text": [
      "<class 'pandas.core.frame.DataFrame'>\n",
      "RangeIndex: 75110 entries, 0 to 75109\n",
      "Data columns (total 89 columns):\n",
      " #   Column                       Non-Null Count  Dtype  \n",
      "---  ------                       --------------  -----  \n",
      " 0   AWARDEENUMBER                75110 non-null  int64  \n",
      " 1   PROJECTID                    75110 non-null  int64  \n",
      " 2   INST_FURNACE                 75110 non-null  int64  \n",
      " 3   INST_FURNACE_AFUE            3478 non-null   float64\n",
      " 4   INST_FURNACE_FUEL            3629 non-null   object \n",
      " 5   INST_BOILER                  75110 non-null  int64  \n",
      " 6   INST_BOILER_AFUE             963 non-null    float64\n",
      " 7   INST_BOILER_FUEL             1062 non-null   object \n",
      " 8   INST_WOOD_STOVE              75110 non-null  int64  \n",
      " 9   INST_WATER_HEATER            75110 non-null  int64  \n",
      " 10  INST_WATER_HEATER_FUEL       1835 non-null   object \n",
      " 11  INST_WATER_HEATER_EF         976 non-null    float64\n",
      " 12  INST_HEAT_PUMP               75110 non-null  int64  \n",
      " 13  INST_HEAT_PUMP_TYPE          1250 non-null   object \n",
      " 14  INST_HEAT_PUMP_COP           3824 non-null   float64\n",
      " 15  INST_HEAT_PUMP_EER           227 non-null    float64\n",
      " 16  INST_HEAT_PUMP_HSPF          835 non-null    float64\n",
      " 17  INST_HEAT_PUMP_SEER          819 non-null    float64\n",
      " 18  INST_AC                      75110 non-null  int64  \n",
      " 19  INST_AC_SEER                 3239 non-null   float64\n",
      " 20  INST_AC_EER                  1518 non-null   float64\n",
      " 21  INST_VENT_SYS                75110 non-null  int64  \n",
      " 22  INST_VENT_SYS_CAT            80 non-null     object \n",
      " 23  INST_VENT_SYS_TYPE           26 non-null     object \n",
      " 24  INST_INSUL_ATTIC             75110 non-null  float64\n",
      " 25  INST_INSUL_ATTIC_R           12869 non-null  float64\n",
      " 26  INST_INSUL_ATTIC_THICK       6807 non-null   float64\n",
      " 27  INST_DUCT_INSUL              75110 non-null  int64  \n",
      " 28  INST_DUCT_INSUL_R            1634 non-null   float64\n",
      " 29  INST_INSUL_WALL              75110 non-null  float64\n",
      " 30  INST_INSUL_WALL_R            5247 non-null   float64\n",
      " 31  INST_INSUL_WALL_EXT_R        89 non-null     float64\n",
      " 32  INST_INSUL_WALL_THICK        2924 non-null   float64\n",
      " 33  INST_INSUL_FLR_FND           75110 non-null  float64\n",
      " 34  INST_INSUL_FLR_FND_R         5034 non-null   float64\n",
      " 35  INST_WINDOWS                 75110 non-null  float64\n",
      " 36  REP_WINDOWS                  644 non-null    float64\n",
      " 37  INST_WINDOWS_U               1070 non-null   float64\n",
      " 38  INST_WINDOWS_SHGC            613 non-null    float64\n",
      " 39  INST_WINDOWS_STORM           35 non-null     float64\n",
      " 40  INST_AIR_SEALING             75110 non-null  int64  \n",
      " 41  INST_AIR_SEALING_CFM50PRE    13106 non-null  float64\n",
      " 42  INST_AIR_SEALING_CFM50POST   12785 non-null  float64\n",
      " 43  INST_DUCT_SEALING            75110 non-null  int64  \n",
      " 44  INST_DUCT_SEALING_CFM25PRE   530 non-null    float64\n",
      " 45  INST_DUCT_SEALING_CFM25POST  538 non-null    float64\n",
      " 46  INST_REFRIG                  75110 non-null  int64  \n",
      " 47  RMV_FURNACE                  75110 non-null  int64  \n",
      " 48  RMV_BOILER                   75110 non-null  int64  \n",
      " 49  RMV_WOOD_STOVE               75110 non-null  int64  \n",
      " 50  RMV_HEAT_PUMP                75110 non-null  int64  \n",
      " 51  RMV_WATER_HEATER             75110 non-null  int64  \n",
      " 52  RMV_AC                       75110 non-null  int64  \n",
      " 53  RMV_VENT_SYS                 75110 non-null  int64  \n",
      " 54  RMV_INSUL_ATTIC              75110 non-null  int64  \n",
      " 55  RMV_INSUL_WALL               75110 non-null  int64  \n",
      " 56  RMV_INSUL_FLR_FND            75110 non-null  int64  \n",
      " 57  RMV_WINDOWS                  75110 non-null  int64  \n",
      " 58  RMV_REFRIG                   75110 non-null  int64  \n",
      " 59  INST_FURNACE_TUNE            75110 non-null  int64  \n",
      " 60  INST_AC_TUNE                 75110 non-null  int64  \n",
      " 61  INST_DISHWASHER              75110 non-null  int64  \n",
      " 62  INST_DOORS                   75110 non-null  int64  \n",
      " 63  INST_FIREPLACE_INSERT        75110 non-null  int64  \n",
      " 64  INST_FREEZER                 75110 non-null  int64  \n",
      " 65  INST_HVAC_UPGRADE            75110 non-null  int64  \n",
      " 66  INST_HVAC_TUNE               75110 non-null  int64  \n",
      " 67  INST_LIGHTING                75110 non-null  int64  \n",
      " 68  INST_OTHER                   75110 non-null  int64  \n",
      " 69  INST_PCKG_UNIT_HT            75110 non-null  int64  \n",
      " 70  INST_CLTH_WASH               75110 non-null  int64  \n",
      " 71  INST_WATER_CONSERV           75110 non-null  int64  \n",
      " 72  INST_DHW_INSUL               75110 non-null  int64  \n",
      " 73  INST_WTHR_STRPNG             75110 non-null  int64  \n",
      " 74  INST_LOWFLOW                 75110 non-null  int64  \n",
      " 75  INST_PRGM_TSTAT              75110 non-null  int64  \n",
      " 76  INST_THERMO_VLV              75110 non-null  int64  \n",
      " 77  INST_INSUL_BSMT              75110 non-null  int64  \n",
      " 78  INST_RAD_BARRIER             75110 non-null  int64  \n",
      " 79  INST_CORE_ENERGY             75110 non-null  int64  \n",
      " 80  INST_HEALTH_SAFETY           75110 non-null  int64  \n",
      " 81  INST_INSUL_OTHER             75110 non-null  int64  \n",
      " 82  INST_CHIMNEY_LINER           75110 non-null  int64  \n",
      " 83  INST_SMART_STRIPS            75110 non-null  int64  \n",
      " 84  RMV_AIR_SEALING              75110 non-null  int64  \n",
      " 85  RMV_DUCT_INSUL               75110 non-null  int64  \n",
      " 86  RMV_DUCT_SEALING             75110 non-null  int64  \n",
      " 87  RMV_DHW_INSUL                75110 non-null  int64  \n",
      " 88  INST_OTHER_VALUE             75110 non-null  int64  \n",
      "dtypes: float64(28), int64(55), object(6)\n",
      "memory usage: 51.0+ MB\n"
     ]
    }
   ],
   "source": [
    "measures_df.info()"
   ]
  },
  {
   "cell_type": "code",
   "execution_count": 24,
   "metadata": {
    "scrolled": true
   },
   "outputs": [
    {
     "name": "stdout",
     "output_type": "stream",
     "text": [
      "<class 'pandas.core.frame.DataFrame'>\n",
      "RangeIndex: 75110 entries, 0 to 75109\n",
      "Data columns (total 31 columns):\n",
      " #   Column                                  Non-Null Count  Dtype  \n",
      "---  ------                                  --------------  -----  \n",
      " 0   AWARDEENUMBER                           75110 non-null  int64  \n",
      " 1   PROJECTID                               75110 non-null  int64  \n",
      " 2   RETROFITJOBHOURS                        63670 non-null  float64\n",
      " 3   RETROFITINVOICEDCOST                    66281 non-null  float64\n",
      " 4   BUILDINGACTIVITYTYPE                    71212 non-null  float64\n",
      " 5   OCCUPANCY                               54373 non-null  float64\n",
      " 6   ISLOWINCOME                             32566 non-null  object \n",
      " 7   FLOORAREA                               75110 non-null  object \n",
      " 8   FLOORAREAUNIT                           58863 non-null  object \n",
      " 9   ISDIRECTINSTALLATIONUSED                56195 non-null  object \n",
      " 10  LOANAMOUNT                              15118 non-null  float64\n",
      " 11  INSTALL_ELECT_SAVINGS_KWH               56108 non-null  float64\n",
      " 12  INSTALL_NG_SAVINGS_THERMS               52170 non-null  float64\n",
      " 13  INSTALL_FO_SAVINGS_GAL                  75110 non-null  int64  \n",
      " 14  INSTALL_LPG_SAVINGS_GAL                 75110 non-null  int64  \n",
      " 15  INSTALL_KERO_SAVINGS_GAL                75110 non-null  int64  \n",
      " 16  INSTALL_WOOD_SAVINGS_MMBTU              75110 non-null  int64  \n",
      " 17  AUDITSOFTWARENAME                       75110 non-null  object \n",
      " 18  PREDICTIONMETHODTYPEDESC                75110 non-null  object \n",
      " 19  DECADEBUILT                             75110 non-null  object \n",
      " 20  STATE                                   75110 non-null  object \n",
      " 21  STATE_BASED_ON                          75110 non-null  object \n",
      " 22  ANNUALCOSTSAVINGS                       66282 non-null  float64\n",
      " 23  RETROFITSTARTMONTHYEAR                  13825 non-null  object \n",
      " 24  RETROFITCOMPLETIONMONTHYEAR             73519 non-null  object \n",
      " 25  DAYSFROMRETROFITSTARTTOCOMPLETION       13499 non-null  float64\n",
      " 26  AUDITCOMPLETIONMONTHYEAR                49634 non-null  object \n",
      " 27  DAYSFROMAUDITCOMPLETIONTORETROFITSTART  9667 non-null   float64\n",
      " 28  LOANAPPROVALMONTHYEAR                   12202 non-null  object \n",
      " 29  AUDITJOBHOURS                           67669 non-null  float64\n",
      " 30  AUDITINVOICEDCOST                       67465 non-null  float64\n",
      "dtypes: float64(12), int64(6), object(13)\n",
      "memory usage: 17.8+ MB\n"
     ]
    }
   ],
   "source": [
    "project_df.info()"
   ]
  },
  {
   "cell_type": "code",
   "execution_count": 25,
   "metadata": {},
   "outputs": [
    {
     "data": {
      "text/plain": [
       "(75110, 75110)"
      ]
     },
     "execution_count": 25,
     "metadata": {},
     "output_type": "execute_result"
    }
   ],
   "source": [
    "# Check for uniqueness ID for projects.\n",
    "\n",
    "measures_df['PROJECTID'].nunique(), project_df['PROJECTID'].nunique()"
   ]
  },
  {
   "cell_type": "code",
   "execution_count": 26,
   "metadata": {},
   "outputs": [],
   "source": [
    "# Consolidate all tables\n",
    "\n",
    "df = pd.merge(measures_df, project_df, how='inner', on='PROJECTID')\n",
    "df.drop(['AWARDEENUMBER_x', 'AWARDEENUMBER_y', 'PROJECTID'], axis=1, inplace=True)\n",
    "\n",
    "df = pd.merge(df, climate_by_st, how='left', on='STATE')"
   ]
  },
  {
   "cell_type": "markdown",
   "metadata": {},
   "source": [
    "**There are many variables that are not useful for our analyisis at this point:**\n",
    "1. Irrelevant project attributes.\n",
    "2. Undefined retrofit measures.\n",
    "3. Flags about building conditioning systems and construction elements removed."
   ]
  },
  {
   "cell_type": "code",
   "execution_count": 27,
   "metadata": {},
   "outputs": [],
   "source": [
    "# Remove other columns with little or not interesting information (case 1 and 2)\n",
    "\n",
    "columns2drop = ['STATE_BASED_ON', \n",
    "                'FLOORAREAUNIT', \n",
    "                'RETROFITSTARTMONTHYEAR', \n",
    "                'RETROFITCOMPLETIONMONTHYEAR', \n",
    "                'AUDITCOMPLETIONMONTHYEAR',\n",
    "                'LOANAPPROVALMONTHYEAR',\n",
    "                'INST_CORE_ENERGY',\n",
    "                'INST_HEALTH_SAFETY',\n",
    "                'REP_WINDOWS',\n",
    "                'LOANAMOUNT',\n",
    "                'DAYSFROMRETROFITSTARTTOCOMPLETION',\n",
    "                'DAYSFROMAUDITCOMPLETIONTORETROFITSTART']\n",
    "\n",
    "df.drop(columns2drop, axis=1, inplace=True)"
   ]
  },
  {
   "cell_type": "code",
   "execution_count": 28,
   "metadata": {},
   "outputs": [],
   "source": [
    "# Remove RMV columns (case 3).\n",
    "\n",
    "columns2drop = [i for i in df.columns if i.startswith('RMV')]\n",
    "df.drop(columns2drop, axis=1, inplace=True)"
   ]
  },
  {
   "cell_type": "code",
   "execution_count": 29,
   "metadata": {},
   "outputs": [
    {
     "data": {
      "text/plain": [
       "(75110, 90)"
      ]
     },
     "execution_count": 29,
     "metadata": {},
     "output_type": "execute_result"
    }
   ],
   "source": [
    "df.shape"
   ]
  },
  {
   "cell_type": "code",
   "execution_count": 30,
   "metadata": {},
   "outputs": [],
   "source": [
    "# Save consolidated data\n",
    "\n",
    "file = 'C:/Users/javie/OneDrive/Documents/springboard_projects/Capstone-2/data/interim/consolidated.csv'\n",
    "df.to_csv(file)"
   ]
  }
 ],
 "metadata": {
  "kernelspec": {
   "display_name": "Python 3",
   "language": "python",
   "name": "python3"
  },
  "language_info": {
   "codemirror_mode": {
    "name": "ipython",
    "version": 3
   },
   "file_extension": ".py",
   "mimetype": "text/x-python",
   "name": "python",
   "nbconvert_exporter": "python",
   "pygments_lexer": "ipython3",
   "version": "3.7.7"
  }
 },
 "nbformat": 4,
 "nbformat_minor": 4
}
