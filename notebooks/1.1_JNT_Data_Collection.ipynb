{
 "cells": [
  {
   "cell_type": "markdown",
   "metadata": {},
   "source": [
    "# Data Wrangling\n",
    "1. Data Collection \n",
    "2. Data Definition\n",
    "3. Data Cleaning"
   ]
  },
  {
   "cell_type": "markdown",
   "metadata": {},
   "source": [
    "## 1. Data Collection"
   ]
  },
  {
   "cell_type": "code",
   "execution_count": 1,
   "metadata": {},
   "outputs": [],
   "source": [
    "import os\n",
    "import pandas as pd\n",
    "import numpy as np\n",
    "import matplotlib.pyplot as plt\n",
    "%matplotlib inline"
   ]
  },
  {
   "cell_type": "code",
   "execution_count": 2,
   "metadata": {},
   "outputs": [],
   "source": [
    "# Importing raw data\n",
    "\n",
    "measures_file = 'C:/Users/javie/OneDrive/Documents/springboard_projects/Capstone-2/data/raw/bbnp_installed_measures_res_sf.csv'\n",
    "project_file = 'C:/Users/javie/OneDrive/Documents/springboard_projects/Capstone-2/data/raw/bbnp_retrofit_project_table_res_sf.csv'\n",
    "\n",
    "measures_df = pd.read_csv(measures_file, index_col=None, low_memory=False)\n",
    "project_df = pd.read_csv(project_file, index_col=None, low_memory=False)"
   ]
  },
  {
   "cell_type": "code",
   "execution_count": 3,
   "metadata": {},
   "outputs": [
    {
     "data": {
      "text/plain": [
       "((75110, 89), (75110, 31))"
      ]
     },
     "execution_count": 3,
     "metadata": {},
     "output_type": "execute_result"
    }
   ],
   "source": [
    "# Inspecting df\n",
    "\n",
    "measures_df.shape, project_df.shape"
   ]
  },
  {
   "cell_type": "code",
   "execution_count": 4,
   "metadata": {
    "scrolled": true
   },
   "outputs": [
    {
     "name": "stdout",
     "output_type": "stream",
     "text": [
      "<class 'pandas.core.frame.DataFrame'>\n",
      "RangeIndex: 75110 entries, 0 to 75109\n",
      "Data columns (total 89 columns):\n",
      " #   Column                       Non-Null Count  Dtype  \n",
      "---  ------                       --------------  -----  \n",
      " 0   AWARDEENUMBER                75110 non-null  int64  \n",
      " 1   PROJECTID                    75110 non-null  int64  \n",
      " 2   INST_FURNACE                 75110 non-null  int64  \n",
      " 3   INST_FURNACE_AFUE            3478 non-null   float64\n",
      " 4   INST_FURNACE_FUEL            3629 non-null   object \n",
      " 5   INST_BOILER                  75110 non-null  int64  \n",
      " 6   INST_BOILER_AFUE             963 non-null    float64\n",
      " 7   INST_BOILER_FUEL             1062 non-null   object \n",
      " 8   INST_WOOD_STOVE              75110 non-null  int64  \n",
      " 9   INST_WATER_HEATER            75110 non-null  int64  \n",
      " 10  INST_WATER_HEATER_FUEL       1835 non-null   object \n",
      " 11  INST_WATER_HEATER_EF         976 non-null    float64\n",
      " 12  INST_HEAT_PUMP               75110 non-null  int64  \n",
      " 13  INST_HEAT_PUMP_TYPE          1250 non-null   object \n",
      " 14  INST_HEAT_PUMP_COP           3824 non-null   float64\n",
      " 15  INST_HEAT_PUMP_EER           227 non-null    float64\n",
      " 16  INST_HEAT_PUMP_HSPF          835 non-null    float64\n",
      " 17  INST_HEAT_PUMP_SEER          819 non-null    float64\n",
      " 18  INST_AC                      75110 non-null  int64  \n",
      " 19  INST_AC_SEER                 3239 non-null   float64\n",
      " 20  INST_AC_EER                  1518 non-null   float64\n",
      " 21  INST_VENT_SYS                75110 non-null  int64  \n",
      " 22  INST_VENT_SYS_CAT            80 non-null     object \n",
      " 23  INST_VENT_SYS_TYPE           26 non-null     object \n",
      " 24  INST_INSUL_ATTIC             75110 non-null  float64\n",
      " 25  INST_INSUL_ATTIC_R           12869 non-null  float64\n",
      " 26  INST_INSUL_ATTIC_THICK       6807 non-null   float64\n",
      " 27  INST_DUCT_INSUL              75110 non-null  int64  \n",
      " 28  INST_DUCT_INSUL_R            1634 non-null   float64\n",
      " 29  INST_INSUL_WALL              75110 non-null  float64\n",
      " 30  INST_INSUL_WALL_R            5247 non-null   float64\n",
      " 31  INST_INSUL_WALL_EXT_R        89 non-null     float64\n",
      " 32  INST_INSUL_WALL_THICK        2924 non-null   float64\n",
      " 33  INST_INSUL_FLR_FND           75110 non-null  float64\n",
      " 34  INST_INSUL_FLR_FND_R         5034 non-null   float64\n",
      " 35  INST_WINDOWS                 75110 non-null  float64\n",
      " 36  REP_WINDOWS                  644 non-null    float64\n",
      " 37  INST_WINDOWS_U               1070 non-null   float64\n",
      " 38  INST_WINDOWS_SHGC            613 non-null    float64\n",
      " 39  INST_WINDOWS_STORM           35 non-null     float64\n",
      " 40  INST_AIR_SEALING             75110 non-null  int64  \n",
      " 41  INST_AIR_SEALING_CFM50PRE    13106 non-null  float64\n",
      " 42  INST_AIR_SEALING_CFM50POST   12785 non-null  float64\n",
      " 43  INST_DUCT_SEALING            75110 non-null  int64  \n",
      " 44  INST_DUCT_SEALING_CFM25PRE   530 non-null    float64\n",
      " 45  INST_DUCT_SEALING_CFM25POST  538 non-null    float64\n",
      " 46  INST_REFRIG                  75110 non-null  int64  \n",
      " 47  RMV_FURNACE                  75110 non-null  int64  \n",
      " 48  RMV_BOILER                   75110 non-null  int64  \n",
      " 49  RMV_WOOD_STOVE               75110 non-null  int64  \n",
      " 50  RMV_HEAT_PUMP                75110 non-null  int64  \n",
      " 51  RMV_WATER_HEATER             75110 non-null  int64  \n",
      " 52  RMV_AC                       75110 non-null  int64  \n",
      " 53  RMV_VENT_SYS                 75110 non-null  int64  \n",
      " 54  RMV_INSUL_ATTIC              75110 non-null  int64  \n",
      " 55  RMV_INSUL_WALL               75110 non-null  int64  \n",
      " 56  RMV_INSUL_FLR_FND            75110 non-null  int64  \n",
      " 57  RMV_WINDOWS                  75110 non-null  int64  \n",
      " 58  RMV_REFRIG                   75110 non-null  int64  \n",
      " 59  INST_FURNACE_TUNE            75110 non-null  int64  \n",
      " 60  INST_AC_TUNE                 75110 non-null  int64  \n",
      " 61  INST_DISHWASHER              75110 non-null  int64  \n",
      " 62  INST_DOORS                   75110 non-null  int64  \n",
      " 63  INST_FIREPLACE_INSERT        75110 non-null  int64  \n",
      " 64  INST_FREEZER                 75110 non-null  int64  \n",
      " 65  INST_HVAC_UPGRADE            75110 non-null  int64  \n",
      " 66  INST_HVAC_TUNE               75110 non-null  int64  \n",
      " 67  INST_LIGHTING                75110 non-null  int64  \n",
      " 68  INST_OTHER                   75110 non-null  int64  \n",
      " 69  INST_PCKG_UNIT_HT            75110 non-null  int64  \n",
      " 70  INST_CLTH_WASH               75110 non-null  int64  \n",
      " 71  INST_WATER_CONSERV           75110 non-null  int64  \n",
      " 72  INST_DHW_INSUL               75110 non-null  int64  \n",
      " 73  INST_WTHR_STRPNG             75110 non-null  int64  \n",
      " 74  INST_LOWFLOW                 75110 non-null  int64  \n",
      " 75  INST_PRGM_TSTAT              75110 non-null  int64  \n",
      " 76  INST_THERMO_VLV              75110 non-null  int64  \n",
      " 77  INST_INSUL_BSMT              75110 non-null  int64  \n",
      " 78  INST_RAD_BARRIER             75110 non-null  int64  \n",
      " 79  INST_CORE_ENERGY             75110 non-null  int64  \n",
      " 80  INST_HEALTH_SAFETY           75110 non-null  int64  \n",
      " 81  INST_INSUL_OTHER             75110 non-null  int64  \n",
      " 82  INST_CHIMNEY_LINER           75110 non-null  int64  \n",
      " 83  INST_SMART_STRIPS            75110 non-null  int64  \n",
      " 84  RMV_AIR_SEALING              75110 non-null  int64  \n",
      " 85  RMV_DUCT_INSUL               75110 non-null  int64  \n",
      " 86  RMV_DUCT_SEALING             75110 non-null  int64  \n",
      " 87  RMV_DHW_INSUL                75110 non-null  int64  \n",
      " 88  INST_OTHER_VALUE             75110 non-null  int64  \n",
      "dtypes: float64(28), int64(55), object(6)\n",
      "memory usage: 51.0+ MB\n"
     ]
    }
   ],
   "source": [
    "measures_df.info()"
   ]
  },
  {
   "cell_type": "code",
   "execution_count": 5,
   "metadata": {
    "scrolled": true
   },
   "outputs": [
    {
     "name": "stdout",
     "output_type": "stream",
     "text": [
      "<class 'pandas.core.frame.DataFrame'>\n",
      "RangeIndex: 75110 entries, 0 to 75109\n",
      "Data columns (total 31 columns):\n",
      " #   Column                                  Non-Null Count  Dtype  \n",
      "---  ------                                  --------------  -----  \n",
      " 0   AWARDEENUMBER                           75110 non-null  int64  \n",
      " 1   PROJECTID                               75110 non-null  int64  \n",
      " 2   RETROFITJOBHOURS                        63670 non-null  float64\n",
      " 3   RETROFITINVOICEDCOST                    66281 non-null  float64\n",
      " 4   BUILDINGACTIVITYTYPE                    71212 non-null  float64\n",
      " 5   OCCUPANCY                               54373 non-null  float64\n",
      " 6   ISLOWINCOME                             32566 non-null  object \n",
      " 7   FLOORAREA                               75110 non-null  object \n",
      " 8   FLOORAREAUNIT                           58863 non-null  object \n",
      " 9   ISDIRECTINSTALLATIONUSED                56195 non-null  object \n",
      " 10  LOANAMOUNT                              15118 non-null  float64\n",
      " 11  INSTALL_ELECT_SAVINGS_KWH               56108 non-null  float64\n",
      " 12  INSTALL_NG_SAVINGS_THERMS               52170 non-null  float64\n",
      " 13  INSTALL_FO_SAVINGS_GAL                  75110 non-null  int64  \n",
      " 14  INSTALL_LPG_SAVINGS_GAL                 75110 non-null  int64  \n",
      " 15  INSTALL_KERO_SAVINGS_GAL                75110 non-null  int64  \n",
      " 16  INSTALL_WOOD_SAVINGS_MMBTU              75110 non-null  int64  \n",
      " 17  AUDITSOFTWARENAME                       75110 non-null  object \n",
      " 18  PREDICTIONMETHODTYPEDESC                75110 non-null  object \n",
      " 19  DECADEBUILT                             75110 non-null  object \n",
      " 20  STATE                                   75110 non-null  object \n",
      " 21  STATE_BASED_ON                          75110 non-null  object \n",
      " 22  ANNUALCOSTSAVINGS                       66282 non-null  float64\n",
      " 23  RETROFITSTARTMONTHYEAR                  13825 non-null  object \n",
      " 24  RETROFITCOMPLETIONMONTHYEAR             73519 non-null  object \n",
      " 25  DAYSFROMRETROFITSTARTTOCOMPLETION       13499 non-null  float64\n",
      " 26  AUDITCOMPLETIONMONTHYEAR                49634 non-null  object \n",
      " 27  DAYSFROMAUDITCOMPLETIONTORETROFITSTART  9667 non-null   float64\n",
      " 28  LOANAPPROVALMONTHYEAR                   12202 non-null  object \n",
      " 29  AUDITJOBHOURS                           67669 non-null  float64\n",
      " 30  AUDITINVOICEDCOST                       67465 non-null  float64\n",
      "dtypes: float64(12), int64(6), object(13)\n",
      "memory usage: 17.8+ MB\n"
     ]
    }
   ],
   "source": [
    "project_df.info()"
   ]
  },
  {
   "cell_type": "code",
   "execution_count": 13,
   "metadata": {},
   "outputs": [
    {
     "data": {
      "text/plain": [
       "(75110, 75110)"
      ]
     },
     "execution_count": 13,
     "metadata": {},
     "output_type": "execute_result"
    }
   ],
   "source": [
    "# Checking for uniqueness ID for projects.\n",
    "\n",
    "measures_df['PROJECTID'].nunique(), project_df['PROJECTID'].nunique()"
   ]
  },
  {
   "cell_type": "code",
   "execution_count": 8,
   "metadata": {},
   "outputs": [],
   "source": [
    "# Consolidating data\n",
    "\n",
    "df = pd.merge(measures_df, project_df, how='inner', on='PROJECTID')\n",
    "df.drop(['AWARDEENUMBER_x', 'AWARDEENUMBER_y', 'PROJECTID'], axis=1, inplace=True)"
   ]
  },
  {
   "cell_type": "markdown",
   "metadata": {},
   "source": [
    "**There are many variables that are not useful for our analyisis at this point:**\n",
    "1. Not relevant project information.\n",
    "2. Undefined retrofit measures installed.\n",
    "3. Building conditioning systems and construction elements removed."
   ]
  },
  {
   "cell_type": "code",
   "execution_count": 11,
   "metadata": {},
   "outputs": [],
   "source": [
    "# Removing other columns with little or not interesting information (case 1 and 2)\n",
    "\n",
    "columns2drop = ['STATE_BASED_ON', \n",
    "                'FLOORAREAUNIT', \n",
    "                'RETROFITSTARTMONTHYEAR', \n",
    "                'RETROFITCOMPLETIONMONTHYEAR', \n",
    "                'AUDITCOMPLETIONMONTHYEAR',\n",
    "                'LOANAPPROVALMONTHYEAR',\n",
    "                'INST_CORE_ENERGY',\n",
    "                'INST_HEALTH_SAFETY',\n",
    "                'REP_WINDOWS',\n",
    "                'LOANAMOUNT',\n",
    "                'DAYSFROMRETROFITSTARTTOCOMPLETION',\n",
    "                'DAYSFROMAUDITCOMPLETIONTORETROFITSTART']\n",
    "\n",
    "df.drop(columns2drop, axis=1, inplace=True)"
   ]
  },
  {
   "cell_type": "code",
   "execution_count": 9,
   "metadata": {},
   "outputs": [],
   "source": [
    "# Removing RMV columns (case 3).\n",
    "\n",
    "columns2drop = [i for i in df.columns if i.startswith('RMV')]\n",
    "df.drop(columns2drop, axis=1, inplace=True)"
   ]
  },
  {
   "cell_type": "code",
   "execution_count": 12,
   "metadata": {},
   "outputs": [
    {
     "data": {
      "text/plain": [
       "(75110, 88)"
      ]
     },
     "execution_count": 12,
     "metadata": {},
     "output_type": "execute_result"
    }
   ],
   "source": [
    "df.shape"
   ]
  },
  {
   "cell_type": "code",
   "execution_count": 13,
   "metadata": {},
   "outputs": [],
   "source": [
    "# Saving consolidated data\n",
    "\n",
    "file = 'C:/Users/javie/OneDrive/Documents/springboard_projects/Capstone-2/data/interim/consolidated.csv'\n",
    "df.to_csv(file)"
   ]
  }
 ],
 "metadata": {
  "kernelspec": {
   "display_name": "Python 3",
   "language": "python",
   "name": "python3"
  },
  "language_info": {
   "codemirror_mode": {
    "name": "ipython",
    "version": 3
   },
   "file_extension": ".py",
   "mimetype": "text/x-python",
   "name": "python",
   "nbconvert_exporter": "python",
   "pygments_lexer": "ipython3",
   "version": "3.7.7"
  }
 },
 "nbformat": 4,
 "nbformat_minor": 4
}
