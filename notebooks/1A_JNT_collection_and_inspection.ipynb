{
 "cells": [
  {
   "cell_type": "markdown",
   "metadata": {},
   "source": [
    "# 1. Data wrangling\n",
    "\n",
    "This notebook contains the steps 1 and 2 to prepare the dataset for the modelling process:\n",
    "1. Data collection \n",
    "2. Analysis and profiling\n",
    "3. Quality check assesment\n",
    "4. Data cleaning"
   ]
  },
  {
   "cell_type": "markdown",
   "metadata": {},
   "source": [
    "The first step is importing the necessary packages"
   ]
  },
  {
   "cell_type": "code",
   "execution_count": 1,
   "metadata": {},
   "outputs": [],
   "source": [
    "# Import the required packages\n",
    "\n",
    "import pandas as pd\n",
    "import numpy as np\n",
    "import matplotlib.pyplot as plt\n",
    "\n",
    "%matplotlib inline"
   ]
  },
  {
   "cell_type": "markdown",
   "metadata": {},
   "source": [
    "---\n",
    "### 1.1. Data collection\n",
    "\n",
    "This step involves gathering data from different sources and put together a single structure, usually a dataframe. In this case, the original dataset was already prepared by The US Energy Information Administration (EIA), and includes a meta-data file describing the variables' content. "
   ]
  },
  {
   "cell_type": "code",
   "execution_count": 2,
   "metadata": {},
   "outputs": [],
   "source": [
    "# Import original dataset and load it into a dataframe\n",
    "\n",
    "file = 'C:/Users/javie/OneDrive/Documents/springboard_projects/Capstone-2/data/raw/recs2015_public_v4.csv'\n",
    "\n",
    "df = pd.read_csv(file, index_col=None)"
   ]
  },
  {
   "cell_type": "code",
   "execution_count": 3,
   "metadata": {
    "scrolled": true
   },
   "outputs": [
    {
     "data": {
      "text/plain": [
       "(5686, 759)"
      ]
     },
     "execution_count": 3,
     "metadata": {},
     "output_type": "execute_result"
    }
   ],
   "source": [
    "df.shape"
   ]
  },
  {
   "cell_type": "markdown",
   "metadata": {},
   "source": [
    "The origin of the EIA dataset was a survey conducted in 2015 from a representative sample of the total US residential units. It comprises 5686 observations and 759 different attributes, which could be classified in higher level groups:\n",
    "\n",
    "- Building attributes\n",
    "- Building system features\n",
    "- Household uses and habits\n",
    "- Social and demographic characteristics\n",
    "- Energy consumption features \n",
    "- Economic features\n",
    "- Climate data\n",
    "\n",
    "Not all features are relevant for this project. I will select and extract the response and explanatory variables that could be later fetched from the listing website. Finally, I will load the resulting dataset into a DataFrame object. "
   ]
  },
  {
   "cell_type": "markdown",
   "metadata": {},
   "source": [
    "Here is an excerpt from the meta-data file with the selected variables and their meaning: \n",
    "\n",
    "| SAS Variable Name | Variable Description |\n",
    "| -------- | --------- |\n",
    "| ATTIC | Attic above the housing unit |\n",
    "| BEDROOMS | Number of bedrooms |\n",
    "| CELLAR | Housing unit over a basement |\n",
    "| COOLTYPE | Type of air conditioning equipment used |\n",
    "| DOLELCOL | Electricity cost for air conditioning (central systems and individual units), in dollars, 2015 |\n",
    "| DOLLAREL | Total electricity cost, in dollars, 2015 |\n",
    "| EQUIPAGE | Age of main space heating equipment |\n",
    "| EQUIPM | Main space heating equipment type |\n",
    "| HIGHCEIL | High ceilings |\n",
    "| CLIMATE_REGION_PUB | Building America Climate Zone |\n",
    "| KOWNRENT | Own or rent |\n",
    "| NCOMBATH | Number of full bathrooms |\n",
    "| NHAFBATH | Number of half bathrooms |\n",
    "| PROTHERM | Programmable main thermostat |\n",
    "| SIZEOFGARAGE | Size of attached garage |\n",
    "| STORIES | Number of stories in a single-family home |\n",
    "| TOTALDOLSPH | Total cost for space heating, main and secondary, in dollars, 2015 |\n",
    "| TOTALDOLWTH | Total cost for water heating, main and secondary, in dollars, 2015 | \n",
    "| TOTSQFT_EN | Total square footage (used for publication) |\n",
    "| TYPEHUQ | Type of housing unit |\n",
    "| YEARMADERANGE | Range when housing unit was built |"
   ]
  },
  {
   "cell_type": "code",
   "execution_count": 4,
   "metadata": {},
   "outputs": [],
   "source": [
    "# Select and store relevant variables for the project in a list\n",
    "\n",
    "main_feat = [\n",
    "            'TYPEHUQ',\n",
    "            'CLIMATE_REGION_PUB',\n",
    "            'YEARMADERANGE',\n",
    "            'TOTSQFT_EN',\n",
    "            'COOLTYPE',\n",
    "            'EQUIPAGE',\n",
    "            'EQUIPM',\n",
    "            'HIGHCEIL',\n",
    "            'ATTIC',\n",
    "            'CELLAR',\n",
    "            'BEDROOMS',\n",
    "            'NCOMBATH',\n",
    "            'NHAFBATH',\n",
    "            'PROTHERM',\n",
    "            'SIZEOFGARAGE',\n",
    "            'STORIES',\n",
    "            'KOWNRENT',\n",
    "            'DOLELCOL',\n",
    "            'DOLLAREL',\n",
    "            'TOTALDOLSPH', \n",
    "            'TOTALDOLWTH'  \n",
    "            ]"
   ]
  },
  {
   "cell_type": "code",
   "execution_count": 5,
   "metadata": {},
   "outputs": [],
   "source": [
    "# Select the working dataframe based on selected variables for the project\n",
    "\n",
    "df = df[main_feat]"
   ]
  },
  {
   "cell_type": "code",
   "execution_count": 6,
   "metadata": {},
   "outputs": [
    {
     "data": {
      "text/plain": [
       "(5686, 21)"
      ]
     },
     "execution_count": 6,
     "metadata": {},
     "output_type": "execute_result"
    }
   ],
   "source": [
    "# Check for number of rows and columns\n",
    "\n",
    "df.shape"
   ]
  },
  {
   "cell_type": "code",
   "execution_count": 7,
   "metadata": {
    "scrolled": true
   },
   "outputs": [
    {
     "data": {
      "text/html": [
       "<div>\n",
       "<style scoped>\n",
       "    .dataframe tbody tr th:only-of-type {\n",
       "        vertical-align: middle;\n",
       "    }\n",
       "\n",
       "    .dataframe tbody tr th {\n",
       "        vertical-align: top;\n",
       "    }\n",
       "\n",
       "    .dataframe thead th {\n",
       "        text-align: right;\n",
       "    }\n",
       "</style>\n",
       "<table border=\"1\" class=\"dataframe\">\n",
       "  <thead>\n",
       "    <tr style=\"text-align: right;\">\n",
       "      <th></th>\n",
       "      <th>TYPEHUQ</th>\n",
       "      <th>CLIMATE_REGION_PUB</th>\n",
       "      <th>YEARMADERANGE</th>\n",
       "      <th>TOTSQFT_EN</th>\n",
       "      <th>COOLTYPE</th>\n",
       "      <th>EQUIPAGE</th>\n",
       "      <th>EQUIPM</th>\n",
       "      <th>HIGHCEIL</th>\n",
       "      <th>ATTIC</th>\n",
       "      <th>CELLAR</th>\n",
       "      <th>...</th>\n",
       "      <th>NCOMBATH</th>\n",
       "      <th>NHAFBATH</th>\n",
       "      <th>PROTHERM</th>\n",
       "      <th>SIZEOFGARAGE</th>\n",
       "      <th>STORIES</th>\n",
       "      <th>KOWNRENT</th>\n",
       "      <th>DOLELCOL</th>\n",
       "      <th>DOLLAREL</th>\n",
       "      <th>TOTALDOLSPH</th>\n",
       "      <th>TOTALDOLWTH</th>\n",
       "    </tr>\n",
       "  </thead>\n",
       "  <tbody>\n",
       "    <tr>\n",
       "      <th>0</th>\n",
       "      <td>2</td>\n",
       "      <td>Hot-Dry/Mixed-Dry</td>\n",
       "      <td>7</td>\n",
       "      <td>1808</td>\n",
       "      <td>1</td>\n",
       "      <td>41</td>\n",
       "      <td>3</td>\n",
       "      <td>1</td>\n",
       "      <td>0</td>\n",
       "      <td>0</td>\n",
       "      <td>...</td>\n",
       "      <td>2</td>\n",
       "      <td>1</td>\n",
       "      <td>1</td>\n",
       "      <td>2</td>\n",
       "      <td>20</td>\n",
       "      <td>1</td>\n",
       "      <td>365.46</td>\n",
       "      <td>967.23</td>\n",
       "      <td>176.59</td>\n",
       "      <td>248.33</td>\n",
       "    </tr>\n",
       "    <tr>\n",
       "      <th>1</th>\n",
       "      <td>2</td>\n",
       "      <td>Hot-Humid</td>\n",
       "      <td>5</td>\n",
       "      <td>759</td>\n",
       "      <td>2</td>\n",
       "      <td>1</td>\n",
       "      <td>9</td>\n",
       "      <td>0</td>\n",
       "      <td>0</td>\n",
       "      <td>0</td>\n",
       "      <td>...</td>\n",
       "      <td>1</td>\n",
       "      <td>0</td>\n",
       "      <td>1</td>\n",
       "      <td>-2</td>\n",
       "      <td>10</td>\n",
       "      <td>1</td>\n",
       "      <td>249.54</td>\n",
       "      <td>1366.00</td>\n",
       "      <td>380.52</td>\n",
       "      <td>234.49</td>\n",
       "    </tr>\n",
       "    <tr>\n",
       "      <th>2</th>\n",
       "      <td>2</td>\n",
       "      <td>Mixed-Humid</td>\n",
       "      <td>4</td>\n",
       "      <td>2288</td>\n",
       "      <td>3</td>\n",
       "      <td>42</td>\n",
       "      <td>3</td>\n",
       "      <td>0</td>\n",
       "      <td>0</td>\n",
       "      <td>1</td>\n",
       "      <td>...</td>\n",
       "      <td>2</td>\n",
       "      <td>0</td>\n",
       "      <td>1</td>\n",
       "      <td>-2</td>\n",
       "      <td>10</td>\n",
       "      <td>1</td>\n",
       "      <td>844.63</td>\n",
       "      <td>2428.08</td>\n",
       "      <td>601.17</td>\n",
       "      <td>250.71</td>\n",
       "    </tr>\n",
       "    <tr>\n",
       "      <th>3</th>\n",
       "      <td>2</td>\n",
       "      <td>Mixed-Humid</td>\n",
       "      <td>2</td>\n",
       "      <td>2573</td>\n",
       "      <td>1</td>\n",
       "      <td>3</td>\n",
       "      <td>3</td>\n",
       "      <td>1</td>\n",
       "      <td>0</td>\n",
       "      <td>1</td>\n",
       "      <td>...</td>\n",
       "      <td>2</td>\n",
       "      <td>0</td>\n",
       "      <td>0</td>\n",
       "      <td>2</td>\n",
       "      <td>10</td>\n",
       "      <td>1</td>\n",
       "      <td>471.13</td>\n",
       "      <td>1313.12</td>\n",
       "      <td>863.46</td>\n",
       "      <td>114.62</td>\n",
       "    </tr>\n",
       "    <tr>\n",
       "      <th>4</th>\n",
       "      <td>2</td>\n",
       "      <td>Cold/Very Cold</td>\n",
       "      <td>4</td>\n",
       "      <td>1024</td>\n",
       "      <td>1</td>\n",
       "      <td>3</td>\n",
       "      <td>3</td>\n",
       "      <td>0</td>\n",
       "      <td>1</td>\n",
       "      <td>1</td>\n",
       "      <td>...</td>\n",
       "      <td>2</td>\n",
       "      <td>0</td>\n",
       "      <td>0</td>\n",
       "      <td>1</td>\n",
       "      <td>20</td>\n",
       "      <td>1</td>\n",
       "      <td>62.05</td>\n",
       "      <td>581.07</td>\n",
       "      <td>67.87</td>\n",
       "      <td>220.26</td>\n",
       "    </tr>\n",
       "  </tbody>\n",
       "</table>\n",
       "<p>5 rows × 21 columns</p>\n",
       "</div>"
      ],
      "text/plain": [
       "   TYPEHUQ CLIMATE_REGION_PUB  YEARMADERANGE  TOTSQFT_EN  COOLTYPE  EQUIPAGE  \\\n",
       "0        2  Hot-Dry/Mixed-Dry              7        1808         1        41   \n",
       "1        2          Hot-Humid              5         759         2         1   \n",
       "2        2        Mixed-Humid              4        2288         3        42   \n",
       "3        2        Mixed-Humid              2        2573         1         3   \n",
       "4        2     Cold/Very Cold              4        1024         1         3   \n",
       "\n",
       "   EQUIPM  HIGHCEIL  ATTIC  CELLAR  ...  NCOMBATH  NHAFBATH  PROTHERM  \\\n",
       "0       3         1      0       0  ...         2         1         1   \n",
       "1       9         0      0       0  ...         1         0         1   \n",
       "2       3         0      0       1  ...         2         0         1   \n",
       "3       3         1      0       1  ...         2         0         0   \n",
       "4       3         0      1       1  ...         2         0         0   \n",
       "\n",
       "   SIZEOFGARAGE  STORIES  KOWNRENT  DOLELCOL  DOLLAREL  TOTALDOLSPH  \\\n",
       "0             2       20         1    365.46    967.23       176.59   \n",
       "1            -2       10         1    249.54   1366.00       380.52   \n",
       "2            -2       10         1    844.63   2428.08       601.17   \n",
       "3             2       10         1    471.13   1313.12       863.46   \n",
       "4             1       20         1     62.05    581.07        67.87   \n",
       "\n",
       "   TOTALDOLWTH  \n",
       "0       248.33  \n",
       "1       234.49  \n",
       "2       250.71  \n",
       "3       114.62  \n",
       "4       220.26  \n",
       "\n",
       "[5 rows x 21 columns]"
      ]
     },
     "execution_count": 7,
     "metadata": {},
     "output_type": "execute_result"
    }
   ],
   "source": [
    "# Print sample\n",
    "\n",
    "df.head()"
   ]
  },
  {
   "cell_type": "markdown",
   "metadata": {},
   "source": [
    "---\n",
    "### 1.2. Analysis and profiling\n",
    "\n",
    "In this section, datatypes and statistics of different variables will be explored. Further, a general individual visualization of variables will be plotted to present a overview of their distribution. "
   ]
  },
  {
   "cell_type": "markdown",
   "metadata": {},
   "source": [
    "**Data types inspection**"
   ]
  },
  {
   "cell_type": "code",
   "execution_count": 8,
   "metadata": {
    "scrolled": false
   },
   "outputs": [
    {
     "name": "stdout",
     "output_type": "stream",
     "text": [
      "<class 'pandas.core.frame.DataFrame'>\n",
      "RangeIndex: 5686 entries, 0 to 5685\n",
      "Data columns (total 21 columns):\n",
      " #   Column              Non-Null Count  Dtype  \n",
      "---  ------              --------------  -----  \n",
      " 0   TYPEHUQ             5686 non-null   int64  \n",
      " 1   CLIMATE_REGION_PUB  5686 non-null   object \n",
      " 2   YEARMADERANGE       5686 non-null   int64  \n",
      " 3   TOTSQFT_EN          5686 non-null   int64  \n",
      " 4   COOLTYPE            5686 non-null   int64  \n",
      " 5   EQUIPAGE            5686 non-null   int64  \n",
      " 6   EQUIPM              5686 non-null   int64  \n",
      " 7   HIGHCEIL            5686 non-null   int64  \n",
      " 8   ATTIC               5686 non-null   int64  \n",
      " 9   CELLAR              5686 non-null   int64  \n",
      " 10  BEDROOMS            5686 non-null   int64  \n",
      " 11  NCOMBATH            5686 non-null   int64  \n",
      " 12  NHAFBATH            5686 non-null   int64  \n",
      " 13  PROTHERM            5686 non-null   int64  \n",
      " 14  SIZEOFGARAGE        5686 non-null   int64  \n",
      " 15  STORIES             5686 non-null   int64  \n",
      " 16  KOWNRENT            5686 non-null   int64  \n",
      " 17  DOLELCOL            5686 non-null   float64\n",
      " 18  DOLLAREL            5686 non-null   float64\n",
      " 19  TOTALDOLSPH         5686 non-null   float64\n",
      " 20  TOTALDOLWTH         5686 non-null   float64\n",
      "dtypes: float64(4), int64(16), object(1)\n",
      "memory usage: 933.0+ KB\n"
     ]
    }
   ],
   "source": [
    "# Inspect datatypes and missing data entries\n",
    "\n",
    "df.info()"
   ]
  },
  {
   "cell_type": "markdown",
   "metadata": {},
   "source": [
    "According to the meta-data file, some of the variables shown as numerical above are actually categorical. An update of the data types is necessary. "
   ]
  },
  {
   "cell_type": "code",
   "execution_count": 9,
   "metadata": {},
   "outputs": [],
   "source": [
    "# Store updated datatype information in a dictionary\n",
    "\n",
    "dtypes_dict = { \n",
    "                'ATTIC':'category',\n",
    "                'BEDROOMS':'int64',\n",
    "                'CELLAR':'category',\n",
    "                'COOLTYPE':'category',\n",
    "                'DOLELCOL':'float64',\n",
    "                'DOLLAREL':'float64',\n",
    "                'EQUIPAGE':'category',\n",
    "                'EQUIPM':'category',\n",
    "                'HIGHCEIL':'category',\n",
    "                'CLIMATE_REGION_PUB':'category',\n",
    "                'KOWNRENT':'category',\n",
    "                'NCOMBATH':'int64',\n",
    "                'NHAFBATH':'int64',\n",
    "                'PROTHERM':'category',\n",
    "                'SIZEOFGARAGE':'category',\n",
    "                'STORIES':'category',\n",
    "                'TOTALDOLSPH':'float64',\n",
    "                'TOTSQFT_EN':'float64',\n",
    "                'TYPEHUQ':'category',\n",
    "                'YEARMADERANGE':'category',\n",
    "                'TOTALDOLWTH':'float64'\n",
    "              }\n",
    "\n",
    "df = df.astype(dtypes_dict) # Apply correct variables' datatypes"
   ]
  },
  {
   "cell_type": "markdown",
   "metadata": {},
   "source": [
    "---\n",
    "**Variable optimization**\n",
    "\n",
    "Many of categorical variables has intergers code entries corresponding to classification groups explained in the meta-data information. The codes will be replaced in the cell below by the actual meaning to improve readability in graphs and plots.\n",
    "\n",
    "Also, some categorical variables will be grouped in broader classification to reduce the number of variables."
   ]
  },
  {
   "cell_type": "code",
   "execution_count": 10,
   "metadata": {},
   "outputs": [],
   "source": [
    "# Change category names in category variables for better readability\n",
    "\n",
    "equipage = {1:'A: -2 yrs', 2:'B: 2-4 yrs', 3:'C: 5-9 yrs', 41:'D: 10-14 yrs', 42:'E: 15-19 yrs', 5:'F: +20 yrs', -2:'None'}\n",
    "df['EQUIPAGE'].replace(equipage, inplace=True)\n",
    "\n",
    "kownrent = {1:'Owned', 2:'Rented', 3:'Occupied'}\n",
    "df['KOWNRENT'].replace(kownrent, inplace=True)\n",
    "\n",
    "stories = {10:'1', 20:'2', 31:'3', 32:'+4', 40:'Split-level', -2:'NA'} \n",
    "df['STORIES'].replace(stories, inplace=True)\n",
    "\n",
    "typehuq = {1:'Mobile home', 2:'Detached house', 3:'Attached house', 4:'Apartment in bld with 2-4 units', 5:'Apartment in bld with 5+ units'}\n",
    "df['TYPEHUQ'].replace(typehuq, inplace=True)\n",
    "\n",
    "yearmaderange = {1:'.<1950', 2:'1950-1959', 3:'1960-1969', 4:'1970-1979', 5:'1980-1989', 6:'1990-1999', 7:'2000-2009', 8:'2010-2015'}\n",
    "df['YEARMADERANGE'].replace(yearmaderange, inplace=True)"
   ]
  },
  {
   "cell_type": "code",
   "execution_count": 11,
   "metadata": {},
   "outputs": [],
   "source": [
    "# Reclassify categories in broader groups \n",
    "\n",
    "cooltype = {1:'Central', 2:'Individual', 3:'Both central and individual', -2:'None'}\n",
    "df['COOLTYPE'].replace(cooltype, inplace=True)\n",
    "\n",
    "equipm = {2:'Central water system', 3:'Central furnace', 4:'Central heat pump', 5:'Other individual', 6:'Other individual', 7:'Other individual', 8:'Other individual', 9:'Other individual', 10:'Other individual', 21:'Other individual', -2:'None'}\n",
    "df['EQUIPM'].replace(equipm, inplace=True)\n",
    "\n",
    "# Merge number of bathrooms and half-bathrooms in a single category\n",
    "df['BATHROOMS'] = df['NCOMBATH'] + df['NHAFBATH']/2\n",
    "df.drop(['NCOMBATH', 'NHAFBATH'], axis=1, inplace=True)\n",
    "\n",
    "# Group number of bathrooms in larger categories\n",
    "df['BATHROOMS'] = pd.cut(df['BATHROOMS'], bins=[0,1,2,3.5,np.inf], labels=['0-1', '1.5-2','2.5-3.5', '+3.5'])\n",
    "\n",
    "# Group number of bedrooms in larger categories\n",
    "df['BEDROOMS'] = pd.cut(df['BEDROOMS'], bins=[0,2,3,4,np.inf], labels=['0-2', '3', '4', '+4'])\n",
    "\n",
    "# Add a new variable for Total electric consumption excluding cooling, and drop the former\n",
    "df['ELECT_COST'] = df['DOLLAREL'] - df['DOLELCOL']\n",
    "df.drop(['DOLLAREL'], axis=1, inplace=True)"
   ]
  },
  {
   "cell_type": "code",
   "execution_count": 12,
   "metadata": {},
   "outputs": [],
   "source": [
    "# Add new category adding total consumption cost\n",
    "\n",
    "df['TOT_COST'] = df[['DOLELCOL', 'TOTALDOLSPH', 'TOTALDOLWTH', 'ELECT_COST']].sum(axis=1)"
   ]
  },
  {
   "cell_type": "markdown",
   "metadata": {},
   "source": [
    "---\n",
    "**Variable renaming**\n",
    "\n",
    "Columns are renamed to represent their meaning more intuitively and improve code readability"
   ]
  },
  {
   "cell_type": "code",
   "execution_count": 13,
   "metadata": {},
   "outputs": [],
   "source": [
    "# Creates a dict with actual and new names.\n",
    "\n",
    "rename = {'ATTIC':'ATTIC',\n",
    "          'BEDROOMS':'BEDROOMS',\n",
    "          'CELLAR':'BASEMENT',\n",
    "          'COOLTYPE':'COOL_TYPE',\n",
    "          'DOLELCOL':'COOL_COST',\n",
    "          'EQUIPAGE':'EQUIP_AGE',\n",
    "          'EQUIPM':'HEAT_TYPE',\n",
    "          'HIGHCEIL':'HIGH_CEIL',\n",
    "          'CLIMATE_REGION_PUB':'CLIMATE_REGION',\n",
    "          'KOWNRENT':'OWNERSHIP',\n",
    "          'NCOMBATH':'NCOMBATH',\n",
    "          'NHAFBATH':'NHAFBATH',\n",
    "          'PROTHERM':'THERMOSTAT',\n",
    "          'SIZEOFGARAGE':'SIZEOFGARAGE',\n",
    "          'STORIES':'STORIES',\n",
    "          'TOTALDOLSPH':'HEAT_COST',\n",
    "          'TOTSQFT_EN':'FLOOR_AREA',\n",
    "          'TYPEHUQ':'UNIT_TYPE',\n",
    "          'YEARMADERANGE':'DECADE_BUILT',\n",
    "          'TOTALDOLWTH':'WATERHEAT_COST'\n",
    "            }"
   ]
  },
  {
   "cell_type": "code",
   "execution_count": 14,
   "metadata": {},
   "outputs": [],
   "source": [
    "# Rename columns applying 'rename' dict\n",
    "\n",
    "df.rename(rename, axis=1, inplace=True)"
   ]
  },
  {
   "cell_type": "markdown",
   "metadata": {},
   "source": [
    "---\n",
    "**Statistics inspection**\n",
    "\n",
    "Statistics for numerical variables are inspected below to check for inconsistencies in the data, such as out-of-range values."
   ]
  },
  {
   "cell_type": "code",
   "execution_count": 15,
   "metadata": {
    "scrolled": false
   },
   "outputs": [
    {
     "data": {
      "text/html": [
       "<div>\n",
       "<style scoped>\n",
       "    .dataframe tbody tr th:only-of-type {\n",
       "        vertical-align: middle;\n",
       "    }\n",
       "\n",
       "    .dataframe tbody tr th {\n",
       "        vertical-align: top;\n",
       "    }\n",
       "\n",
       "    .dataframe thead th {\n",
       "        text-align: right;\n",
       "    }\n",
       "</style>\n",
       "<table border=\"1\" class=\"dataframe\">\n",
       "  <thead>\n",
       "    <tr style=\"text-align: right;\">\n",
       "      <th></th>\n",
       "      <th>count</th>\n",
       "      <th>mean</th>\n",
       "      <th>std</th>\n",
       "      <th>min</th>\n",
       "      <th>25%</th>\n",
       "      <th>50%</th>\n",
       "      <th>75%</th>\n",
       "      <th>max</th>\n",
       "    </tr>\n",
       "  </thead>\n",
       "  <tbody>\n",
       "    <tr>\n",
       "      <th>FLOOR_AREA</th>\n",
       "      <td>5686.0</td>\n",
       "      <td>2081.443546</td>\n",
       "      <td>1282.660286</td>\n",
       "      <td>221.00</td>\n",
       "      <td>1100.5000</td>\n",
       "      <td>1773.500</td>\n",
       "      <td>2766.0000</td>\n",
       "      <td>8501.00</td>\n",
       "    </tr>\n",
       "    <tr>\n",
       "      <th>COOL_COST</th>\n",
       "      <td>5686.0</td>\n",
       "      <td>237.380515</td>\n",
       "      <td>277.863400</td>\n",
       "      <td>0.00</td>\n",
       "      <td>48.3650</td>\n",
       "      <td>146.605</td>\n",
       "      <td>328.2625</td>\n",
       "      <td>2860.01</td>\n",
       "    </tr>\n",
       "    <tr>\n",
       "      <th>HEAT_COST</th>\n",
       "      <td>5686.0</td>\n",
       "      <td>511.110366</td>\n",
       "      <td>482.333423</td>\n",
       "      <td>0.00</td>\n",
       "      <td>164.0200</td>\n",
       "      <td>400.845</td>\n",
       "      <td>695.2075</td>\n",
       "      <td>4766.66</td>\n",
       "    </tr>\n",
       "    <tr>\n",
       "      <th>WATERHEAT_COST</th>\n",
       "      <td>5686.0</td>\n",
       "      <td>296.659831</td>\n",
       "      <td>208.840347</td>\n",
       "      <td>0.00</td>\n",
       "      <td>156.6775</td>\n",
       "      <td>236.445</td>\n",
       "      <td>375.4900</td>\n",
       "      <td>2566.61</td>\n",
       "    </tr>\n",
       "    <tr>\n",
       "      <th>ELECT_COST</th>\n",
       "      <td>5686.0</td>\n",
       "      <td>1166.398547</td>\n",
       "      <td>703.334011</td>\n",
       "      <td>15.43</td>\n",
       "      <td>670.0450</td>\n",
       "      <td>1021.745</td>\n",
       "      <td>1496.9200</td>\n",
       "      <td>7310.58</td>\n",
       "    </tr>\n",
       "    <tr>\n",
       "      <th>TOT_COST</th>\n",
       "      <td>5686.0</td>\n",
       "      <td>2211.549260</td>\n",
       "      <td>1208.505501</td>\n",
       "      <td>76.40</td>\n",
       "      <td>1348.6500</td>\n",
       "      <td>1997.590</td>\n",
       "      <td>2826.4875</td>\n",
       "      <td>11078.48</td>\n",
       "    </tr>\n",
       "  </tbody>\n",
       "</table>\n",
       "</div>"
      ],
      "text/plain": [
       "                 count         mean          std     min        25%       50%  \\\n",
       "FLOOR_AREA      5686.0  2081.443546  1282.660286  221.00  1100.5000  1773.500   \n",
       "COOL_COST       5686.0   237.380515   277.863400    0.00    48.3650   146.605   \n",
       "HEAT_COST       5686.0   511.110366   482.333423    0.00   164.0200   400.845   \n",
       "WATERHEAT_COST  5686.0   296.659831   208.840347    0.00   156.6775   236.445   \n",
       "ELECT_COST      5686.0  1166.398547   703.334011   15.43   670.0450  1021.745   \n",
       "TOT_COST        5686.0  2211.549260  1208.505501   76.40  1348.6500  1997.590   \n",
       "\n",
       "                      75%       max  \n",
       "FLOOR_AREA      2766.0000   8501.00  \n",
       "COOL_COST        328.2625   2860.01  \n",
       "HEAT_COST        695.2075   4766.66  \n",
       "WATERHEAT_COST   375.4900   2566.61  \n",
       "ELECT_COST      1496.9200   7310.58  \n",
       "TOT_COST        2826.4875  11078.48  "
      ]
     },
     "execution_count": 15,
     "metadata": {},
     "output_type": "execute_result"
    }
   ],
   "source": [
    "# Check summary statistics for numerical variables\n",
    "\n",
    "df.describe().T"
   ]
  },
  {
   "cell_type": "markdown",
   "metadata": {},
   "source": [
    "It seems that everything lies within expected consistent values"
   ]
  },
  {
   "cell_type": "markdown",
   "metadata": {},
   "source": [
    "---\n",
    "**Visual inspection of variables**\n",
    "\n",
    "Numerical variables are plotted below individually for further inspection. "
   ]
  },
  {
   "cell_type": "code",
   "execution_count": 16,
   "metadata": {},
   "outputs": [],
   "source": [
    "# Create a function to generate a PMF plot for categorical and discrete variables\n",
    "\n",
    "def Pmf(series, Title):\n",
    "    '''Generates a probability mass function (PMF) of a pandas series'''\n",
    "    value = series.value_counts().sort_index()\n",
    "    pmf = value*100 / len(series)\n",
    "    plt.bar(value.index, pmf)\n",
    "    plt.xticks(value.index)\n",
    "    plt.ylabel('Frequency')\n",
    "    plt.title(Title, fontsize='large', fontweight='bold')"
   ]
  },
  {
   "cell_type": "code",
   "execution_count": 17,
   "metadata": {},
   "outputs": [],
   "source": [
    "# Set visual style for graphs\n",
    "\n",
    "plt.style.use('seaborn')"
   ]
  },
  {
   "cell_type": "markdown",
   "metadata": {},
   "source": [
    "Broad classification for residential units are shown below. Type, age and location (climate clasiffication) of the units are perhaps the most determinant factors for the target variable."
   ]
  },
  {
   "cell_type": "code",
   "execution_count": 18,
   "metadata": {},
   "outputs": [
    {
     "data": {
      "image/png": "[encoded data removed]",
      "text/plain": [
       "<Figure size 1080x1080 with 3 Axes>"
      ]
     },
     "metadata": {},
     "output_type": "display_data"
    }
   ],
   "source": [
    "fig = plt.figure(figsize=(15,15), dpi=72)\n",
    "\n",
    "# Plot type of housing unit\n",
    "plt.subplot(2,2,1)\n",
    "Pmf(df['UNIT_TYPE'], 'Type of unit')\n",
    "plt.xticks(rotation=30, horizontalalignment='right')\n",
    "\n",
    "# Plot year built\n",
    "plt.subplot(2,2,2)\n",
    "Pmf(df['DECADE_BUILT'], 'Year built')\n",
    "\n",
    "# Plot climate classification\n",
    "plt.subplot(2,2,3)\n",
    "Pmf(df['CLIMATE_REGION'], 'Climate classification')\n",
    "\n",
    "plt.tight_layout()\n",
    "plt.show()"
   ]
  },
  {
   "cell_type": "markdown",
   "metadata": {},
   "source": [
    "There are a few relevant characteristics that can be observed:\n",
    "- Most of units are deattached houses (+65%)\n",
    "- Age values are uniformly distributed except for decades 1950-1959 and 1960-1969 which present roughly half of entries that other decades\n",
    "- Climate distribution for units' location seems consistent with climate areas proportion in the US mainland territory, dominated by climates Cold/Very Cold and Mixed-Humid.\n",
    "\n",
    "Floor area represents other important explanatory factor for units' energy consumption, its distribution is shown below:"
   ]
  },
  {
   "cell_type": "code",
   "execution_count": 19,
   "metadata": {},
   "outputs": [
    {
     "data": {
      "image/png": "[encoded data removed]",
      "text/plain": [
       "<Figure size 720x360 with 1 Axes>"
      ]
     },
     "metadata": {},
     "output_type": "display_data"
    }
   ],
   "source": [
    "# Plot histogram for floor area measurements\n",
    "\n",
    "sqf = df['FLOOR_AREA']\n",
    "\n",
    "# Creates figure and plot \n",
    "fig = plt.figure(figsize=(10,5), dpi=72)\n",
    "sqf.plot.hist(bins=34, range=[0,8500], density=True)\n",
    "sqf_median = round(np.mean(sqf))\n",
    "plt.axvline(sqf_median, color='Red', linestyle='--', label='median: '+str(sqf_median)+'sqf')\n",
    "plt.legend()\n",
    "\n",
    "\n",
    "# Adjust graphic appearance\n",
    "x_list = [i*500 for i in range(0,18)]\n",
    "plt.xticks(x_list, x_list)\n",
    "plt.xlabel('SQFT')\n",
    "plt.title('Floor area', fontweight='bold')\n",
    "\n",
    "plt.show()"
   ]
  },
  {
   "cell_type": "markdown",
   "metadata": {},
   "source": [
    "Floor areas have a skewed distribution resembling a Poisson-like shape. Predominant floor areas concentrate around 1000-2000 sqft."
   ]
  },
  {
   "cell_type": "markdown",
   "metadata": {},
   "source": [
    "PMF plots for different __building system__ features are shown in the cell below:"
   ]
  },
  {
   "cell_type": "code",
   "execution_count": 20,
   "metadata": {},
   "outputs": [
    {
     "data": {
      "image/png": "[encoded data removed]",
      "text/plain": [
       "<Figure size 1080x720 with 4 Axes>"
      ]
     },
     "metadata": {},
     "output_type": "display_data"
    }
   ],
   "source": [
    "# Plot PMF of categorical variables\n",
    "\n",
    "fig = plt.figure(figsize=(15,10), dpi=72)\n",
    "\n",
    "plt.subplot(2,2,1)\n",
    "Pmf(df['COOL_TYPE'], 'Cooling equipment type')\n",
    "plt.xticks(rotation=45, horizontalalignment='right')\n",
    "\n",
    "plt.subplot(2,2,2)\n",
    "Pmf(df['HEAT_TYPE'], 'Heating equipment type')\n",
    "plt.xticks(rotation=45, horizontalalignment='right')\n",
    "\n",
    "plt.subplot(2,2,3)\n",
    "Pmf(df['EQUIP_AGE'], 'Heating equipment age')\n",
    "\n",
    "plt.subplot(2,2,4)\n",
    "Pmf(df['THERMOSTAT'], 'Has programable thermostat')\n",
    "\n",
    "plt.tight_layout()\n",
    "plt.show()"
   ]
  },
  {
   "cell_type": "markdown",
   "metadata": {},
   "source": [
    "It can be observed that:\n",
    "- An overwhelming mayority of units use central conditioning systems alone or in combination with other type\n",
    "- Roughly half of units have a programable thermostat\n",
    "- Heating equipments age are roughly evenly distributed with a peak between 5-15 years\n",
    "- Roughly 17% of heating equiments have more than 20 years of age"
   ]
  },
  {
   "cell_type": "markdown",
   "metadata": {},
   "source": [
    "In the next four cells, it can be seen the distribution of other variables accounting for **unit's general features**"
   ]
  },
  {
   "cell_type": "code",
   "execution_count": 21,
   "metadata": {},
   "outputs": [
    {
     "data": {
      "image/png": "[encoded data removed]",
      "text/plain": [
       "<Figure size 720x360 with 2 Axes>"
      ]
     },
     "metadata": {},
     "output_type": "display_data"
    }
   ],
   "source": [
    "# Plot PMF\n",
    "\n",
    "fig = plt.figure(figsize=(10,5), dpi=72)\n",
    "\n",
    "plt.subplot(1,2,1)\n",
    "Pmf(df['BATHROOMS'], 'Bathrooms')\n",
    "\n",
    "plt.subplot(1,2,2)\n",
    "Pmf(df['BEDROOMS'], 'Bedrooms')\n",
    "\n",
    "plt.show()"
   ]
  },
  {
   "cell_type": "code",
   "execution_count": 22,
   "metadata": {},
   "outputs": [
    {
     "ename": "KeyError",
     "evalue": "'HOTTUB'",
     "output_type": "error",
     "traceback": [
      "\u001b[1;31m---------------------------------------------------------------------------\u001b[0m",
      "\u001b[1;31mKeyError\u001b[0m                                  Traceback (most recent call last)",
      "\u001b[1;32m~\\anaconda3\\lib\\site-packages\\pandas\\core\\indexes\\base.py\u001b[0m in \u001b[0;36mget_loc\u001b[1;34m(self, key, method, tolerance)\u001b[0m\n\u001b[0;32m   2888\u001b[0m             \u001b[1;32mtry\u001b[0m\u001b[1;33m:\u001b[0m\u001b[1;33m\u001b[0m\u001b[1;33m\u001b[0m\u001b[0m\n\u001b[1;32m-> 2889\u001b[1;33m                 \u001b[1;32mreturn\u001b[0m \u001b[0mself\u001b[0m\u001b[1;33m.\u001b[0m\u001b[0m_engine\u001b[0m\u001b[1;33m.\u001b[0m\u001b[0mget_loc\u001b[0m\u001b[1;33m(\u001b[0m\u001b[0mcasted_key\u001b[0m\u001b[1;33m)\u001b[0m\u001b[1;33m\u001b[0m\u001b[1;33m\u001b[0m\u001b[0m\n\u001b[0m\u001b[0;32m   2890\u001b[0m             \u001b[1;32mexcept\u001b[0m \u001b[0mKeyError\u001b[0m \u001b[1;32mas\u001b[0m \u001b[0merr\u001b[0m\u001b[1;33m:\u001b[0m\u001b[1;33m\u001b[0m\u001b[1;33m\u001b[0m\u001b[0m\n",
      "\u001b[1;32mpandas\\_libs\\index.pyx\u001b[0m in \u001b[0;36mpandas._libs.index.IndexEngine.get_loc\u001b[1;34m()\u001b[0m\n",
      "\u001b[1;32mpandas\\_libs\\index.pyx\u001b[0m in \u001b[0;36mpandas._libs.index.IndexEngine.get_loc\u001b[1;34m()\u001b[0m\n",
      "\u001b[1;32mpandas\\_libs\\hashtable_class_helper.pxi\u001b[0m in \u001b[0;36mpandas._libs.hashtable.PyObjectHashTable.get_item\u001b[1;34m()\u001b[0m\n",
      "\u001b[1;32mpandas\\_libs\\hashtable_class_helper.pxi\u001b[0m in \u001b[0;36mpandas._libs.hashtable.PyObjectHashTable.get_item\u001b[1;34m()\u001b[0m\n",
      "\u001b[1;31mKeyError\u001b[0m: 'HOTTUB'",
      "\nThe above exception was the direct cause of the following exception:\n",
      "\u001b[1;31mKeyError\u001b[0m                                  Traceback (most recent call last)",
      "\u001b[1;32m<ipython-input-22-e8a8c839882b>\u001b[0m in \u001b[0;36m<module>\u001b[1;34m\u001b[0m\n\u001b[0;32m      4\u001b[0m \u001b[1;33m\u001b[0m\u001b[0m\n\u001b[0;32m      5\u001b[0m \u001b[0mplt\u001b[0m\u001b[1;33m.\u001b[0m\u001b[0msubplot\u001b[0m\u001b[1;33m(\u001b[0m\u001b[1;36m1\u001b[0m\u001b[1;33m,\u001b[0m\u001b[1;36m2\u001b[0m\u001b[1;33m,\u001b[0m\u001b[1;36m1\u001b[0m\u001b[1;33m)\u001b[0m\u001b[1;33m\u001b[0m\u001b[1;33m\u001b[0m\u001b[0m\n\u001b[1;32m----> 6\u001b[1;33m \u001b[0mPmf\u001b[0m\u001b[1;33m(\u001b[0m\u001b[0mdf\u001b[0m\u001b[1;33m[\u001b[0m\u001b[1;34m'HOTTUB'\u001b[0m\u001b[1;33m]\u001b[0m\u001b[1;33m,\u001b[0m \u001b[1;34m'Has attic'\u001b[0m\u001b[1;33m)\u001b[0m\u001b[1;33m\u001b[0m\u001b[1;33m\u001b[0m\u001b[0m\n\u001b[0m\u001b[0;32m      7\u001b[0m \u001b[1;33m\u001b[0m\u001b[0m\n\u001b[0;32m      8\u001b[0m \u001b[0mplt\u001b[0m\u001b[1;33m.\u001b[0m\u001b[0msubplot\u001b[0m\u001b[1;33m(\u001b[0m\u001b[1;36m1\u001b[0m\u001b[1;33m,\u001b[0m\u001b[1;36m2\u001b[0m\u001b[1;33m,\u001b[0m\u001b[1;36m2\u001b[0m\u001b[1;33m)\u001b[0m\u001b[1;33m\u001b[0m\u001b[1;33m\u001b[0m\u001b[0m\n",
      "\u001b[1;32m~\\anaconda3\\lib\\site-packages\\pandas\\core\\frame.py\u001b[0m in \u001b[0;36m__getitem__\u001b[1;34m(self, key)\u001b[0m\n\u001b[0;32m   2900\u001b[0m             \u001b[1;32mif\u001b[0m \u001b[0mself\u001b[0m\u001b[1;33m.\u001b[0m\u001b[0mcolumns\u001b[0m\u001b[1;33m.\u001b[0m\u001b[0mnlevels\u001b[0m \u001b[1;33m>\u001b[0m \u001b[1;36m1\u001b[0m\u001b[1;33m:\u001b[0m\u001b[1;33m\u001b[0m\u001b[1;33m\u001b[0m\u001b[0m\n\u001b[0;32m   2901\u001b[0m                 \u001b[1;32mreturn\u001b[0m \u001b[0mself\u001b[0m\u001b[1;33m.\u001b[0m\u001b[0m_getitem_multilevel\u001b[0m\u001b[1;33m(\u001b[0m\u001b[0mkey\u001b[0m\u001b[1;33m)\u001b[0m\u001b[1;33m\u001b[0m\u001b[1;33m\u001b[0m\u001b[0m\n\u001b[1;32m-> 2902\u001b[1;33m             \u001b[0mindexer\u001b[0m \u001b[1;33m=\u001b[0m \u001b[0mself\u001b[0m\u001b[1;33m.\u001b[0m\u001b[0mcolumns\u001b[0m\u001b[1;33m.\u001b[0m\u001b[0mget_loc\u001b[0m\u001b[1;33m(\u001b[0m\u001b[0mkey\u001b[0m\u001b[1;33m)\u001b[0m\u001b[1;33m\u001b[0m\u001b[1;33m\u001b[0m\u001b[0m\n\u001b[0m\u001b[0;32m   2903\u001b[0m             \u001b[1;32mif\u001b[0m \u001b[0mis_integer\u001b[0m\u001b[1;33m(\u001b[0m\u001b[0mindexer\u001b[0m\u001b[1;33m)\u001b[0m\u001b[1;33m:\u001b[0m\u001b[1;33m\u001b[0m\u001b[1;33m\u001b[0m\u001b[0m\n\u001b[0;32m   2904\u001b[0m                 \u001b[0mindexer\u001b[0m \u001b[1;33m=\u001b[0m \u001b[1;33m[\u001b[0m\u001b[0mindexer\u001b[0m\u001b[1;33m]\u001b[0m\u001b[1;33m\u001b[0m\u001b[1;33m\u001b[0m\u001b[0m\n",
      "\u001b[1;32m~\\anaconda3\\lib\\site-packages\\pandas\\core\\indexes\\base.py\u001b[0m in \u001b[0;36mget_loc\u001b[1;34m(self, key, method, tolerance)\u001b[0m\n\u001b[0;32m   2889\u001b[0m                 \u001b[1;32mreturn\u001b[0m \u001b[0mself\u001b[0m\u001b[1;33m.\u001b[0m\u001b[0m_engine\u001b[0m\u001b[1;33m.\u001b[0m\u001b[0mget_loc\u001b[0m\u001b[1;33m(\u001b[0m\u001b[0mcasted_key\u001b[0m\u001b[1;33m)\u001b[0m\u001b[1;33m\u001b[0m\u001b[1;33m\u001b[0m\u001b[0m\n\u001b[0;32m   2890\u001b[0m             \u001b[1;32mexcept\u001b[0m \u001b[0mKeyError\u001b[0m \u001b[1;32mas\u001b[0m \u001b[0merr\u001b[0m\u001b[1;33m:\u001b[0m\u001b[1;33m\u001b[0m\u001b[1;33m\u001b[0m\u001b[0m\n\u001b[1;32m-> 2891\u001b[1;33m                 \u001b[1;32mraise\u001b[0m \u001b[0mKeyError\u001b[0m\u001b[1;33m(\u001b[0m\u001b[0mkey\u001b[0m\u001b[1;33m)\u001b[0m \u001b[1;32mfrom\u001b[0m \u001b[0merr\u001b[0m\u001b[1;33m\u001b[0m\u001b[1;33m\u001b[0m\u001b[0m\n\u001b[0m\u001b[0;32m   2892\u001b[0m \u001b[1;33m\u001b[0m\u001b[0m\n\u001b[0;32m   2893\u001b[0m         \u001b[1;32mif\u001b[0m \u001b[0mtolerance\u001b[0m \u001b[1;32mis\u001b[0m \u001b[1;32mnot\u001b[0m \u001b[1;32mNone\u001b[0m\u001b[1;33m:\u001b[0m\u001b[1;33m\u001b[0m\u001b[1;33m\u001b[0m\u001b[0m\n",
      "\u001b[1;31mKeyError\u001b[0m: 'HOTTUB'"
     ]
    },
    {
     "data": {
      "image/png": "[encoded data removed]",
      "text/plain": [
       "<Figure size 720x360 with 1 Axes>"
      ]
     },
     "metadata": {},
     "output_type": "display_data"
    }
   ],
   "source": [
    "# Plot PMF of categorical variables\n",
    "\n",
    "fig = plt.figure(figsize=(10,5), dpi=72)\n",
    "\n",
    "plt.subplot(1,2,1)\n",
    "Pmf(df['HOTTUB'], 'Has attic')\n",
    "\n",
    "plt.subplot(1,2,2)\n",
    "Pmf(df['SWIMPOOL'], 'Has basement')\n",
    "\n",
    "plt.tight_layout()\n",
    "plt.show()"
   ]
  },
  {
   "cell_type": "code",
   "execution_count": null,
   "metadata": {
    "scrolled": false
   },
   "outputs": [],
   "source": [
    "# Plot PMF of categorical variables\n",
    "\n",
    "fig = plt.figure(figsize=(10,5), dpi=72)\n",
    "\n",
    "plt.subplot(1,2,1)\n",
    "Pmf(df['ATTIC'], 'Has attic')\n",
    "\n",
    "plt.subplot(1,2,2)\n",
    "Pmf(df['BASEMENT'], 'Has basement')\n",
    "\n",
    "plt.tight_layout()\n",
    "plt.show()"
   ]
  },
  {
   "cell_type": "code",
   "execution_count": null,
   "metadata": {
    "scrolled": false
   },
   "outputs": [],
   "source": [
    "# Plot PMF of categorical and numerical variables\n",
    "\n",
    "fig = plt.figure(figsize=(10,10), dpi=72)\n",
    "\n",
    "plt.subplot(2,2,1)\n",
    "Pmf(df['HIGH_CEIL'], 'Has high ceiling')\n",
    "\n",
    "plt.subplot(2,2,2)\n",
    "Pmf(df['STORIES'], 'Number of stories')\n",
    "\n",
    "plt.subplot(2,2,3)\n",
    "Pmf(df['SIZEOFGARAGE'], 'Number of car spaces in garage')\n",
    "\n",
    "plt.tight_layout()\n",
    "plt.show()"
   ]
  },
  {
   "cell_type": "markdown",
   "metadata": {},
   "source": [
    "**Social and demographic** related variables are depicted in the cell below"
   ]
  },
  {
   "cell_type": "code",
   "execution_count": null,
   "metadata": {},
   "outputs": [],
   "source": [
    "# Plot PMF of categorical variables\n",
    "\n",
    "fig = plt.figure(figsize=(5,5), dpi=72)\n",
    "\n",
    "Pmf(df['OWNERSHIP'], 'Unit ownership')\n",
    "plt.xticks(rotation=45, horizontalalignment='right')\n",
    "\n",
    "plt.tight_layout()\n",
    "plt.show()"
   ]
  },
  {
   "cell_type": "markdown",
   "metadata": {},
   "source": [
    "Lastly, histograms of the target variables are shown below, they all represent dollar costs for different energy uses in the units:"
   ]
  },
  {
   "cell_type": "code",
   "execution_count": null,
   "metadata": {},
   "outputs": [],
   "source": [
    "# Plot histograms of utility dollar spending\n",
    "\n",
    "fig = plt.figure(figsize=(15,15), dpi=72)\n",
    "\n",
    "plt.subplot(3,2,1)\n",
    "plt.hist(df['COOL_COST'], bins=50, density=True)\n",
    "plt.title('Electricity cost for air conditioning, 2015')\n",
    "plt.xlabel('Cost ($)')\n",
    "plt.ylabel('Frecuency')\n",
    "\n",
    "plt.subplot(3,2,2)\n",
    "plt.hist(df['ELECT_COST'], bins=50, density=True)\n",
    "plt.title('Total electricity cost excluding cooling, 2015')\n",
    "plt.xlabel('Cost ($)')\n",
    "plt.ylabel('Frecuency')\n",
    "\n",
    "plt.subplot(3,2,3)\n",
    "plt.hist(df['HEAT_COST'], bins=50, density=True)\n",
    "plt.title('Total cost for space heating, 2015')\n",
    "plt.xlabel('Cost ($)')\n",
    "plt.ylabel('Frecuency')\n",
    "\n",
    "plt.subplot(3,2,4)\n",
    "plt.hist(df['WATERHEAT_COST'], bins=50, density=True)\n",
    "plt.title('Total cost for water heating, main and secondary, 2015')\n",
    "plt.xlabel('Cost ($)')\n",
    "plt.ylabel('Frecuency')\n",
    "\n",
    "plt.subplot(3,2,5)\n",
    "plt.hist(df['TOT_COST'], bins=50, density=True)\n",
    "plt.title('Total cost for energy consumption, 2015')\n",
    "plt.xlabel('Cost ($)')\n",
    "plt.ylabel('Frecuency')\n",
    "\n",
    "plt.tight_layout()\n",
    "plt.show()"
   ]
  },
  {
   "cell_type": "markdown",
   "metadata": {},
   "source": [
    "All variables' ditributions are left skewed with long tails to the right. They resemble to poisson or exponential shape distributions. \n",
    "\n",
    "As seen above, many variables have \"-2\" values meaning \"non-applicable\", which are replaced below for np.NaN values for better inspection and handling in the next notebook"
   ]
  },
  {
   "cell_type": "code",
   "execution_count": null,
   "metadata": {},
   "outputs": [],
   "source": [
    "# Replace -2 (non applicable) values in numeric variables\n",
    "\n",
    "df.replace(-2, np.nan, inplace=True)"
   ]
  },
  {
   "cell_type": "markdown",
   "metadata": {},
   "source": [
    "The resulting dataframe is loaded in a csv file for further missigness analysis and data transformation in a different notebook. "
   ]
  },
  {
   "cell_type": "code",
   "execution_count": null,
   "metadata": {},
   "outputs": [],
   "source": [
    "# Writing df dataframe to csv\n",
    "\n",
    "path = 'C:/Users/javie/OneDrive/Documents/springboard_projects/Capstone-2/data/interim/pre-selected.csv'\n",
    "\n",
    "df.to_csv(path)"
   ]
  }
 ],
 "metadata": {
  "kernelspec": {
   "display_name": "Python 3",
   "language": "python",
   "name": "python3"
  },
  "language_info": {
   "codemirror_mode": {
    "name": "ipython",
    "version": 3
   },
   "file_extension": ".py",
   "mimetype": "text/x-python",
   "name": "python",
   "nbconvert_exporter": "python",
   "pygments_lexer": "ipython3",
   "version": "3.7.7"
  }
 },
 "nbformat": 4,
 "nbformat_minor": 4
}
