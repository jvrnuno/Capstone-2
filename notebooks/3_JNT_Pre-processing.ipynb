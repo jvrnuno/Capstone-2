{
 "cells": [
  {
   "cell_type": "markdown",
   "metadata": {},
   "source": [
    "# 3. Pre-processing"
   ]
  },
  {
   "cell_type": "markdown",
   "metadata": {},
   "source": [
    "1. Importing packages and dataset\n",
    "2. Create dummies for categorical variables\n",
    "3. Scale numerical variables\n",
    "4. Split dataset in train and test sets"
   ]
  },
  {
   "cell_type": "markdown",
   "metadata": {},
   "source": [
    "### 3.1. Importing packages and dataset"
   ]
  },
  {
   "cell_type": "code",
   "execution_count": 1,
   "metadata": {},
   "outputs": [],
   "source": [
    "# Import the required packages\n",
    "\n",
    "import pandas as pd\n",
    "import numpy as np\n",
    "from sklearn.preprocessing import StandardScaler\n",
    "from sklearn.model_selection import train_test_split\n",
    "\n",
    "%matplotlib inline"
   ]
  },
  {
   "cell_type": "code",
   "execution_count": 2,
   "metadata": {},
   "outputs": [],
   "source": [
    "# Import pre-processed dataset and load it into a dataframe\n",
    "\n",
    "# Create path variable\n",
    "file = 'C:/Users/javie/OneDrive/Documents/springboard_projects/Capstone-2/data/interim/clean.csv'\n",
    "\n",
    "# Create dictionary with categorial variables to specify when loading csv in dataframe\n",
    "cat_dict = {'COOL_TYPE':'category',\n",
    "            'EQUIP_AGE':'category',\n",
    "            'HEAT_TYPE':'category',\n",
    "            'CLIMATE_REGION':'category',\n",
    "            'OWNERSHIP':'category',\n",
    "            'UNIT_TYPE':'category',\n",
    "            'DECADE_BUILT':'category',\n",
    "            'ATTIC':'category',\n",
    "            'BASEMENT':'category',\n",
    "            'BEDROOMS':'category',\n",
    "            'BATHROOMS':'category',\n",
    "            'HIGH_CEIL':'category',\n",
    "            'THERMOSTAT':'category',\n",
    "            'STORIES':'category',\n",
    "            'SIZEOFGARAGE':'category'\n",
    "              }\n",
    "\n",
    "# Load csv in dataframe\n",
    "df_noprocessed = pd.read_csv(file, index_col=0, dtype=cat_dict)"
   ]
  },
  {
   "cell_type": "code",
   "execution_count": 3,
   "metadata": {
    "scrolled": true
   },
   "outputs": [
    {
     "data": {
      "text/plain": [
       "(5666, 22)"
      ]
     },
     "execution_count": 3,
     "metadata": {},
     "output_type": "execute_result"
    }
   ],
   "source": [
    "# Check # of columns and rows imported\n",
    "df_noprocessed.shape"
   ]
  },
  {
   "cell_type": "code",
   "execution_count": 4,
   "metadata": {
    "scrolled": false
   },
   "outputs": [
    {
     "name": "stdout",
     "output_type": "stream",
     "text": [
      "<class 'pandas.core.frame.DataFrame'>\n",
      "Int64Index: 5666 entries, 0 to 5685\n",
      "Data columns (total 22 columns):\n",
      " #   Column              Non-Null Count  Dtype   \n",
      "---  ------              --------------  -----   \n",
      " 0   UNIT_TYPE           5666 non-null   category\n",
      " 1   CLIMATE_REGION      5666 non-null   category\n",
      " 2   DECADE_BUILT        5666 non-null   category\n",
      " 3   HDD65_log           5666 non-null   float64 \n",
      " 4   CDD65_log           5666 non-null   float64 \n",
      " 5   FLOOR_AREA_log      5666 non-null   float64 \n",
      " 6   COOL_TYPE           5666 non-null   category\n",
      " 7   EQUIP_AGE           5666 non-null   category\n",
      " 8   HEAT_TYPE           5666 non-null   category\n",
      " 9   THERMOSTAT          5666 non-null   category\n",
      " 10  HIGH_CEIL           5666 non-null   category\n",
      " 11  ATTIC               5666 non-null   category\n",
      " 12  BASEMENT            5666 non-null   category\n",
      " 13  BEDROOMS            5666 non-null   category\n",
      " 14  BATHROOMS           5666 non-null   category\n",
      " 15  SIZEOFGARAGE        5666 non-null   category\n",
      " 16  STORIES             5666 non-null   category\n",
      " 17  OWNERSHIP           5666 non-null   category\n",
      " 18  COOL_COST_log       5666 non-null   float64 \n",
      " 19  HEAT_COST_log       5666 non-null   float64 \n",
      " 20  WATERHEAT_COST_log  5666 non-null   float64 \n",
      " 21  ELECT_COST_log      5666 non-null   float64 \n",
      "dtypes: category(15), float64(7)\n",
      "memory usage: 440.1 KB\n"
     ]
    }
   ],
   "source": [
    "# Print info\n",
    "\n",
    "df_noprocessed.info()"
   ]
  },
  {
   "cell_type": "markdown",
   "metadata": {},
   "source": [
    "---\n",
    "### 3.2. Create dummies for categorical variables "
   ]
  },
  {
   "cell_type": "code",
   "execution_count": 5,
   "metadata": {},
   "outputs": [
    {
     "data": {
      "text/plain": [
       "(5666, 63)"
      ]
     },
     "execution_count": 5,
     "metadata": {},
     "output_type": "execute_result"
    }
   ],
   "source": [
    "# Get dummy variables for each categorical variable\n",
    "df = pd.get_dummies(df_noprocessed, drop_first=True)\n",
    "\n",
    "# Check number of total variables\n",
    "df.shape"
   ]
  },
  {
   "cell_type": "markdown",
   "metadata": {},
   "source": [
    "---\n",
    "### 3.3. Scale numerical variables"
   ]
  },
  {
   "cell_type": "code",
   "execution_count": 6,
   "metadata": {},
   "outputs": [
    {
     "data": {
      "text/html": [
       "<div>\n",
       "<style scoped>\n",
       "    .dataframe tbody tr th:only-of-type {\n",
       "        vertical-align: middle;\n",
       "    }\n",
       "\n",
       "    .dataframe tbody tr th {\n",
       "        vertical-align: top;\n",
       "    }\n",
       "\n",
       "    .dataframe thead th {\n",
       "        text-align: right;\n",
       "    }\n",
       "</style>\n",
       "<table border=\"1\" class=\"dataframe\">\n",
       "  <thead>\n",
       "    <tr style=\"text-align: right;\">\n",
       "      <th></th>\n",
       "      <th>HDD65_log</th>\n",
       "      <th>CDD65_log</th>\n",
       "      <th>FLOOR_AREA_log</th>\n",
       "      <th>COOL_COST_log</th>\n",
       "      <th>HEAT_COST_log</th>\n",
       "      <th>WATERHEAT_COST_log</th>\n",
       "      <th>ELECT_COST_log</th>\n",
       "      <th>UNIT_TYPE_Apartment in bld with 5+ units</th>\n",
       "      <th>UNIT_TYPE_Attached house</th>\n",
       "      <th>UNIT_TYPE_Detached house</th>\n",
       "      <th>...</th>\n",
       "      <th>BATHROOMS_5.5</th>\n",
       "      <th>SIZEOFGARAGE_1.0</th>\n",
       "      <th>SIZEOFGARAGE_2.0</th>\n",
       "      <th>SIZEOFGARAGE_3.0</th>\n",
       "      <th>STORIES_1</th>\n",
       "      <th>STORIES_2</th>\n",
       "      <th>STORIES_3</th>\n",
       "      <th>STORIES_Split-level</th>\n",
       "      <th>OWNERSHIP_Owned</th>\n",
       "      <th>OWNERSHIP_Rented</th>\n",
       "    </tr>\n",
       "  </thead>\n",
       "  <tbody>\n",
       "    <tr>\n",
       "      <th>1240</th>\n",
       "      <td>1.389703</td>\n",
       "      <td>-1.426682</td>\n",
       "      <td>1.158314</td>\n",
       "      <td>-0.672120</td>\n",
       "      <td>1.812598</td>\n",
       "      <td>0.967992</td>\n",
       "      <td>1.299843</td>\n",
       "      <td>-0.420985</td>\n",
       "      <td>-0.303539</td>\n",
       "      <td>0.718181</td>\n",
       "      <td>...</td>\n",
       "      <td>-0.044104</td>\n",
       "      <td>2.958404</td>\n",
       "      <td>-0.648937</td>\n",
       "      <td>-0.237279</td>\n",
       "      <td>-1.499618</td>\n",
       "      <td>1.631739</td>\n",
       "      <td>-0.122672</td>\n",
       "      <td>-0.141358</td>\n",
       "      <td>0.669047</td>\n",
       "      <td>-0.652234</td>\n",
       "    </tr>\n",
       "    <tr>\n",
       "      <th>5342</th>\n",
       "      <td>0.488570</td>\n",
       "      <td>-0.032963</td>\n",
       "      <td>-1.528677</td>\n",
       "      <td>-0.848361</td>\n",
       "      <td>-0.512813</td>\n",
       "      <td>0.032348</td>\n",
       "      <td>-0.472440</td>\n",
       "      <td>2.375382</td>\n",
       "      <td>-0.303539</td>\n",
       "      <td>-1.392407</td>\n",
       "      <td>...</td>\n",
       "      <td>-0.044104</td>\n",
       "      <td>-0.338020</td>\n",
       "      <td>-0.648937</td>\n",
       "      <td>-0.237279</td>\n",
       "      <td>0.666837</td>\n",
       "      <td>-0.612843</td>\n",
       "      <td>-0.122672</td>\n",
       "      <td>-0.141358</td>\n",
       "      <td>-1.494663</td>\n",
       "      <td>1.533193</td>\n",
       "    </tr>\n",
       "    <tr>\n",
       "      <th>4294</th>\n",
       "      <td>0.726930</td>\n",
       "      <td>-0.214864</td>\n",
       "      <td>1.492132</td>\n",
       "      <td>0.365246</td>\n",
       "      <td>0.300791</td>\n",
       "      <td>-0.197790</td>\n",
       "      <td>0.842732</td>\n",
       "      <td>-0.420985</td>\n",
       "      <td>-0.303539</td>\n",
       "      <td>0.718181</td>\n",
       "      <td>...</td>\n",
       "      <td>-0.044104</td>\n",
       "      <td>-0.338020</td>\n",
       "      <td>-0.648937</td>\n",
       "      <td>4.214450</td>\n",
       "      <td>-1.499618</td>\n",
       "      <td>1.631739</td>\n",
       "      <td>-0.122672</td>\n",
       "      <td>-0.141358</td>\n",
       "      <td>0.669047</td>\n",
       "      <td>-0.652234</td>\n",
       "    </tr>\n",
       "    <tr>\n",
       "      <th>1554</th>\n",
       "      <td>1.345237</td>\n",
       "      <td>-1.279294</td>\n",
       "      <td>1.859747</td>\n",
       "      <td>-0.149110</td>\n",
       "      <td>1.917198</td>\n",
       "      <td>2.073511</td>\n",
       "      <td>1.842578</td>\n",
       "      <td>-0.420985</td>\n",
       "      <td>-0.303539</td>\n",
       "      <td>0.718181</td>\n",
       "      <td>...</td>\n",
       "      <td>-0.044104</td>\n",
       "      <td>-0.338020</td>\n",
       "      <td>1.540983</td>\n",
       "      <td>-0.237279</td>\n",
       "      <td>-1.499618</td>\n",
       "      <td>1.631739</td>\n",
       "      <td>-0.122672</td>\n",
       "      <td>-0.141358</td>\n",
       "      <td>0.669047</td>\n",
       "      <td>-0.652234</td>\n",
       "    </tr>\n",
       "    <tr>\n",
       "      <th>5234</th>\n",
       "      <td>-0.698325</td>\n",
       "      <td>0.128392</td>\n",
       "      <td>-0.183397</td>\n",
       "      <td>0.340561</td>\n",
       "      <td>0.094772</td>\n",
       "      <td>-5.415794</td>\n",
       "      <td>-0.515094</td>\n",
       "      <td>-0.420985</td>\n",
       "      <td>3.294474</td>\n",
       "      <td>-1.392407</td>\n",
       "      <td>...</td>\n",
       "      <td>-0.044104</td>\n",
       "      <td>2.958404</td>\n",
       "      <td>-0.648937</td>\n",
       "      <td>-0.237279</td>\n",
       "      <td>-1.499618</td>\n",
       "      <td>1.631739</td>\n",
       "      <td>-0.122672</td>\n",
       "      <td>-0.141358</td>\n",
       "      <td>0.669047</td>\n",
       "      <td>-0.652234</td>\n",
       "    </tr>\n",
       "  </tbody>\n",
       "</table>\n",
       "<p>5 rows × 63 columns</p>\n",
       "</div>"
      ],
      "text/plain": [
       "      HDD65_log  CDD65_log  FLOOR_AREA_log  COOL_COST_log  HEAT_COST_log  \\\n",
       "1240   1.389703  -1.426682        1.158314      -0.672120       1.812598   \n",
       "5342   0.488570  -0.032963       -1.528677      -0.848361      -0.512813   \n",
       "4294   0.726930  -0.214864        1.492132       0.365246       0.300791   \n",
       "1554   1.345237  -1.279294        1.859747      -0.149110       1.917198   \n",
       "5234  -0.698325   0.128392       -0.183397       0.340561       0.094772   \n",
       "\n",
       "      WATERHEAT_COST_log  ELECT_COST_log  \\\n",
       "1240            0.967992        1.299843   \n",
       "5342            0.032348       -0.472440   \n",
       "4294           -0.197790        0.842732   \n",
       "1554            2.073511        1.842578   \n",
       "5234           -5.415794       -0.515094   \n",
       "\n",
       "      UNIT_TYPE_Apartment in bld with 5+ units  UNIT_TYPE_Attached house  \\\n",
       "1240                                 -0.420985                 -0.303539   \n",
       "5342                                  2.375382                 -0.303539   \n",
       "4294                                 -0.420985                 -0.303539   \n",
       "1554                                 -0.420985                 -0.303539   \n",
       "5234                                 -0.420985                  3.294474   \n",
       "\n",
       "      UNIT_TYPE_Detached house  ...  BATHROOMS_5.5  SIZEOFGARAGE_1.0  \\\n",
       "1240                  0.718181  ...      -0.044104          2.958404   \n",
       "5342                 -1.392407  ...      -0.044104         -0.338020   \n",
       "4294                  0.718181  ...      -0.044104         -0.338020   \n",
       "1554                  0.718181  ...      -0.044104         -0.338020   \n",
       "5234                 -1.392407  ...      -0.044104          2.958404   \n",
       "\n",
       "      SIZEOFGARAGE_2.0  SIZEOFGARAGE_3.0  STORIES_1  STORIES_2  STORIES_3  \\\n",
       "1240         -0.648937         -0.237279  -1.499618   1.631739  -0.122672   \n",
       "5342         -0.648937         -0.237279   0.666837  -0.612843  -0.122672   \n",
       "4294         -0.648937          4.214450  -1.499618   1.631739  -0.122672   \n",
       "1554          1.540983         -0.237279  -1.499618   1.631739  -0.122672   \n",
       "5234         -0.648937         -0.237279  -1.499618   1.631739  -0.122672   \n",
       "\n",
       "      STORIES_Split-level  OWNERSHIP_Owned  OWNERSHIP_Rented  \n",
       "1240            -0.141358         0.669047         -0.652234  \n",
       "5342            -0.141358        -1.494663          1.533193  \n",
       "4294            -0.141358         0.669047         -0.652234  \n",
       "1554            -0.141358         0.669047         -0.652234  \n",
       "5234            -0.141358         0.669047         -0.652234  \n",
       "\n",
       "[5 rows x 63 columns]"
      ]
     },
     "execution_count": 6,
     "metadata": {},
     "output_type": "execute_result"
    }
   ],
   "source": [
    "# Initialize a StandardScaler\n",
    "ss= StandardScaler()\n",
    "\n",
    "# Transform data\n",
    "scaled = ss.fit_transform(df)\n",
    "\n",
    "# Converto to a DataFrame\n",
    "columns = list(df.columns)\n",
    "df_scaled = pd.DataFrame(scaled, columns=columns)\n",
    "\n",
    "# Print sample\n",
    "df_scaled.sample(5)"
   ]
  },
  {
   "cell_type": "markdown",
   "metadata": {},
   "source": [
    "---\n",
    "### 3.4. Split dataset in train and test sets"
   ]
  },
  {
   "cell_type": "code",
   "execution_count": 7,
   "metadata": {},
   "outputs": [],
   "source": [
    "# Select features and target variables\n",
    "X = df_scaled.drop(['COOL_COST_log', 'HEAT_COST_log', 'WATERHEAT_COST_log', 'ELECT_COST_log'], axis=1)\n",
    "y = df_scaled[['COOL_COST_log', 'HEAT_COST_log', 'WATERHEAT_COST_log', 'ELECT_COST_log']]\n",
    "\n",
    "# Slit dataset in train and test sets\n",
    "X_train, X_test, y_train, y_test = train_test_split(X, y, test_size=0.3, random_state=42)"
   ]
  },
  {
   "cell_type": "markdown",
   "metadata": {},
   "source": [
    "#### Save train, test sets for modelling"
   ]
  },
  {
   "cell_type": "code",
   "execution_count": 8,
   "metadata": {},
   "outputs": [],
   "source": [
    "# Save processed dataset for next step\n",
    "\n",
    "X_train_path = 'C:/Users/javie/OneDrive/Documents/springboard_projects/Capstone-2/data/processed/X_train.csv'\n",
    "X_test_path = 'C:/Users/javie/OneDrive/Documents/springboard_projects/Capstone-2/data/processed/X_test.csv'\n",
    "y_train_path = 'C:/Users/javie/OneDrive/Documents/springboard_projects/Capstone-2/data/processed/y_train.csv'\n",
    "y_test_path = 'C:/Users/javie/OneDrive/Documents/springboard_projects/Capstone-2/data/processed/y_test.csv'\n",
    "\n",
    "# Dump train, test sets in csv files\n",
    "X_train.to_csv(X_train_path)\n",
    "X_test.to_csv(X_test_path)\n",
    "y_train.to_csv(y_train_path)\n",
    "y_test.to_csv(y_test_path)"
   ]
  }
 ],
 "metadata": {
  "kernelspec": {
   "display_name": "Python 3",
   "language": "python",
   "name": "python3"
  },
  "language_info": {
   "codemirror_mode": {
    "name": "ipython",
    "version": 3
   },
   "file_extension": ".py",
   "mimetype": "text/x-python",
   "name": "python",
   "nbconvert_exporter": "python",
   "pygments_lexer": "ipython3",
   "version": "3.7.7"
  }
 },
 "nbformat": 4,
 "nbformat_minor": 4
}
