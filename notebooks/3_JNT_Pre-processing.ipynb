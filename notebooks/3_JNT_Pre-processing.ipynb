{
 "cells": [
  {
   "cell_type": "markdown",
   "metadata": {},
   "source": [
    "# 3. Pre-processing"
   ]
  },
  {
   "cell_type": "markdown",
   "metadata": {},
   "source": [
    "1. Importing packages and dataset\n",
    "2. Create dummies for categorical variables\n",
    "3. Scale numerical variables\n",
    "4. Split dataset in train and test sets"
   ]
  },
  {
   "cell_type": "markdown",
   "metadata": {},
   "source": [
    "### 3.1. Importing packages and dataset"
   ]
  },
  {
   "cell_type": "code",
   "execution_count": 1,
   "metadata": {},
   "outputs": [],
   "source": [
    "# Import the required packages\n",
    "\n",
    "import pandas as pd\n",
    "import numpy as np\n",
    "\n",
    "from sklearn.preprocessing import StandardScaler\n",
    "from sklearn.model_selection import train_test_split\n",
    "\n",
    "%matplotlib inline"
   ]
  },
  {
   "cell_type": "code",
   "execution_count": 2,
   "metadata": {},
   "outputs": [],
   "source": [
    "# Import pre-processed dataset and load it into a dataframe\n",
    "\n",
    "# Create path variable\n",
    "file = 'C:/Users/javie/OneDrive/Documents/springboard_projects/Capstone-2/data/interim/clean.csv'\n",
    "\n",
    "# Create dictionary with categorial variables to specify when loading csv in dataframe\n",
    "cat_dict = {'COOL_TYPE':'category',\n",
    "            'EQUIP_AGE':'category',\n",
    "            'HEAT_TYPE':'category',\n",
    "            'CLIMATE_REGION':'category',\n",
    "            'OWNERSHIP':'category',\n",
    "            'UNIT_TYPE':'category',\n",
    "            'DECADE_BUILT':'category',\n",
    "            'ATTIC':'category',\n",
    "            'BASEMENT':'category',\n",
    "            'BEDROOMS':'category',\n",
    "            'BATHROOMS':'category',\n",
    "            'HIGH_CEIL':'category',\n",
    "            'THERMOSTAT':'category',\n",
    "            'STORIES':'category',\n",
    "            'SIZEOFGARAGE':'category'\n",
    "              }\n",
    "\n",
    "# Load csv in dataframe\n",
    "df_noprocessed = pd.read_csv(file, index_col=0, dtype=cat_dict)"
   ]
  },
  {
   "cell_type": "code",
   "execution_count": 3,
   "metadata": {
    "scrolled": true
   },
   "outputs": [
    {
     "data": {
      "text/plain": [
       "(5686, 21)"
      ]
     },
     "execution_count": 3,
     "metadata": {},
     "output_type": "execute_result"
    }
   ],
   "source": [
    "# Check # of columns and rows imported\n",
    "df_noprocessed.shape"
   ]
  },
  {
   "cell_type": "code",
   "execution_count": 4,
   "metadata": {
    "scrolled": false
   },
   "outputs": [
    {
     "name": "stdout",
     "output_type": "stream",
     "text": [
      "<class 'pandas.core.frame.DataFrame'>\n",
      "Int64Index: 5686 entries, 0 to 5685\n",
      "Data columns (total 21 columns):\n",
      " #   Column              Non-Null Count  Dtype   \n",
      "---  ------              --------------  -----   \n",
      " 0   UNIT_TYPE           5686 non-null   category\n",
      " 1   CLIMATE_REGION      5686 non-null   category\n",
      " 2   DECADE_BUILT        5686 non-null   category\n",
      " 3   FLOOR_AREA_log      5686 non-null   float64 \n",
      " 4   COOL_TYPE           5686 non-null   category\n",
      " 5   EQUIP_AGE           5686 non-null   category\n",
      " 6   HEAT_TYPE           5686 non-null   category\n",
      " 7   THERMOSTAT          5686 non-null   category\n",
      " 8   HIGH_CEIL           5686 non-null   category\n",
      " 9   ATTIC               5686 non-null   category\n",
      " 10  BASEMENT            5686 non-null   category\n",
      " 11  BEDROOMS            5555 non-null   category\n",
      " 12  BATHROOMS           5683 non-null   category\n",
      " 13  SIZEOFGARAGE        5686 non-null   category\n",
      " 14  STORIES             5686 non-null   category\n",
      " 15  OWNERSHIP           5686 non-null   category\n",
      " 16  COOL_COST_log       5686 non-null   float64 \n",
      " 17  HEAT_COST_log       5686 non-null   float64 \n",
      " 18  WATERHEAT_COST_log  5686 non-null   float64 \n",
      " 19  ELECT_COST_log      5686 non-null   float64 \n",
      " 20  TOT_COST_log        5686 non-null   float64 \n",
      "dtypes: category(15), float64(6)\n",
      "memory usage: 396.8 KB\n"
     ]
    }
   ],
   "source": [
    "# Print info\n",
    "\n",
    "df_noprocessed.info()"
   ]
  },
  {
   "cell_type": "markdown",
   "metadata": {},
   "source": [
    "---\n",
    "### 3.2. Create dummies for categorical variables "
   ]
  },
  {
   "cell_type": "code",
   "execution_count": 5,
   "metadata": {},
   "outputs": [
    {
     "data": {
      "text/plain": [
       "(5686, 53)"
      ]
     },
     "execution_count": 5,
     "metadata": {},
     "output_type": "execute_result"
    }
   ],
   "source": [
    "# Get dummy variables for each categorical variable\n",
    "df = pd.get_dummies(df_noprocessed, drop_first=True)\n",
    "\n",
    "# Check number of total variables\n",
    "df.shape"
   ]
  },
  {
   "cell_type": "markdown",
   "metadata": {},
   "source": [
    "---\n",
    "### 3.3. Split dataset in train and test sets"
   ]
  },
  {
   "cell_type": "code",
   "execution_count": 6,
   "metadata": {},
   "outputs": [],
   "source": [
    "# Select features and target variables\n",
    "X = df.drop(['COOL_COST_log', 'HEAT_COST_log', 'WATERHEAT_COST_log', 'ELECT_COST_log', 'TOT_COST_log'], axis=1)\n",
    "y = df[['COOL_COST_log', 'HEAT_COST_log', 'WATERHEAT_COST_log', 'ELECT_COST_log', 'TOT_COST_log']]\n",
    "\n",
    "# Slit dataset in train and test sets\n",
    "X_train, X_test, y_train, y_test = train_test_split(X, y, test_size=0.3)"
   ]
  },
  {
   "cell_type": "markdown",
   "metadata": {},
   "source": [
    "#### Save train, test sets for modelling"
   ]
  },
  {
   "cell_type": "code",
   "execution_count": 7,
   "metadata": {},
   "outputs": [],
   "source": [
    "# Save processed dataset for next step\n",
    "\n",
    "X_train_path = 'C:/Users/javie/OneDrive/Documents/springboard_projects/Capstone-2/data/processed/X_train.csv'\n",
    "X_test_path = 'C:/Users/javie/OneDrive/Documents/springboard_projects/Capstone-2/data/processed/X_test.csv'\n",
    "y_train_path = 'C:/Users/javie/OneDrive/Documents/springboard_projects/Capstone-2/data/processed/y_train.csv'\n",
    "y_test_path = 'C:/Users/javie/OneDrive/Documents/springboard_projects/Capstone-2/data/processed/y_test.csv'\n",
    "\n",
    "# Dump train, test sets in csv files\n",
    "X_train.to_csv(X_train_path)\n",
    "X_test.to_csv(X_test_path)\n",
    "y_train.to_csv(y_train_path)\n",
    "y_test.to_csv(y_test_path)"
   ]
  }
 ],
 "metadata": {
  "kernelspec": {
   "display_name": "Python 3",
   "language": "python",
   "name": "python3"
  },
  "language_info": {
   "codemirror_mode": {
    "name": "ipython",
    "version": 3
   },
   "file_extension": ".py",
   "mimetype": "text/x-python",
   "name": "python",
   "nbconvert_exporter": "python",
   "pygments_lexer": "ipython3",
   "version": "3.7.7"
  }
 },
 "nbformat": 4,
 "nbformat_minor": 4
}
